{
  "nbformat": 4,
  "nbformat_minor": 0,
  "metadata": {
    "colab": {
      "provenance": [],
      "authorship_tag": "ABX9TyPn7Rpx12h95tuh/1AvdQFC",
      "include_colab_link": true
    },
    "kernelspec": {
      "name": "python3",
      "display_name": "Python 3"
    },
    "language_info": {
      "name": "python"
    }
  },
  "cells": [
    {
      "cell_type": "markdown",
      "metadata": {
        "id": "view-in-github",
        "colab_type": "text"
      },
      "source": [
        "<a href=\"https://colab.research.google.com/github/ariana-caetano/data-engineering/blob/main/AcelerandoProcessamentoDados.ipynb\" target=\"_parent\"><img src=\"https://colab.research.google.com/assets/colab-badge.svg\" alt=\"Open In Colab\"/></a>"
      ]
    },
    {
      "cell_type": "markdown",
      "source": [
        "# Acelerando o processamento de dados no Pandas"
      ],
      "metadata": {
        "id": "FAtMBjgyWqyP"
      }
    },
    {
      "cell_type": "markdown",
      "source": [
        "<div align=\"center\"><img src=\"https://static.wixstatic.com/media/f9d0a3_0e4b8cf77ae44bbf9dd6d525ed31c85e~mv2.gif\" width=500/>\n",
        "</div>\n"
      ],
      "metadata": {
        "id": "S-yN8A7KqQyv"
      }
    },
    {
      "cell_type": "markdown",
      "source": [
        "Li e assisti alguns vídeos com dicas de como é possível melhorar a velocidade de processamento de dados, utilizando Pandas. E nesse artigo vou compartilhar com vocês."
      ],
      "metadata": {
        "id": "1220uD8-Wyfn"
      }
    },
    {
      "cell_type": "markdown",
      "source": [
        "### Criando um dataframe genérico"
      ],
      "metadata": {
        "id": "lc9A7qIFXLxe"
      }
    },
    {
      "cell_type": "code",
      "source": [
        "import pandas as pd\n",
        "import numpy as np"
      ],
      "metadata": {
        "id": "YPKnYClKYtNQ"
      },
      "execution_count": null,
      "outputs": []
    },
    {
      "cell_type": "code",
      "source": [
        "#criando uma função para criar um dataframe fake que será utilizado nas comparações de performance\n",
        "\n",
        "def create_dataframe(size, cols_type):\n",
        "  '''\n",
        "    size = quantidade de linhas do dataframe\n",
        "    cols_type = quantidade e o tipo de dados de cada coluna\n",
        "    os tipos possíveis de dados são:\n",
        "    \"c\" : \"cat\" \n",
        "    \"i\" : \"int\" \n",
        "    \"f\" : \"float\" \n",
        "    \"d\" : \"date\"\n",
        "    (por exemplo: cols_type = ciif serão 4 colunas com os seguintes tipos de dados categoria, inteiro, inteiro, float)\n",
        "  '''\n",
        "  suffix = {\"c\" : \"cat\", \"i\" : \"int\", \"f\" : \"float\", \"d\" : \"date\"}\n",
        "  col_names = [f\"column_{str(i)}_{suffix.get(col)}\" for i, col in enumerate(cols_type)]\n",
        "\n",
        "  df = pd.DataFrame()\n",
        "  for col, col_name in zip(cols_type, col_names):\n",
        "    if col=='c':\n",
        "      df[col_name] = np.random.choice(['yes','no'], size)\n",
        "    elif col=='i':\n",
        "      df[col_name] = np.random.randint(1, 50, size)\n",
        "    elif col=='f':\n",
        "      df[col_name] = np.random.uniform(0, 1, size)\n",
        "    else:\n",
        "      dates = pd.date_range('2020-01-01', '2022-12-31')\n",
        "      df[col_name] = np.random.choice(dates, size)\n",
        "\n",
        "  return df"
      ],
      "metadata": {
        "id": "w_Fk5wVQXkqR"
      },
      "execution_count": null,
      "outputs": []
    },
    {
      "cell_type": "code",
      "source": [
        "#e aqui temos o nosso dataframe\n",
        "create_dataframe(10, 'ciifd')"
      ],
      "metadata": {
        "colab": {
          "base_uri": "https://localhost:8080/",
          "height": 363
        },
        "id": "piJaIAA-eyel",
        "outputId": "d32633a1-82b6-495b-f125-718b4d7cd680"
      },
      "execution_count": null,
      "outputs": [
        {
          "output_type": "execute_result",
          "data": {
            "text/plain": [
              "  column_0_cat  column_1_int  column_2_int  column_3_float column_4_date\n",
              "0          yes            27             7        0.793021    2021-05-30\n",
              "1          yes            48             4        0.845378    2022-12-17\n",
              "2           no            38            30        0.153733    2021-01-27\n",
              "3           no            32            18        0.784998    2021-06-20\n",
              "4           no            13            38        0.459888    2021-07-11\n",
              "5          yes            43            14        0.353971    2020-03-14\n",
              "6          yes            22            45        0.018539    2020-12-30\n",
              "7          yes            34            39        0.236602    2021-09-08\n",
              "8           no            14            39        0.349280    2020-08-27\n",
              "9           no            28            27        0.406226    2020-09-24"
            ],
            "text/html": [
              "\n",
              "  <div id=\"df-65452eae-a083-4284-b7f9-7ea2a5a6a360\">\n",
              "    <div class=\"colab-df-container\">\n",
              "      <div>\n",
              "<style scoped>\n",
              "    .dataframe tbody tr th:only-of-type {\n",
              "        vertical-align: middle;\n",
              "    }\n",
              "\n",
              "    .dataframe tbody tr th {\n",
              "        vertical-align: top;\n",
              "    }\n",
              "\n",
              "    .dataframe thead th {\n",
              "        text-align: right;\n",
              "    }\n",
              "</style>\n",
              "<table border=\"1\" class=\"dataframe\">\n",
              "  <thead>\n",
              "    <tr style=\"text-align: right;\">\n",
              "      <th></th>\n",
              "      <th>column_0_cat</th>\n",
              "      <th>column_1_int</th>\n",
              "      <th>column_2_int</th>\n",
              "      <th>column_3_float</th>\n",
              "      <th>column_4_date</th>\n",
              "    </tr>\n",
              "  </thead>\n",
              "  <tbody>\n",
              "    <tr>\n",
              "      <th>0</th>\n",
              "      <td>yes</td>\n",
              "      <td>27</td>\n",
              "      <td>7</td>\n",
              "      <td>0.793021</td>\n",
              "      <td>2021-05-30</td>\n",
              "    </tr>\n",
              "    <tr>\n",
              "      <th>1</th>\n",
              "      <td>yes</td>\n",
              "      <td>48</td>\n",
              "      <td>4</td>\n",
              "      <td>0.845378</td>\n",
              "      <td>2022-12-17</td>\n",
              "    </tr>\n",
              "    <tr>\n",
              "      <th>2</th>\n",
              "      <td>no</td>\n",
              "      <td>38</td>\n",
              "      <td>30</td>\n",
              "      <td>0.153733</td>\n",
              "      <td>2021-01-27</td>\n",
              "    </tr>\n",
              "    <tr>\n",
              "      <th>3</th>\n",
              "      <td>no</td>\n",
              "      <td>32</td>\n",
              "      <td>18</td>\n",
              "      <td>0.784998</td>\n",
              "      <td>2021-06-20</td>\n",
              "    </tr>\n",
              "    <tr>\n",
              "      <th>4</th>\n",
              "      <td>no</td>\n",
              "      <td>13</td>\n",
              "      <td>38</td>\n",
              "      <td>0.459888</td>\n",
              "      <td>2021-07-11</td>\n",
              "    </tr>\n",
              "    <tr>\n",
              "      <th>5</th>\n",
              "      <td>yes</td>\n",
              "      <td>43</td>\n",
              "      <td>14</td>\n",
              "      <td>0.353971</td>\n",
              "      <td>2020-03-14</td>\n",
              "    </tr>\n",
              "    <tr>\n",
              "      <th>6</th>\n",
              "      <td>yes</td>\n",
              "      <td>22</td>\n",
              "      <td>45</td>\n",
              "      <td>0.018539</td>\n",
              "      <td>2020-12-30</td>\n",
              "    </tr>\n",
              "    <tr>\n",
              "      <th>7</th>\n",
              "      <td>yes</td>\n",
              "      <td>34</td>\n",
              "      <td>39</td>\n",
              "      <td>0.236602</td>\n",
              "      <td>2021-09-08</td>\n",
              "    </tr>\n",
              "    <tr>\n",
              "      <th>8</th>\n",
              "      <td>no</td>\n",
              "      <td>14</td>\n",
              "      <td>39</td>\n",
              "      <td>0.349280</td>\n",
              "      <td>2020-08-27</td>\n",
              "    </tr>\n",
              "    <tr>\n",
              "      <th>9</th>\n",
              "      <td>no</td>\n",
              "      <td>28</td>\n",
              "      <td>27</td>\n",
              "      <td>0.406226</td>\n",
              "      <td>2020-09-24</td>\n",
              "    </tr>\n",
              "  </tbody>\n",
              "</table>\n",
              "</div>\n",
              "      <button class=\"colab-df-convert\" onclick=\"convertToInteractive('df-65452eae-a083-4284-b7f9-7ea2a5a6a360')\"\n",
              "              title=\"Convert this dataframe to an interactive table.\"\n",
              "              style=\"display:none;\">\n",
              "        \n",
              "  <svg xmlns=\"http://www.w3.org/2000/svg\" height=\"24px\"viewBox=\"0 0 24 24\"\n",
              "       width=\"24px\">\n",
              "    <path d=\"M0 0h24v24H0V0z\" fill=\"none\"/>\n",
              "    <path d=\"M18.56 5.44l.94 2.06.94-2.06 2.06-.94-2.06-.94-.94-2.06-.94 2.06-2.06.94zm-11 1L8.5 8.5l.94-2.06 2.06-.94-2.06-.94L8.5 2.5l-.94 2.06-2.06.94zm10 10l.94 2.06.94-2.06 2.06-.94-2.06-.94-.94-2.06-.94 2.06-2.06.94z\"/><path d=\"M17.41 7.96l-1.37-1.37c-.4-.4-.92-.59-1.43-.59-.52 0-1.04.2-1.43.59L10.3 9.45l-7.72 7.72c-.78.78-.78 2.05 0 2.83L4 21.41c.39.39.9.59 1.41.59.51 0 1.02-.2 1.41-.59l7.78-7.78 2.81-2.81c.8-.78.8-2.07 0-2.86zM5.41 20L4 18.59l7.72-7.72 1.47 1.35L5.41 20z\"/>\n",
              "  </svg>\n",
              "      </button>\n",
              "      \n",
              "  <style>\n",
              "    .colab-df-container {\n",
              "      display:flex;\n",
              "      flex-wrap:wrap;\n",
              "      gap: 12px;\n",
              "    }\n",
              "\n",
              "    .colab-df-convert {\n",
              "      background-color: #E8F0FE;\n",
              "      border: none;\n",
              "      border-radius: 50%;\n",
              "      cursor: pointer;\n",
              "      display: none;\n",
              "      fill: #1967D2;\n",
              "      height: 32px;\n",
              "      padding: 0 0 0 0;\n",
              "      width: 32px;\n",
              "    }\n",
              "\n",
              "    .colab-df-convert:hover {\n",
              "      background-color: #E2EBFA;\n",
              "      box-shadow: 0px 1px 2px rgba(60, 64, 67, 0.3), 0px 1px 3px 1px rgba(60, 64, 67, 0.15);\n",
              "      fill: #174EA6;\n",
              "    }\n",
              "\n",
              "    [theme=dark] .colab-df-convert {\n",
              "      background-color: #3B4455;\n",
              "      fill: #D2E3FC;\n",
              "    }\n",
              "\n",
              "    [theme=dark] .colab-df-convert:hover {\n",
              "      background-color: #434B5C;\n",
              "      box-shadow: 0px 1px 3px 1px rgba(0, 0, 0, 0.15);\n",
              "      filter: drop-shadow(0px 1px 2px rgba(0, 0, 0, 0.3));\n",
              "      fill: #FFFFFF;\n",
              "    }\n",
              "  </style>\n",
              "\n",
              "      <script>\n",
              "        const buttonEl =\n",
              "          document.querySelector('#df-65452eae-a083-4284-b7f9-7ea2a5a6a360 button.colab-df-convert');\n",
              "        buttonEl.style.display =\n",
              "          google.colab.kernel.accessAllowed ? 'block' : 'none';\n",
              "\n",
              "        async function convertToInteractive(key) {\n",
              "          const element = document.querySelector('#df-65452eae-a083-4284-b7f9-7ea2a5a6a360');\n",
              "          const dataTable =\n",
              "            await google.colab.kernel.invokeFunction('convertToInteractive',\n",
              "                                                     [key], {});\n",
              "          if (!dataTable) return;\n",
              "\n",
              "          const docLinkHtml = 'Like what you see? Visit the ' +\n",
              "            '<a target=\"_blank\" href=https://colab.research.google.com/notebooks/data_table.ipynb>data table notebook</a>'\n",
              "            + ' to learn more about interactive tables.';\n",
              "          element.innerHTML = '';\n",
              "          dataTable['output_type'] = 'display_data';\n",
              "          await google.colab.output.renderOutput(dataTable, element);\n",
              "          const docLink = document.createElement('div');\n",
              "          docLink.innerHTML = docLinkHtml;\n",
              "          element.appendChild(docLink);\n",
              "        }\n",
              "      </script>\n",
              "    </div>\n",
              "  </div>\n",
              "  "
            ]
          },
          "metadata": {},
          "execution_count": 3
        }
      ]
    },
    {
      "cell_type": "markdown",
      "source": [
        "Essa função de criar o dataframe genérico vai facilitar nossos testes, pois poderemos criar vários dataframes, com a quantidade de linhas e colunas que quisermos."
      ],
      "metadata": {
        "id": "jADNJWe1fakA"
      }
    },
    {
      "cell_type": "markdown",
      "source": [
        "### Criando um problema\n",
        "\n",
        "Agora vamos inventar um problema para resolvermos:\n",
        "\n",
        "* Se a coluna `column_1_int` for maior que 25 e a `column_3_float` for maior que 0.5 então `new_column` será igual a yes;\n",
        "* Senão ela será igual a no;\n",
        "* Se a coluna `column_2_int` for maior que 40 a `new_column` será igual a yes\n",
        "\n",
        "Os dados e o problema são bastante fictícios nesse exemplo, mas a criação de uma nova coluna baseado em critérios de outras colunas acontece com frequência.\n"
      ],
      "metadata": {
        "id": "cKkZR-uxjorp"
      }
    },
    {
      "cell_type": "code",
      "source": [
        "#função para aplicar as regras que criamos acima\n",
        "def new_column_data(row):\n",
        "  if row['column_2_int'] > 40:\n",
        "    return 'yes'\n",
        "  if (row['column_1_int'] > 25) & (row['column_3_float'] > 0.5):\n",
        "    return 'yes'\n",
        "  return 'no'"
      ],
      "metadata": {
        "id": "uA6hSDPEl06X"
      },
      "execution_count": null,
      "outputs": []
    },
    {
      "cell_type": "markdown",
      "source": [
        "### Aplicando as regras e criando a nova coluna\n",
        "\n"
      ],
      "metadata": {
        "id": "IeyE3CVYonoG"
      }
    },
    {
      "cell_type": "markdown",
      "source": [
        "Vamos utilizar uma função no Python que vai nos mostrar o tempo gasto na execução de cada um dos métodos que utilizaremos para solucionar e criar a nossa nova coluna.\n",
        "A função é a `%%timeit`"
      ],
      "metadata": {
        "id": "PVew2G4qsM0_"
      }
    },
    {
      "cell_type": "markdown",
      "source": [
        "#### 1. Usando Loop"
      ],
      "metadata": {
        "id": "Jet1PH_xrKMe"
      }
    },
    {
      "cell_type": "code",
      "source": [
        "%%timeit\n",
        "df = create_dataframe(10000, 'ciifdcffd')\n",
        "for index, row in df.iterrows():\n",
        "  df.loc[index, 'new_column'] = new_column_data(row)"
      ],
      "metadata": {
        "colab": {
          "base_uri": "https://localhost:8080/"
        },
        "id": "Hm2y3p07pZ-Q",
        "outputId": "40891d3d-430d-4927-ed04-b514ea8096d2"
      },
      "execution_count": null,
      "outputs": [
        {
          "output_type": "stream",
          "name": "stdout",
          "text": [
            "4.96 s ± 109 ms per loop (mean ± std. dev. of 7 runs, 1 loop each)\n"
          ]
        }
      ]
    },
    {
      "cell_type": "markdown",
      "source": [
        "#### 2. Usando Apply"
      ],
      "metadata": {
        "id": "UwZ4DbdppbQB"
      }
    },
    {
      "cell_type": "code",
      "source": [
        "%%timeit\n",
        "df = create_dataframe(10000, 'ciifdcffd')\n",
        "df['new_column'] = df.apply(new_column_data, axis=1)"
      ],
      "metadata": {
        "colab": {
          "base_uri": "https://localhost:8080/"
        },
        "id": "CHbA-OiasFJv",
        "outputId": "def31860-b88f-4b25-aae7-4a577688b46b"
      },
      "execution_count": null,
      "outputs": [
        {
          "output_type": "stream",
          "name": "stdout",
          "text": [
            "219 ms ± 14.2 ms per loop (mean ± std. dev. of 7 runs, 1 loop each)\n"
          ]
        }
      ]
    },
    {
      "cell_type": "markdown",
      "source": [
        "#### 3. Usando Vetorização"
      ],
      "metadata": {
        "id": "WQ0EamZBthv3"
      }
    },
    {
      "cell_type": "markdown",
      "source": [
        "E aqui está a mágica.\n",
        "\n",
        "A vetorização.\n",
        "\n",
        "A vetorização é usada para acelerar o código Python sem usar loop. Seu uso pode ajudar a minimizar o tempo de execução do código de forma eficiente.\n",
        "Aqui a função é aplicada no dataframe inteiro ao invés de aplicar linha a linha."
      ],
      "metadata": {
        "id": "x8-BT_NrtoQW"
      }
    },
    {
      "cell_type": "code",
      "source": [
        "%%timeit\n",
        "df = create_dataframe(10000, 'ciifdcffd')\n",
        "df['new_column'] = 'no'\n",
        "df.loc[((df['column_1_int'] > 25) & \n",
        "        (df['column_3_float'] > 0.5)) | \n",
        "        (df['column_2_int'] > 40), 'new_column'] = 'yes'"
      ],
      "metadata": {
        "colab": {
          "base_uri": "https://localhost:8080/"
        },
        "id": "UpLxZbo5tgtw",
        "outputId": "93f5d5d5-bc65-4349-8ff0-10559746fbf3"
      },
      "execution_count": null,
      "outputs": [
        {
          "output_type": "stream",
          "name": "stdout",
          "text": [
            "15 ms ± 4.77 ms per loop (mean ± std. dev. of 7 runs, 100 loops each)\n"
          ]
        }
      ]
    },
    {
      "cell_type": "markdown",
      "source": [
        "### Resultados"
      ],
      "metadata": {
        "id": "aC9wcdywvyUQ"
      }
    },
    {
      "cell_type": "code",
      "source": [
        "results = pd.DataFrame(\n",
        "    [\n",
        "        ['loop', 4960],\n",
        "        ['apply', 219],\n",
        "        ['vetorizacao', 15]\n",
        "    ],\n",
        "    columns=['type', 'time']\n",
        ")"
      ],
      "metadata": {
        "id": "H0-TimClv2AG"
      },
      "execution_count": null,
      "outputs": []
    },
    {
      "cell_type": "code",
      "source": [
        "results"
      ],
      "metadata": {
        "colab": {
          "base_uri": "https://localhost:8080/",
          "height": 143
        },
        "id": "xQ_pac62x7i4",
        "outputId": "82d998ca-e7fb-43f8-d8b5-40fd45d29084"
      },
      "execution_count": null,
      "outputs": [
        {
          "output_type": "execute_result",
          "data": {
            "text/plain": [
              "          type  time\n",
              "0         loop  4960\n",
              "1        apply   219\n",
              "2  vetorizacao    15"
            ],
            "text/html": [
              "\n",
              "  <div id=\"df-e6236280-4047-4ed3-8554-0e2e8a06d168\">\n",
              "    <div class=\"colab-df-container\">\n",
              "      <div>\n",
              "<style scoped>\n",
              "    .dataframe tbody tr th:only-of-type {\n",
              "        vertical-align: middle;\n",
              "    }\n",
              "\n",
              "    .dataframe tbody tr th {\n",
              "        vertical-align: top;\n",
              "    }\n",
              "\n",
              "    .dataframe thead th {\n",
              "        text-align: right;\n",
              "    }\n",
              "</style>\n",
              "<table border=\"1\" class=\"dataframe\">\n",
              "  <thead>\n",
              "    <tr style=\"text-align: right;\">\n",
              "      <th></th>\n",
              "      <th>type</th>\n",
              "      <th>time</th>\n",
              "    </tr>\n",
              "  </thead>\n",
              "  <tbody>\n",
              "    <tr>\n",
              "      <th>0</th>\n",
              "      <td>loop</td>\n",
              "      <td>4960</td>\n",
              "    </tr>\n",
              "    <tr>\n",
              "      <th>1</th>\n",
              "      <td>apply</td>\n",
              "      <td>219</td>\n",
              "    </tr>\n",
              "    <tr>\n",
              "      <th>2</th>\n",
              "      <td>vetorizacao</td>\n",
              "      <td>15</td>\n",
              "    </tr>\n",
              "  </tbody>\n",
              "</table>\n",
              "</div>\n",
              "      <button class=\"colab-df-convert\" onclick=\"convertToInteractive('df-e6236280-4047-4ed3-8554-0e2e8a06d168')\"\n",
              "              title=\"Convert this dataframe to an interactive table.\"\n",
              "              style=\"display:none;\">\n",
              "        \n",
              "  <svg xmlns=\"http://www.w3.org/2000/svg\" height=\"24px\"viewBox=\"0 0 24 24\"\n",
              "       width=\"24px\">\n",
              "    <path d=\"M0 0h24v24H0V0z\" fill=\"none\"/>\n",
              "    <path d=\"M18.56 5.44l.94 2.06.94-2.06 2.06-.94-2.06-.94-.94-2.06-.94 2.06-2.06.94zm-11 1L8.5 8.5l.94-2.06 2.06-.94-2.06-.94L8.5 2.5l-.94 2.06-2.06.94zm10 10l.94 2.06.94-2.06 2.06-.94-2.06-.94-.94-2.06-.94 2.06-2.06.94z\"/><path d=\"M17.41 7.96l-1.37-1.37c-.4-.4-.92-.59-1.43-.59-.52 0-1.04.2-1.43.59L10.3 9.45l-7.72 7.72c-.78.78-.78 2.05 0 2.83L4 21.41c.39.39.9.59 1.41.59.51 0 1.02-.2 1.41-.59l7.78-7.78 2.81-2.81c.8-.78.8-2.07 0-2.86zM5.41 20L4 18.59l7.72-7.72 1.47 1.35L5.41 20z\"/>\n",
              "  </svg>\n",
              "      </button>\n",
              "      \n",
              "  <style>\n",
              "    .colab-df-container {\n",
              "      display:flex;\n",
              "      flex-wrap:wrap;\n",
              "      gap: 12px;\n",
              "    }\n",
              "\n",
              "    .colab-df-convert {\n",
              "      background-color: #E8F0FE;\n",
              "      border: none;\n",
              "      border-radius: 50%;\n",
              "      cursor: pointer;\n",
              "      display: none;\n",
              "      fill: #1967D2;\n",
              "      height: 32px;\n",
              "      padding: 0 0 0 0;\n",
              "      width: 32px;\n",
              "    }\n",
              "\n",
              "    .colab-df-convert:hover {\n",
              "      background-color: #E2EBFA;\n",
              "      box-shadow: 0px 1px 2px rgba(60, 64, 67, 0.3), 0px 1px 3px 1px rgba(60, 64, 67, 0.15);\n",
              "      fill: #174EA6;\n",
              "    }\n",
              "\n",
              "    [theme=dark] .colab-df-convert {\n",
              "      background-color: #3B4455;\n",
              "      fill: #D2E3FC;\n",
              "    }\n",
              "\n",
              "    [theme=dark] .colab-df-convert:hover {\n",
              "      background-color: #434B5C;\n",
              "      box-shadow: 0px 1px 3px 1px rgba(0, 0, 0, 0.15);\n",
              "      filter: drop-shadow(0px 1px 2px rgba(0, 0, 0, 0.3));\n",
              "      fill: #FFFFFF;\n",
              "    }\n",
              "  </style>\n",
              "\n",
              "      <script>\n",
              "        const buttonEl =\n",
              "          document.querySelector('#df-e6236280-4047-4ed3-8554-0e2e8a06d168 button.colab-df-convert');\n",
              "        buttonEl.style.display =\n",
              "          google.colab.kernel.accessAllowed ? 'block' : 'none';\n",
              "\n",
              "        async function convertToInteractive(key) {\n",
              "          const element = document.querySelector('#df-e6236280-4047-4ed3-8554-0e2e8a06d168');\n",
              "          const dataTable =\n",
              "            await google.colab.kernel.invokeFunction('convertToInteractive',\n",
              "                                                     [key], {});\n",
              "          if (!dataTable) return;\n",
              "\n",
              "          const docLinkHtml = 'Like what you see? Visit the ' +\n",
              "            '<a target=\"_blank\" href=https://colab.research.google.com/notebooks/data_table.ipynb>data table notebook</a>'\n",
              "            + ' to learn more about interactive tables.';\n",
              "          element.innerHTML = '';\n",
              "          dataTable['output_type'] = 'display_data';\n",
              "          await google.colab.output.renderOutput(dataTable, element);\n",
              "          const docLink = document.createElement('div');\n",
              "          docLink.innerHTML = docLinkHtml;\n",
              "          element.appendChild(docLink);\n",
              "        }\n",
              "      </script>\n",
              "    </div>\n",
              "  </div>\n",
              "  "
            ]
          },
          "metadata": {},
          "execution_count": 9
        }
      ]
    },
    {
      "cell_type": "code",
      "source": [
        "results.set_index('type')['time'].plot(kind='bar')"
      ],
      "metadata": {
        "colab": {
          "base_uri": "https://localhost:8080/",
          "height": 344
        },
        "id": "5_mtmD1_yBQH",
        "outputId": "2ceb797d-1d7a-4316-8700-5f6663365af3"
      },
      "execution_count": null,
      "outputs": [
        {
          "output_type": "execute_result",
          "data": {
            "text/plain": [
              "<matplotlib.axes._subplots.AxesSubplot at 0x7fd1aa8bd670>"
            ]
          },
          "metadata": {},
          "execution_count": 10
        },
        {
          "output_type": "display_data",
          "data": {
            "text/plain": [
              "<Figure size 432x288 with 1 Axes>"
            ],
            "image/png": "[encoded data removed]"
          },
          "metadata": {
            "needs_background": "light"
          }
        }
      ]
    },
    {
      "cell_type": "markdown",
      "source": [
        "A vetorização se mostrou o método com melhor desempenho, sendo muitas vezes mais rápida que o uso de loop."
      ],
      "metadata": {
        "id": "rGVDAKEmyq1_"
      }
    },
    {
      "cell_type": "markdown",
      "source": [
        "### Dica bônus"
      ],
      "metadata": {
        "id": "30lCGyp185DR"
      }
    },
    {
      "cell_type": "markdown",
      "source": [
        "E qual o melhor formato para salvar um arquivo, qual o tipo de dado deixa nosso dataframe mais eficiente?"
      ],
      "metadata": {
        "id": "VnVLLBn89B3O"
      }
    },
    {
      "cell_type": "markdown",
      "source": [
        "#### Tipos de dados"
      ],
      "metadata": {
        "id": "RTldKB5Z-N0-"
      }
    },
    {
      "cell_type": "markdown",
      "source": [
        "Esse é um tópico importante, ao qual devemos nos atentar na hora de tratar os dados e tentar deixá-los sempre no melhor e menor formato possivel.\n",
        "\n",
        "Vamos fazer alguns testes aqui também!"
      ],
      "metadata": {
        "id": "Nzp3yDyE-S2w"
      }
    },
    {
      "cell_type": "code",
      "source": [
        "#nos testes anteriores criamos um dataframe de apenas 1.000.000 de linhas\n",
        "#vamos criar um pouco maior agora 5.000.000 e ver o impacto no tamanho do nosso dataframe\n",
        "\n",
        "df = create_dataframe(5000000, 'ciifdcffd')\n",
        "df.info()"
      ],
      "metadata": {
        "colab": {
          "base_uri": "https://localhost:8080/"
        },
        "id": "efZiC5Jq-nx6",
        "outputId": "baf661b9-a2d4-4d00-cf50-0f77f23fd8e0"
      },
      "execution_count": null,
      "outputs": [
        {
          "output_type": "stream",
          "name": "stdout",
          "text": [
            "<class 'pandas.core.frame.DataFrame'>\n",
            "RangeIndex: 5000000 entries, 0 to 4999999\n",
            "Data columns (total 9 columns):\n",
            " #   Column          Dtype         \n",
            "---  ------          -----         \n",
            " 0   column_0_cat    object        \n",
            " 1   column_1_int    int64         \n",
            " 2   column_2_int    int64         \n",
            " 3   column_3_float  float64       \n",
            " 4   column_4_date   datetime64[ns]\n",
            " 5   column_5_cat    object        \n",
            " 6   column_6_float  float64       \n",
            " 7   column_7_float  float64       \n",
            " 8   column_8_date   datetime64[ns]\n",
            "dtypes: datetime64[ns](2), float64(3), int64(2), object(2)\n",
            "memory usage: 343.3+ MB\n"
          ]
        }
      ]
    },
    {
      "cell_type": "markdown",
      "source": [
        "Vamos começar alterando as colunas categóricas para o tipo `category` "
      ],
      "metadata": {
        "id": "h0EuzzmqH-jB"
      }
    },
    {
      "cell_type": "code",
      "source": [
        "df['column_0_cat'] = df['column_0_cat'].astype('category')\n",
        "df['column_5_cat'] = df['column_5_cat'].astype('category')"
      ],
      "metadata": {
        "id": "urGdVwd4GeCh"
      },
      "execution_count": null,
      "outputs": []
    },
    {
      "cell_type": "code",
      "source": [
        "df.info()"
      ],
      "metadata": {
        "colab": {
          "base_uri": "https://localhost:8080/"
        },
        "id": "XtRVcTnSHWbP",
        "outputId": "16a1adbf-4620-485f-c7c7-4075be692716"
      },
      "execution_count": null,
      "outputs": [
        {
          "output_type": "stream",
          "name": "stdout",
          "text": [
            "<class 'pandas.core.frame.DataFrame'>\n",
            "RangeIndex: 5000000 entries, 0 to 4999999\n",
            "Data columns (total 9 columns):\n",
            " #   Column          Dtype         \n",
            "---  ------          -----         \n",
            " 0   column_0_cat    category      \n",
            " 1   column_1_int    int64         \n",
            " 2   column_2_int    int64         \n",
            " 3   column_3_float  float64       \n",
            " 4   column_4_date   datetime64[ns]\n",
            " 5   column_5_cat    category      \n",
            " 6   column_6_float  float64       \n",
            " 7   column_7_float  float64       \n",
            " 8   column_8_date   datetime64[ns]\n",
            "dtypes: category(2), datetime64[ns](2), float64(3), int64(2)\n",
            "memory usage: 276.6 MB\n"
          ]
        }
      ]
    },
    {
      "cell_type": "markdown",
      "source": [
        "O tamanho do nosso dataframe foi reduzido.\n",
        "\n",
        "Redução de: 343.3MB\n",
        "\n",
        "Para: 276.6 MB"
      ],
      "metadata": {
        "id": "EeW8zFijDtRJ"
      }
    },
    {
      "cell_type": "markdown",
      "source": [
        "Nesse caso podemos melhorar ainda mais a coluna de categoria, pois temos apenas 2 categorias: yes/no. Então podemos definí-la como booleana (true/false)."
      ],
      "metadata": {
        "id": "1qTSe576Gy2o"
      }
    },
    {
      "cell_type": "code",
      "source": [
        "df['column_0_cat'] = df['column_0_cat'].map({'yes':True, 'no': False})\n",
        "df['column_5_cat'] = df['column_5_cat'].map({'yes':True, 'no': False})"
      ],
      "metadata": {
        "id": "ZhskM3W6G1Bm"
      },
      "execution_count": null,
      "outputs": []
    },
    {
      "cell_type": "code",
      "source": [
        "df.info()"
      ],
      "metadata": {
        "colab": {
          "base_uri": "https://localhost:8080/"
        },
        "id": "xyuX8jEBHXkn",
        "outputId": "bdb3c7e5-15ce-4a8f-dcbe-b8aa6380d135"
      },
      "execution_count": null,
      "outputs": [
        {
          "output_type": "stream",
          "name": "stdout",
          "text": [
            "<class 'pandas.core.frame.DataFrame'>\n",
            "RangeIndex: 5000000 entries, 0 to 4999999\n",
            "Data columns (total 9 columns):\n",
            " #   Column          Dtype         \n",
            "---  ------          -----         \n",
            " 0   column_0_cat    category      \n",
            " 1   column_1_int    int64         \n",
            " 2   column_2_int    int64         \n",
            " 3   column_3_float  float64       \n",
            " 4   column_4_date   datetime64[ns]\n",
            " 5   column_5_cat    category      \n",
            " 6   column_6_float  float64       \n",
            " 7   column_7_float  float64       \n",
            " 8   column_8_date   datetime64[ns]\n",
            "dtypes: category(2), datetime64[ns](2), float64(3), int64(2)\n",
            "memory usage: 276.6 MB\n"
          ]
        }
      ]
    },
    {
      "cell_type": "markdown",
      "source": [
        "E qual foi a redução? \n",
        "Nesse caso não houve, mas é uma opção de formatação de tipo de dado.\n"
      ],
      "metadata": {
        "id": "LokueLpeHTN3"
      }
    },
    {
      "cell_type": "markdown",
      "source": [
        "Agora vamos escolher o tipo inteiro mais adequado"
      ],
      "metadata": {
        "id": "9_lnS7w_EEkm"
      }
    },
    {
      "cell_type": "code",
      "source": [
        "# mostra os valores limites para cada tipo int\n",
        "print(np.iinfo(np.int8))\n",
        "\n",
        "print(np.iinfo(np.int16))\n",
        "\n",
        "print(np.iinfo(np.int32))\n",
        "\n",
        "print(np.iinfo(np.int64))  "
      ],
      "metadata": {
        "colab": {
          "base_uri": "https://localhost:8080/"
        },
        "id": "HYBf0Q-NEvQq",
        "outputId": "884e6539-dce4-4fb6-a7fd-a77f652f8d3d"
      },
      "execution_count": null,
      "outputs": [
        {
          "output_type": "stream",
          "name": "stdout",
          "text": [
            "Machine parameters for int8\n",
            "---------------------------------------------------------------\n",
            "min = -128\n",
            "max = 127\n",
            "---------------------------------------------------------------\n",
            "\n",
            "Machine parameters for int16\n",
            "---------------------------------------------------------------\n",
            "min = -32768\n",
            "max = 32767\n",
            "---------------------------------------------------------------\n",
            "\n",
            "Machine parameters for int32\n",
            "---------------------------------------------------------------\n",
            "min = -2147483648\n",
            "max = 2147483647\n",
            "---------------------------------------------------------------\n",
            "\n",
            "Machine parameters for int64\n",
            "---------------------------------------------------------------\n",
            "min = -9223372036854775808\n",
            "max = 9223372036854775807\n",
            "---------------------------------------------------------------\n",
            "\n"
          ]
        }
      ]
    },
    {
      "cell_type": "code",
      "source": [
        "#o range das colunas do tipo inteiro é de 1 a 49\n",
        "print(df['column_1_int'].min())\n",
        "print(df['column_1_int'].max())\n",
        "print(df['column_2_int'].min())\n",
        "print(df['column_2_int'].max())"
      ],
      "metadata": {
        "colab": {
          "base_uri": "https://localhost:8080/"
        },
        "id": "NWre7dxOIkF4",
        "outputId": "7e2d0dd6-6cf1-470e-c055-c6f207839bcd"
      },
      "execution_count": null,
      "outputs": [
        {
          "output_type": "stream",
          "name": "stdout",
          "text": [
            "1\n",
            "49\n",
            "1\n",
            "49\n"
          ]
        }
      ]
    },
    {
      "cell_type": "code",
      "source": [
        "#podemos utilizar aqui int8\n",
        "df['column_1_int'] = df['column_1_int'].astype('int8')\n",
        "df['column_2_int'] = df['column_2_int'].astype('int8')"
      ],
      "metadata": {
        "id": "Tap_-ezjGjeG"
      },
      "execution_count": null,
      "outputs": []
    },
    {
      "cell_type": "code",
      "source": [
        "df.info()"
      ],
      "metadata": {
        "colab": {
          "base_uri": "https://localhost:8080/"
        },
        "id": "Bquz1SkkIMrX",
        "outputId": "97fb722b-792f-4418-b4b4-d167cd273e82"
      },
      "execution_count": null,
      "outputs": [
        {
          "output_type": "stream",
          "name": "stdout",
          "text": [
            "<class 'pandas.core.frame.DataFrame'>\n",
            "RangeIndex: 5000000 entries, 0 to 4999999\n",
            "Data columns (total 9 columns):\n",
            " #   Column          Dtype         \n",
            "---  ------          -----         \n",
            " 0   column_0_cat    category      \n",
            " 1   column_1_int    int8          \n",
            " 2   column_2_int    int8          \n",
            " 3   column_3_float  float64       \n",
            " 4   column_4_date   datetime64[ns]\n",
            " 5   column_5_cat    category      \n",
            " 6   column_6_float  float64       \n",
            " 7   column_7_float  float64       \n",
            " 8   column_8_date   datetime64[ns]\n",
            "dtypes: category(2), datetime64[ns](2), float64(3), int8(2)\n",
            "memory usage: 209.8 MB\n"
          ]
        }
      ]
    },
    {
      "cell_type": "markdown",
      "source": [
        "Redução de: 276.6MB\n",
        "\n",
        "Para: 209.8MB"
      ],
      "metadata": {
        "id": "BXTU7B4iOlwg"
      }
    },
    {
      "cell_type": "markdown",
      "source": [
        "E para o tipo float?"
      ],
      "metadata": {
        "id": "BCyauQhzFLgH"
      }
    },
    {
      "cell_type": "code",
      "source": [
        "# mostra os valores limites para cada tipo float\n",
        "print(np.finfo(np.float16))\n",
        "\n",
        "print(np.finfo(np.float32))\n",
        "\n",
        "print(np.finfo(np.float64)) "
      ],
      "metadata": {
        "colab": {
          "base_uri": "https://localhost:8080/"
        },
        "id": "S5vqqReLFQmC",
        "outputId": "2dd355f9-b056-4a2a-8556-875c919c9a97"
      },
      "execution_count": null,
      "outputs": [
        {
          "output_type": "stream",
          "name": "stdout",
          "text": [
            "Machine parameters for float16\n",
            "---------------------------------------------------------------\n",
            "precision =   3   resolution = 1.00040e-03\n",
            "machep =    -10   eps =        9.76562e-04\n",
            "negep =     -11   epsneg =     4.88281e-04\n",
            "minexp =    -14   tiny =       6.10352e-05\n",
            "maxexp =     16   max =        6.55040e+04\n",
            "nexp =        5   min =        -max\n",
            "---------------------------------------------------------------\n",
            "\n",
            "Machine parameters for float32\n",
            "---------------------------------------------------------------\n",
            "precision =   6   resolution = 1.0000000e-06\n",
            "machep =    -23   eps =        1.1920929e-07\n",
            "negep =     -24   epsneg =     5.9604645e-08\n",
            "minexp =   -126   tiny =       1.1754944e-38\n",
            "maxexp =    128   max =        3.4028235e+38\n",
            "nexp =        8   min =        -max\n",
            "---------------------------------------------------------------\n",
            "\n",
            "Machine parameters for float64\n",
            "---------------------------------------------------------------\n",
            "precision =  15   resolution = 1.0000000000000001e-15\n",
            "machep =    -52   eps =        2.2204460492503131e-16\n",
            "negep =     -53   epsneg =     1.1102230246251565e-16\n",
            "minexp =  -1022   tiny =       2.2250738585072014e-308\n",
            "maxexp =   1024   max =        1.7976931348623157e+308\n",
            "nexp =       11   min =        -max\n",
            "---------------------------------------------------------------\n",
            "\n"
          ]
        }
      ]
    },
    {
      "cell_type": "markdown",
      "source": [
        "Para o tipo float é um pouco diferente, pois as alterações são realizadas na precisão do número. Então é extremamente necessário avaliar caso a caso, em cima dos dados reais."
      ],
      "metadata": {
        "id": "D0RBXaJgPbuu"
      }
    },
    {
      "cell_type": "code",
      "source": [
        "#original\n",
        "df['column_3_float']"
      ],
      "metadata": {
        "colab": {
          "base_uri": "https://localhost:8080/"
        },
        "id": "Y-RJdo36PwQ6",
        "outputId": "0ef6f214-310a-46f5-e840-fc53b6c23777"
      },
      "execution_count": null,
      "outputs": [
        {
          "output_type": "execute_result",
          "data": {
            "text/plain": [
              "0          0.212001\n",
              "1          0.650490\n",
              "2          0.059632\n",
              "3          0.987894\n",
              "4          0.007178\n",
              "             ...   \n",
              "4999995    0.030632\n",
              "4999996    0.461034\n",
              "4999997    0.177647\n",
              "4999998    0.681306\n",
              "4999999    0.361494\n",
              "Name: column_3_float, Length: 5000000, dtype: float64"
            ]
          },
          "metadata": {},
          "execution_count": 21
        }
      ]
    },
    {
      "cell_type": "code",
      "source": [
        "#float32\n",
        "df['column_3_float'].astype('float32')"
      ],
      "metadata": {
        "colab": {
          "base_uri": "https://localhost:8080/"
        },
        "id": "0uCt22mPQRs_",
        "outputId": "ab0701c9-152c-45c5-f6ca-6d0ae5779f12"
      },
      "execution_count": null,
      "outputs": [
        {
          "output_type": "execute_result",
          "data": {
            "text/plain": [
              "0          0.212001\n",
              "1          0.650490\n",
              "2          0.059632\n",
              "3          0.987894\n",
              "4          0.007178\n",
              "             ...   \n",
              "4999995    0.030632\n",
              "4999996    0.461034\n",
              "4999997    0.177647\n",
              "4999998    0.681306\n",
              "4999999    0.361494\n",
              "Name: column_3_float, Length: 5000000, dtype: float32"
            ]
          },
          "metadata": {},
          "execution_count": 22
        }
      ]
    },
    {
      "cell_type": "code",
      "source": [
        "#float16\n",
        "df['column_3_float'].astype('float16')"
      ],
      "metadata": {
        "colab": {
          "base_uri": "https://localhost:8080/"
        },
        "id": "paQz9LbVRUlf",
        "outputId": "553debb7-4965-466e-ec19-834c2b8675e9"
      },
      "execution_count": null,
      "outputs": [
        {
          "output_type": "execute_result",
          "data": {
            "text/plain": [
              "0          0.212036\n",
              "1          0.650391\n",
              "2          0.059631\n",
              "3          0.987793\n",
              "4          0.007179\n",
              "             ...   \n",
              "4999995    0.030624\n",
              "4999996    0.460938\n",
              "4999997    0.177612\n",
              "4999998    0.681152\n",
              "4999999    0.361572\n",
              "Name: column_3_float, Length: 5000000, dtype: float16"
            ]
          },
          "metadata": {},
          "execution_count": 23
        }
      ]
    },
    {
      "cell_type": "code",
      "source": [
        "# com float32 as alterações na precisão não foram percebidas\n",
        "df['column_3_float'] = df['column_3_float'].astype('float32')\n",
        "df['column_6_float'] = df['column_6_float'].astype('float32')\n",
        "df['column_7_float'] = df['column_7_float'].astype('float32')"
      ],
      "metadata": {
        "id": "aKLbkPJYGt6n"
      },
      "execution_count": null,
      "outputs": []
    },
    {
      "cell_type": "code",
      "source": [
        "df.info()"
      ],
      "metadata": {
        "colab": {
          "base_uri": "https://localhost:8080/"
        },
        "id": "f6NW_CMAIN3t",
        "outputId": "ba29eeb2-cf7b-46e1-e694-5febb7066a77"
      },
      "execution_count": null,
      "outputs": [
        {
          "output_type": "stream",
          "name": "stdout",
          "text": [
            "<class 'pandas.core.frame.DataFrame'>\n",
            "RangeIndex: 5000000 entries, 0 to 4999999\n",
            "Data columns (total 9 columns):\n",
            " #   Column          Dtype         \n",
            "---  ------          -----         \n",
            " 0   column_0_cat    category      \n",
            " 1   column_1_int    int8          \n",
            " 2   column_2_int    int8          \n",
            " 3   column_3_float  float32       \n",
            " 4   column_4_date   datetime64[ns]\n",
            " 5   column_5_cat    category      \n",
            " 6   column_6_float  float32       \n",
            " 7   column_7_float  float32       \n",
            " 8   column_8_date   datetime64[ns]\n",
            "dtypes: category(2), datetime64[ns](2), float32(3), int8(2)\n",
            "memory usage: 152.6 MB\n"
          ]
        }
      ]
    },
    {
      "cell_type": "markdown",
      "source": [
        "Redução de: 209.8MB\n",
        "\n",
        "Para: 152.6 MB"
      ],
      "metadata": {
        "id": "FVXYd8d9HmE_"
      }
    },
    {
      "cell_type": "code",
      "source": [
        "results = pd.DataFrame(\n",
        "    [\n",
        "        ['original', 343.3],\n",
        "        ['custom_types', 152.6],\n",
        "    ],\n",
        "    columns=['file', 'size']\n",
        ")"
      ],
      "metadata": {
        "id": "MfMaA63aSJFG"
      },
      "execution_count": null,
      "outputs": []
    },
    {
      "cell_type": "code",
      "source": [
        "results"
      ],
      "metadata": {
        "colab": {
          "base_uri": "https://localhost:8080/",
          "height": 112
        },
        "outputId": "bf174dfa-c77c-4429-acb4-1bb8157b0ed7",
        "id": "4My8sNncSJFH"
      },
      "execution_count": null,
      "outputs": [
        {
          "output_type": "execute_result",
          "data": {
            "text/plain": [
              "           file   size\n",
              "0      original  343.3\n",
              "1  custom_types  152.6"
            ],
            "text/html": [
              "\n",
              "  <div id=\"df-daa08e5f-d91b-4ae9-a523-4de83fc451c3\">\n",
              "    <div class=\"colab-df-container\">\n",
              "      <div>\n",
              "<style scoped>\n",
              "    .dataframe tbody tr th:only-of-type {\n",
              "        vertical-align: middle;\n",
              "    }\n",
              "\n",
              "    .dataframe tbody tr th {\n",
              "        vertical-align: top;\n",
              "    }\n",
              "\n",
              "    .dataframe thead th {\n",
              "        text-align: right;\n",
              "    }\n",
              "</style>\n",
              "<table border=\"1\" class=\"dataframe\">\n",
              "  <thead>\n",
              "    <tr style=\"text-align: right;\">\n",
              "      <th></th>\n",
              "      <th>file</th>\n",
              "      <th>size</th>\n",
              "    </tr>\n",
              "  </thead>\n",
              "  <tbody>\n",
              "    <tr>\n",
              "      <th>0</th>\n",
              "      <td>original</td>\n",
              "      <td>343.3</td>\n",
              "    </tr>\n",
              "    <tr>\n",
              "      <th>1</th>\n",
              "      <td>custom_types</td>\n",
              "      <td>152.6</td>\n",
              "    </tr>\n",
              "  </tbody>\n",
              "</table>\n",
              "</div>\n",
              "      <button class=\"colab-df-convert\" onclick=\"convertToInteractive('df-daa08e5f-d91b-4ae9-a523-4de83fc451c3')\"\n",
              "              title=\"Convert this dataframe to an interactive table.\"\n",
              "              style=\"display:none;\">\n",
              "        \n",
              "  <svg xmlns=\"http://www.w3.org/2000/svg\" height=\"24px\"viewBox=\"0 0 24 24\"\n",
              "       width=\"24px\">\n",
              "    <path d=\"M0 0h24v24H0V0z\" fill=\"none\"/>\n",
              "    <path d=\"M18.56 5.44l.94 2.06.94-2.06 2.06-.94-2.06-.94-.94-2.06-.94 2.06-2.06.94zm-11 1L8.5 8.5l.94-2.06 2.06-.94-2.06-.94L8.5 2.5l-.94 2.06-2.06.94zm10 10l.94 2.06.94-2.06 2.06-.94-2.06-.94-.94-2.06-.94 2.06-2.06.94z\"/><path d=\"M17.41 7.96l-1.37-1.37c-.4-.4-.92-.59-1.43-.59-.52 0-1.04.2-1.43.59L10.3 9.45l-7.72 7.72c-.78.78-.78 2.05 0 2.83L4 21.41c.39.39.9.59 1.41.59.51 0 1.02-.2 1.41-.59l7.78-7.78 2.81-2.81c.8-.78.8-2.07 0-2.86zM5.41 20L4 18.59l7.72-7.72 1.47 1.35L5.41 20z\"/>\n",
              "  </svg>\n",
              "      </button>\n",
              "      \n",
              "  <style>\n",
              "    .colab-df-container {\n",
              "      display:flex;\n",
              "      flex-wrap:wrap;\n",
              "      gap: 12px;\n",
              "    }\n",
              "\n",
              "    .colab-df-convert {\n",
              "      background-color: #E8F0FE;\n",
              "      border: none;\n",
              "      border-radius: 50%;\n",
              "      cursor: pointer;\n",
              "      display: none;\n",
              "      fill: #1967D2;\n",
              "      height: 32px;\n",
              "      padding: 0 0 0 0;\n",
              "      width: 32px;\n",
              "    }\n",
              "\n",
              "    .colab-df-convert:hover {\n",
              "      background-color: #E2EBFA;\n",
              "      box-shadow: 0px 1px 2px rgba(60, 64, 67, 0.3), 0px 1px 3px 1px rgba(60, 64, 67, 0.15);\n",
              "      fill: #174EA6;\n",
              "    }\n",
              "\n",
              "    [theme=dark] .colab-df-convert {\n",
              "      background-color: #3B4455;\n",
              "      fill: #D2E3FC;\n",
              "    }\n",
              "\n",
              "    [theme=dark] .colab-df-convert:hover {\n",
              "      background-color: #434B5C;\n",
              "      box-shadow: 0px 1px 3px 1px rgba(0, 0, 0, 0.15);\n",
              "      filter: drop-shadow(0px 1px 2px rgba(0, 0, 0, 0.3));\n",
              "      fill: #FFFFFF;\n",
              "    }\n",
              "  </style>\n",
              "\n",
              "      <script>\n",
              "        const buttonEl =\n",
              "          document.querySelector('#df-daa08e5f-d91b-4ae9-a523-4de83fc451c3 button.colab-df-convert');\n",
              "        buttonEl.style.display =\n",
              "          google.colab.kernel.accessAllowed ? 'block' : 'none';\n",
              "\n",
              "        async function convertToInteractive(key) {\n",
              "          const element = document.querySelector('#df-daa08e5f-d91b-4ae9-a523-4de83fc451c3');\n",
              "          const dataTable =\n",
              "            await google.colab.kernel.invokeFunction('convertToInteractive',\n",
              "                                                     [key], {});\n",
              "          if (!dataTable) return;\n",
              "\n",
              "          const docLinkHtml = 'Like what you see? Visit the ' +\n",
              "            '<a target=\"_blank\" href=https://colab.research.google.com/notebooks/data_table.ipynb>data table notebook</a>'\n",
              "            + ' to learn more about interactive tables.';\n",
              "          element.innerHTML = '';\n",
              "          dataTable['output_type'] = 'display_data';\n",
              "          await google.colab.output.renderOutput(dataTable, element);\n",
              "          const docLink = document.createElement('div');\n",
              "          docLink.innerHTML = docLinkHtml;\n",
              "          element.appendChild(docLink);\n",
              "        }\n",
              "      </script>\n",
              "    </div>\n",
              "  </div>\n",
              "  "
            ]
          },
          "metadata": {},
          "execution_count": 27
        }
      ]
    },
    {
      "cell_type": "code",
      "source": [
        "results.set_index('file')['size'].plot(kind='bar')"
      ],
      "metadata": {
        "colab": {
          "base_uri": "https://localhost:8080/",
          "height": 355
        },
        "outputId": "78268f36-72c8-4517-ccad-01bd26d4a076",
        "id": "rhkHILKvSJFI"
      },
      "execution_count": null,
      "outputs": [
        {
          "output_type": "execute_result",
          "data": {
            "text/plain": [
              "<matplotlib.axes._subplots.AxesSubplot at 0x7fd1aa7c7130>"
            ]
          },
          "metadata": {},
          "execution_count": 28
        },
        {
          "output_type": "display_data",
          "data": {
            "text/plain": [
              "<Figure size 432x288 with 1 Axes>"
            ],
            "image/png": "[encoded data removed]"
          },
          "metadata": {
            "needs_background": "light"
          }
        }
      ]
    },
    {
      "cell_type": "markdown",
      "source": [
        "É nítida a redução do tamanho do arquivo."
      ],
      "metadata": {
        "id": "aozxHCwZSuMy"
      }
    },
    {
      "cell_type": "markdown",
      "source": [
        "Vamos fazer mais um teste? Executar nossa função de vetorização antes e depois do casting nos dados."
      ],
      "metadata": {
        "id": "B9ldvsLdTvyQ"
      }
    },
    {
      "cell_type": "code",
      "source": [
        "del df"
      ],
      "metadata": {
        "id": "_w_6lPFGU7_W"
      },
      "execution_count": null,
      "outputs": []
    },
    {
      "cell_type": "code",
      "source": [
        "df = create_dataframe(5000000, 'ciifdcffd')"
      ],
      "metadata": {
        "id": "Fp2IhmGPUGE_"
      },
      "execution_count": null,
      "outputs": []
    },
    {
      "cell_type": "code",
      "source": [
        "df.info()"
      ],
      "metadata": {
        "colab": {
          "base_uri": "https://localhost:8080/"
        },
        "id": "zOA9H9a6UU7g",
        "outputId": "b9940896-2531-47cd-9d55-55b71d6fcf6f"
      },
      "execution_count": null,
      "outputs": [
        {
          "output_type": "stream",
          "name": "stdout",
          "text": [
            "<class 'pandas.core.frame.DataFrame'>\n",
            "RangeIndex: 5000000 entries, 0 to 4999999\n",
            "Data columns (total 9 columns):\n",
            " #   Column          Dtype         \n",
            "---  ------          -----         \n",
            " 0   column_0_cat    object        \n",
            " 1   column_1_int    int64         \n",
            " 2   column_2_int    int64         \n",
            " 3   column_3_float  float64       \n",
            " 4   column_4_date   datetime64[ns]\n",
            " 5   column_5_cat    object        \n",
            " 6   column_6_float  float64       \n",
            " 7   column_7_float  float64       \n",
            " 8   column_8_date   datetime64[ns]\n",
            "dtypes: datetime64[ns](2), float64(3), int64(2), object(2)\n",
            "memory usage: 343.3+ MB\n"
          ]
        }
      ]
    },
    {
      "cell_type": "code",
      "source": [
        "%%timeit\n",
        "df['new_column'] = 'no'\n",
        "df.loc[((df['column_1_int'] > 25) & \n",
        "        (df['column_3_float'] > 0.5)) | \n",
        "        (df['column_2_int'] > 40), 'new_column'] = 'yes'"
      ],
      "metadata": {
        "colab": {
          "base_uri": "https://localhost:8080/"
        },
        "id": "2G1gv2wTSA4Q",
        "outputId": "6354b228-395b-455a-d4ef-1e60fe1bd3ad"
      },
      "execution_count": null,
      "outputs": [
        {
          "output_type": "stream",
          "name": "stdout",
          "text": [
            "227 ms ± 3.89 ms per loop (mean ± std. dev. of 7 runs, 1 loop each)\n"
          ]
        }
      ]
    },
    {
      "cell_type": "code",
      "source": [
        "df"
      ],
      "metadata": {
        "colab": {
          "base_uri": "https://localhost:8080/",
          "height": 424
        },
        "id": "ZQJd7gLEabC3",
        "outputId": "f6b36e29-5f8b-47ef-cbbb-9a4a8aa66662"
      },
      "execution_count": null,
      "outputs": [
        {
          "output_type": "execute_result",
          "data": {
            "text/plain": [
              "        column_0_cat  column_1_int  column_2_int  column_3_float  \\\n",
              "0                 no            49            32        0.661162   \n",
              "1                yes            47             9        0.627424   \n",
              "2                 no            33            18        0.355638   \n",
              "3                yes            13            26        0.621346   \n",
              "4                yes            46            40        0.353482   \n",
              "...              ...           ...           ...             ...   \n",
              "4999995           no            21            33        0.673541   \n",
              "4999996          yes            44            38        0.489869   \n",
              "4999997          yes            48            24        0.801902   \n",
              "4999998          yes            29            46        0.253213   \n",
              "4999999          yes            40            37        0.308289   \n",
              "\n",
              "        column_4_date column_5_cat  column_6_float  column_7_float  \\\n",
              "0          2022-04-02           no        0.198257        0.862592   \n",
              "1          2021-11-15          yes        0.099039        0.941127   \n",
              "2          2020-10-12          yes        0.581677        0.416596   \n",
              "3          2021-02-10          yes        0.286015        0.443199   \n",
              "4          2021-11-25           no        0.677347        0.325568   \n",
              "...               ...          ...             ...             ...   \n",
              "4999995    2021-05-22          yes        0.317783        0.224820   \n",
              "4999996    2021-10-15           no        0.738659        0.063281   \n",
              "4999997    2022-01-13          yes        0.946859        0.607965   \n",
              "4999998    2020-07-13          yes        0.569812        0.484182   \n",
              "4999999    2022-07-03           no        0.117507        0.731719   \n",
              "\n",
              "        column_8_date new_column  \n",
              "0          2021-09-20        yes  \n",
              "1          2022-10-18        yes  \n",
              "2          2021-10-08         no  \n",
              "3          2021-04-24         no  \n",
              "4          2022-05-05         no  \n",
              "...               ...        ...  \n",
              "4999995    2020-11-24         no  \n",
              "4999996    2020-06-17         no  \n",
              "4999997    2021-11-05        yes  \n",
              "4999998    2021-01-26        yes  \n",
              "4999999    2021-10-06         no  \n",
              "\n",
              "[5000000 rows x 10 columns]"
            ],
            "text/html": [
              "\n",
              "  <div id=\"df-fc9f60be-4571-40f8-85b3-a9c15209f457\">\n",
              "    <div class=\"colab-df-container\">\n",
              "      <div>\n",
              "<style scoped>\n",
              "    .dataframe tbody tr th:only-of-type {\n",
              "        vertical-align: middle;\n",
              "    }\n",
              "\n",
              "    .dataframe tbody tr th {\n",
              "        vertical-align: top;\n",
              "    }\n",
              "\n",
              "    .dataframe thead th {\n",
              "        text-align: right;\n",
              "    }\n",
              "</style>\n",
              "<table border=\"1\" class=\"dataframe\">\n",
              "  <thead>\n",
              "    <tr style=\"text-align: right;\">\n",
              "      <th></th>\n",
              "      <th>column_0_cat</th>\n",
              "      <th>column_1_int</th>\n",
              "      <th>column_2_int</th>\n",
              "      <th>column_3_float</th>\n",
              "      <th>column_4_date</th>\n",
              "      <th>column_5_cat</th>\n",
              "      <th>column_6_float</th>\n",
              "      <th>column_7_float</th>\n",
              "      <th>column_8_date</th>\n",
              "      <th>new_column</th>\n",
              "    </tr>\n",
              "  </thead>\n",
              "  <tbody>\n",
              "    <tr>\n",
              "      <th>0</th>\n",
              "      <td>no</td>\n",
              "      <td>49</td>\n",
              "      <td>32</td>\n",
              "      <td>0.661162</td>\n",
              "      <td>2022-04-02</td>\n",
              "      <td>no</td>\n",
              "      <td>0.198257</td>\n",
              "      <td>0.862592</td>\n",
              "      <td>2021-09-20</td>\n",
              "      <td>yes</td>\n",
              "    </tr>\n",
              "    <tr>\n",
              "      <th>1</th>\n",
              "      <td>yes</td>\n",
              "      <td>47</td>\n",
              "      <td>9</td>\n",
              "      <td>0.627424</td>\n",
              "      <td>2021-11-15</td>\n",
              "      <td>yes</td>\n",
              "      <td>0.099039</td>\n",
              "      <td>0.941127</td>\n",
              "      <td>2022-10-18</td>\n",
              "      <td>yes</td>\n",
              "    </tr>\n",
              "    <tr>\n",
              "      <th>2</th>\n",
              "      <td>no</td>\n",
              "      <td>33</td>\n",
              "      <td>18</td>\n",
              "      <td>0.355638</td>\n",
              "      <td>2020-10-12</td>\n",
              "      <td>yes</td>\n",
              "      <td>0.581677</td>\n",
              "      <td>0.416596</td>\n",
              "      <td>2021-10-08</td>\n",
              "      <td>no</td>\n",
              "    </tr>\n",
              "    <tr>\n",
              "      <th>3</th>\n",
              "      <td>yes</td>\n",
              "      <td>13</td>\n",
              "      <td>26</td>\n",
              "      <td>0.621346</td>\n",
              "      <td>2021-02-10</td>\n",
              "      <td>yes</td>\n",
              "      <td>0.286015</td>\n",
              "      <td>0.443199</td>\n",
              "      <td>2021-04-24</td>\n",
              "      <td>no</td>\n",
              "    </tr>\n",
              "    <tr>\n",
              "      <th>4</th>\n",
              "      <td>yes</td>\n",
              "      <td>46</td>\n",
              "      <td>40</td>\n",
              "      <td>0.353482</td>\n",
              "      <td>2021-11-25</td>\n",
              "      <td>no</td>\n",
              "      <td>0.677347</td>\n",
              "      <td>0.325568</td>\n",
              "      <td>2022-05-05</td>\n",
              "      <td>no</td>\n",
              "    </tr>\n",
              "    <tr>\n",
              "      <th>...</th>\n",
              "      <td>...</td>\n",
              "      <td>...</td>\n",
              "      <td>...</td>\n",
              "      <td>...</td>\n",
              "      <td>...</td>\n",
              "      <td>...</td>\n",
              "      <td>...</td>\n",
              "      <td>...</td>\n",
              "      <td>...</td>\n",
              "      <td>...</td>\n",
              "    </tr>\n",
              "    <tr>\n",
              "      <th>4999995</th>\n",
              "      <td>no</td>\n",
              "      <td>21</td>\n",
              "      <td>33</td>\n",
              "      <td>0.673541</td>\n",
              "      <td>2021-05-22</td>\n",
              "      <td>yes</td>\n",
              "      <td>0.317783</td>\n",
              "      <td>0.224820</td>\n",
              "      <td>2020-11-24</td>\n",
              "      <td>no</td>\n",
              "    </tr>\n",
              "    <tr>\n",
              "      <th>4999996</th>\n",
              "      <td>yes</td>\n",
              "      <td>44</td>\n",
              "      <td>38</td>\n",
              "      <td>0.489869</td>\n",
              "      <td>2021-10-15</td>\n",
              "      <td>no</td>\n",
              "      <td>0.738659</td>\n",
              "      <td>0.063281</td>\n",
              "      <td>2020-06-17</td>\n",
              "      <td>no</td>\n",
              "    </tr>\n",
              "    <tr>\n",
              "      <th>4999997</th>\n",
              "      <td>yes</td>\n",
              "      <td>48</td>\n",
              "      <td>24</td>\n",
              "      <td>0.801902</td>\n",
              "      <td>2022-01-13</td>\n",
              "      <td>yes</td>\n",
              "      <td>0.946859</td>\n",
              "      <td>0.607965</td>\n",
              "      <td>2021-11-05</td>\n",
              "      <td>yes</td>\n",
              "    </tr>\n",
              "    <tr>\n",
              "      <th>4999998</th>\n",
              "      <td>yes</td>\n",
              "      <td>29</td>\n",
              "      <td>46</td>\n",
              "      <td>0.253213</td>\n",
              "      <td>2020-07-13</td>\n",
              "      <td>yes</td>\n",
              "      <td>0.569812</td>\n",
              "      <td>0.484182</td>\n",
              "      <td>2021-01-26</td>\n",
              "      <td>yes</td>\n",
              "    </tr>\n",
              "    <tr>\n",
              "      <th>4999999</th>\n",
              "      <td>yes</td>\n",
              "      <td>40</td>\n",
              "      <td>37</td>\n",
              "      <td>0.308289</td>\n",
              "      <td>2022-07-03</td>\n",
              "      <td>no</td>\n",
              "      <td>0.117507</td>\n",
              "      <td>0.731719</td>\n",
              "      <td>2021-10-06</td>\n",
              "      <td>no</td>\n",
              "    </tr>\n",
              "  </tbody>\n",
              "</table>\n",
              "<p>5000000 rows × 10 columns</p>\n",
              "</div>\n",
              "      <button class=\"colab-df-convert\" onclick=\"convertToInteractive('df-fc9f60be-4571-40f8-85b3-a9c15209f457')\"\n",
              "              title=\"Convert this dataframe to an interactive table.\"\n",
              "              style=\"display:none;\">\n",
              "        \n",
              "  <svg xmlns=\"http://www.w3.org/2000/svg\" height=\"24px\"viewBox=\"0 0 24 24\"\n",
              "       width=\"24px\">\n",
              "    <path d=\"M0 0h24v24H0V0z\" fill=\"none\"/>\n",
              "    <path d=\"M18.56 5.44l.94 2.06.94-2.06 2.06-.94-2.06-.94-.94-2.06-.94 2.06-2.06.94zm-11 1L8.5 8.5l.94-2.06 2.06-.94-2.06-.94L8.5 2.5l-.94 2.06-2.06.94zm10 10l.94 2.06.94-2.06 2.06-.94-2.06-.94-.94-2.06-.94 2.06-2.06.94z\"/><path d=\"M17.41 7.96l-1.37-1.37c-.4-.4-.92-.59-1.43-.59-.52 0-1.04.2-1.43.59L10.3 9.45l-7.72 7.72c-.78.78-.78 2.05 0 2.83L4 21.41c.39.39.9.59 1.41.59.51 0 1.02-.2 1.41-.59l7.78-7.78 2.81-2.81c.8-.78.8-2.07 0-2.86zM5.41 20L4 18.59l7.72-7.72 1.47 1.35L5.41 20z\"/>\n",
              "  </svg>\n",
              "      </button>\n",
              "      \n",
              "  <style>\n",
              "    .colab-df-container {\n",
              "      display:flex;\n",
              "      flex-wrap:wrap;\n",
              "      gap: 12px;\n",
              "    }\n",
              "\n",
              "    .colab-df-convert {\n",
              "      background-color: #E8F0FE;\n",
              "      border: none;\n",
              "      border-radius: 50%;\n",
              "      cursor: pointer;\n",
              "      display: none;\n",
              "      fill: #1967D2;\n",
              "      height: 32px;\n",
              "      padding: 0 0 0 0;\n",
              "      width: 32px;\n",
              "    }\n",
              "\n",
              "    .colab-df-convert:hover {\n",
              "      background-color: #E2EBFA;\n",
              "      box-shadow: 0px 1px 2px rgba(60, 64, 67, 0.3), 0px 1px 3px 1px rgba(60, 64, 67, 0.15);\n",
              "      fill: #174EA6;\n",
              "    }\n",
              "\n",
              "    [theme=dark] .colab-df-convert {\n",
              "      background-color: #3B4455;\n",
              "      fill: #D2E3FC;\n",
              "    }\n",
              "\n",
              "    [theme=dark] .colab-df-convert:hover {\n",
              "      background-color: #434B5C;\n",
              "      box-shadow: 0px 1px 3px 1px rgba(0, 0, 0, 0.15);\n",
              "      filter: drop-shadow(0px 1px 2px rgba(0, 0, 0, 0.3));\n",
              "      fill: #FFFFFF;\n",
              "    }\n",
              "  </style>\n",
              "\n",
              "      <script>\n",
              "        const buttonEl =\n",
              "          document.querySelector('#df-fc9f60be-4571-40f8-85b3-a9c15209f457 button.colab-df-convert');\n",
              "        buttonEl.style.display =\n",
              "          google.colab.kernel.accessAllowed ? 'block' : 'none';\n",
              "\n",
              "        async function convertToInteractive(key) {\n",
              "          const element = document.querySelector('#df-fc9f60be-4571-40f8-85b3-a9c15209f457');\n",
              "          const dataTable =\n",
              "            await google.colab.kernel.invokeFunction('convertToInteractive',\n",
              "                                                     [key], {});\n",
              "          if (!dataTable) return;\n",
              "\n",
              "          const docLinkHtml = 'Like what you see? Visit the ' +\n",
              "            '<a target=\"_blank\" href=https://colab.research.google.com/notebooks/data_table.ipynb>data table notebook</a>'\n",
              "            + ' to learn more about interactive tables.';\n",
              "          element.innerHTML = '';\n",
              "          dataTable['output_type'] = 'display_data';\n",
              "          await google.colab.output.renderOutput(dataTable, element);\n",
              "          const docLink = document.createElement('div');\n",
              "          docLink.innerHTML = docLinkHtml;\n",
              "          element.appendChild(docLink);\n",
              "        }\n",
              "      </script>\n",
              "    </div>\n",
              "  </div>\n",
              "  "
            ]
          },
          "metadata": {},
          "execution_count": 66
        }
      ]
    },
    {
      "cell_type": "code",
      "source": [
        "def set_types(df):  \n",
        "  df['column_0_cat'] = df['column_0_cat'].astype('category')\n",
        "  df['column_1_int'] = df['column_1_int'].astype('int8')\n",
        "  df['column_2_int'] = df['column_2_int'].astype('int8')\n",
        "  df['column_3_float'] = df['column_3_float'].astype('float32')\n",
        "  df['column_5_cat'] = df['column_5_cat'].astype('category')\n",
        "  df['column_6_float'] = df['column_6_float'].astype('float32')\n",
        "  df['column_7_float'] = df['column_7_float'].astype('float32')\n",
        "  return df\n"
      ],
      "metadata": {
        "id": "ODsLKyXTBwUw"
      },
      "execution_count": null,
      "outputs": []
    },
    {
      "cell_type": "code",
      "source": [
        "df = set_types(df)"
      ],
      "metadata": {
        "id": "HYngIbgtZ6Ah"
      },
      "execution_count": null,
      "outputs": []
    },
    {
      "cell_type": "code",
      "source": [
        "df.info()"
      ],
      "metadata": {
        "colab": {
          "base_uri": "https://localhost:8080/"
        },
        "id": "-KsedKY2Z1BY",
        "outputId": "8d3ab974-8ffb-43ed-91af-589c1e0e4ef7"
      },
      "execution_count": null,
      "outputs": [
        {
          "output_type": "stream",
          "name": "stdout",
          "text": [
            "<class 'pandas.core.frame.DataFrame'>\n",
            "RangeIndex: 5000000 entries, 0 to 4999999\n",
            "Data columns (total 10 columns):\n",
            " #   Column          Dtype         \n",
            "---  ------          -----         \n",
            " 0   column_0_cat    bool          \n",
            " 1   column_1_int    int8          \n",
            " 2   column_2_int    int8          \n",
            " 3   column_3_float  float32       \n",
            " 4   column_4_date   datetime64[ns]\n",
            " 5   column_5_cat    bool          \n",
            " 6   column_6_float  float32       \n",
            " 7   column_7_float  float32       \n",
            " 8   column_8_date   datetime64[ns]\n",
            " 9   new_column      object        \n",
            "dtypes: bool(2), datetime64[ns](2), float32(3), int8(2), object(1)\n",
            "memory usage: 190.7+ MB\n"
          ]
        }
      ]
    },
    {
      "cell_type": "code",
      "source": [
        "%%timeit\n",
        "df['new_column2'] = 'no'\n",
        "df.loc[((df['column_1_int'] > 25) & \n",
        "        (df['column_3_float'] > 0.5)) | \n",
        "        (df['column_2_int'] > 40), 'new_column2'] = 'yes'"
      ],
      "metadata": {
        "colab": {
          "base_uri": "https://localhost:8080/"
        },
        "id": "2O00GXD5aQxe",
        "outputId": "1c582884-8a25-4a89-9c8b-b5df0eeb3430"
      },
      "execution_count": null,
      "outputs": [
        {
          "output_type": "stream",
          "name": "stdout",
          "text": [
            "222 ms ± 5.4 ms per loop (mean ± std. dev. of 7 runs, 1 loop each)\n"
          ]
        }
      ]
    },
    {
      "cell_type": "markdown",
      "source": [
        "A diferença foi bem pequena, apenas 5ms. Mas era uma curiosidade que eu tinha. 😀\n",
        "Chego a conclusão que o casting dos dados não influência no desempenho de funções utilizando a vetorização. Mas não afirmo isso com certeza absoluta! 😅"
      ],
      "metadata": {
        "id": "rZhK_-7DbDjv"
      }
    },
    {
      "cell_type": "markdown",
      "source": [
        "#### Formato dos arquivos"
      ],
      "metadata": {
        "id": "0pJmljRZbfkX"
      }
    },
    {
      "cell_type": "markdown",
      "source": [
        "Como último teste, vamos verificar a diferença de tamanho na hora de salvar os arquivos, em formatos diferentes."
      ],
      "metadata": {
        "id": "nN7HHwNNbtcn"
      }
    },
    {
      "cell_type": "code",
      "source": [
        "print('Formato CSV')\n",
        "df = create_dataframe(5000000, 'ciifdcffd')\n",
        "df = set_types(df)\n",
        "%time df.to_csv('test.csv', index=False)\n",
        "%time df_csv = pd.read_csv('test.csv')"
      ],
      "metadata": {
        "colab": {
          "base_uri": "https://localhost:8080/"
        },
        "id": "G0_y0Fz5f6sf",
        "outputId": "142e8467-39b8-4c6b-ba8c-da37fe35f5be"
      },
      "execution_count": null,
      "outputs": [
        {
          "output_type": "stream",
          "name": "stdout",
          "text": [
            "Formato CSV\n",
            "CPU times: user 1min 12s, sys: 690 ms, total: 1min 13s\n",
            "Wall time: 1min 15s\n",
            "CPU times: user 3.86 s, sys: 400 ms, total: 4.26 s\n",
            "Wall time: 4.3 s\n"
          ]
        }
      ]
    },
    {
      "cell_type": "code",
      "source": [
        "!ls -GFlash test.csv"
      ],
      "metadata": {
        "colab": {
          "base_uri": "https://localhost:8080/"
        },
        "id": "a0KxMMt2f8vW",
        "outputId": "1ad5e1a6-8bc8-4cbf-aef3-37a81a3f8f8a"
      },
      "execution_count": null,
      "outputs": [
        {
          "output_type": "stream",
          "name": "stdout",
          "text": [
            "318M -rw-r--r-- 1 root 318M Feb  2 23:45 test.csv\n"
          ]
        }
      ]
    },
    {
      "cell_type": "code",
      "source": [
        "print('Formato Pickle')\n",
        "df = create_dataframe(5000000, 'ciifdcffd')\n",
        "df = set_types(df)\n",
        "%time df.to_pickle('test.pickle')\n",
        "%time df_pickle = pd.read_pickle('test.pickle')"
      ],
      "metadata": {
        "colab": {
          "base_uri": "https://localhost:8080/"
        },
        "id": "qx_Qyod-gIN2",
        "outputId": "f3008646-a567-4bab-97c6-7ae1a12b8c00"
      },
      "execution_count": null,
      "outputs": [
        {
          "output_type": "stream",
          "name": "stdout",
          "text": [
            "Formato Pickle\n",
            "CPU times: user 20.6 ms, sys: 149 ms, total: 170 ms\n",
            "Wall time: 170 ms\n",
            "CPU times: user 2.51 ms, sys: 50 ms, total: 52.5 ms\n",
            "Wall time: 55.1 ms\n"
          ]
        }
      ]
    },
    {
      "cell_type": "code",
      "source": [
        "!ls -GFlash test.pickle"
      ],
      "metadata": {
        "colab": {
          "base_uri": "https://localhost:8080/"
        },
        "id": "8v8DSVTnh6Bp",
        "outputId": "7572f68f-df08-4e66-951a-2a9a474b6ede"
      },
      "execution_count": null,
      "outputs": [
        {
          "output_type": "stream",
          "name": "stdout",
          "text": [
            "153M -rw-r--r-- 1 root 153M Feb  2 23:49 test.pickle\n"
          ]
        }
      ]
    },
    {
      "cell_type": "code",
      "source": [
        "print('Formato Parquet')\n",
        "df = create_dataframe(5000000, 'ciifdcffd')\n",
        "df = set_types(df)\n",
        "%time df.to_parquet('test.parquet')\n",
        "%time df_parquet = pd.read_parquet('test.parquet')"
      ],
      "metadata": {
        "colab": {
          "base_uri": "https://localhost:8080/"
        },
        "id": "MRYCgoQpgMHp",
        "outputId": "cfcf547f-0382-4456-dea8-7a290d51568f"
      },
      "execution_count": null,
      "outputs": [
        {
          "output_type": "stream",
          "name": "stdout",
          "text": [
            "Formato Parquet\n",
            "CPU times: user 1.05 s, sys: 183 ms, total: 1.24 s\n",
            "Wall time: 1.2 s\n",
            "CPU times: user 402 ms, sys: 300 ms, total: 702 ms\n",
            "Wall time: 461 ms\n"
          ]
        }
      ]
    },
    {
      "cell_type": "code",
      "source": [
        "!ls -GFlash test.parquet"
      ],
      "metadata": {
        "colab": {
          "base_uri": "https://localhost:8080/"
        },
        "id": "sXW59jOHjDEm",
        "outputId": "6fdd14f9-4a2d-4252-c28e-6734a815e466"
      },
      "execution_count": null,
      "outputs": [
        {
          "output_type": "stream",
          "name": "stdout",
          "text": [
            "81M -rw-r--r-- 1 root 81M Feb  2 23:54 test.parquet\n"
          ]
        }
      ]
    },
    {
      "cell_type": "code",
      "source": [
        "print('Formato Feather')\n",
        "df = create_dataframe(5000000, 'ciifdcffd')\n",
        "df = set_types(df)\n",
        "%time df.to_feather('test.feather')\n",
        "%time df_feather = pd.read_feather('test.feather')"
      ],
      "metadata": {
        "colab": {
          "base_uri": "https://localhost:8080/"
        },
        "id": "_O7BBm25br_q",
        "outputId": "3466a793-7cea-40f0-f996-543bbee5a6ce"
      },
      "execution_count": null,
      "outputs": [
        {
          "output_type": "stream",
          "name": "stdout",
          "text": [
            "Formato Feather\n",
            "CPU times: user 601 ms, sys: 95.6 ms, total: 697 ms\n",
            "Wall time: 464 ms\n",
            "CPU times: user 225 ms, sys: 195 ms, total: 420 ms\n",
            "Wall time: 285 ms\n"
          ]
        }
      ]
    },
    {
      "cell_type": "code",
      "source": [
        "!ls -GFlash test.feather"
      ],
      "metadata": {
        "colab": {
          "base_uri": "https://localhost:8080/"
        },
        "id": "GhU_fAr6jajA",
        "outputId": "a15465d3-b8df-40e0-8c75-3fb0b7ead721"
      },
      "execution_count": null,
      "outputs": [
        {
          "output_type": "stream",
          "name": "stdout",
          "text": [
            "104M -rw-r--r-- 1 root 104M Feb  2 23:56 test.feather\n"
          ]
        }
      ]
    },
    {
      "cell_type": "code",
      "source": [
        "results_size = pd.DataFrame(\n",
        "    [\n",
        "        ['csv', 318], \n",
        "        ['pickle',153], \n",
        "        ['parquet',81], \n",
        "        ['feather',104]\n",
        "    ],\n",
        "    columns=['format','size']\n",
        ")"
      ],
      "metadata": {
        "id": "5EzkhYgwm-mf"
      },
      "execution_count": null,
      "outputs": []
    },
    {
      "cell_type": "code",
      "source": [
        "results_size.set_index('format')['size'].plot(kind='bar', title='Tamanho em disco')"
      ],
      "metadata": {
        "colab": {
          "base_uri": "https://localhost:8080/",
          "height": 341
        },
        "outputId": "b129d306-20e1-4a26-f262-c3d2e528253f",
        "id": "KD0NUFE6kmrt"
      },
      "execution_count": null,
      "outputs": [
        {
          "output_type": "execute_result",
          "data": {
            "text/plain": [
              "<matplotlib.axes._subplots.AxesSubplot at 0x7f5de901ca30>"
            ]
          },
          "metadata": {},
          "execution_count": 22
        },
        {
          "output_type": "display_data",
          "data": {
            "text/plain": [
              "<Figure size 432x288 with 1 Axes>"
            ],
            "image/png": "[encoded data removed]"
          },
          "metadata": {
            "needs_background": "light"
          }
        }
      ]
    },
    {
      "cell_type": "code",
      "source": [
        "results_write = pd.DataFrame(\n",
        "    [\n",
        "        ['csv', 75000], \n",
        "        ['pickle',170], \n",
        "        ['parquet',1200], \n",
        "        ['feather',461]\n",
        "    ],\n",
        "    columns=['format','time']\n",
        ")"
      ],
      "metadata": {
        "id": "GUgPvjHknx9K"
      },
      "execution_count": null,
      "outputs": []
    },
    {
      "cell_type": "code",
      "source": [
        "results_write.set_index('format')['time'].plot(kind='bar', title='Tempo escrita')"
      ],
      "metadata": {
        "colab": {
          "base_uri": "https://localhost:8080/",
          "height": 341
        },
        "id": "100Krm4BoSlm",
        "outputId": "fe73851b-46ff-44da-d774-de6c0b5f011e"
      },
      "execution_count": null,
      "outputs": [
        {
          "output_type": "execute_result",
          "data": {
            "text/plain": [
              "<matplotlib.axes._subplots.AxesSubplot at 0x7f5de8ff7b50>"
            ]
          },
          "metadata": {},
          "execution_count": 24
        },
        {
          "output_type": "display_data",
          "data": {
            "text/plain": [
              "<Figure size 432x288 with 1 Axes>"
            ],
            "image/png": "[encoded data removed]"
          },
          "metadata": {
            "needs_background": "light"
          }
        }
      ]
    },
    {
      "cell_type": "code",
      "source": [
        "results_read = pd.DataFrame(\n",
        "    [\n",
        "        ['csv', 4300], \n",
        "        ['pickle',55.1], \n",
        "        ['parquet',464], \n",
        "        ['feather',285]\n",
        "    ],\n",
        "    columns=['format','time']\n",
        ")"
      ],
      "metadata": {
        "id": "gfCawPQJoenJ"
      },
      "execution_count": null,
      "outputs": []
    },
    {
      "cell_type": "code",
      "source": [
        "results_read.set_index('format')['time'].plot(kind='bar', title='Tempo leitura')"
      ],
      "metadata": {
        "colab": {
          "base_uri": "https://localhost:8080/",
          "height": 341
        },
        "id": "TaXaViV-oo_P",
        "outputId": "190bccd6-13bd-41dc-e36c-a7f142bb6d3e"
      },
      "execution_count": null,
      "outputs": [
        {
          "output_type": "execute_result",
          "data": {
            "text/plain": [
              "<matplotlib.axes._subplots.AxesSubplot at 0x7f5de8f5b670>"
            ]
          },
          "metadata": {},
          "execution_count": 27
        },
        {
          "output_type": "display_data",
          "data": {
            "text/plain": [
              "<Figure size 432x288 with 1 Axes>"
            ],
            "image/png": "[encoded data removed]"
          },
          "metadata": {
            "needs_background": "light"
          }
        }
      ]
    },
    {
      "cell_type": "markdown",
      "source": [
        "Para a escolha do formato é necessário levar em consideração se o arquivo será compartilhado com alguém que vai abrí-lo no Excel, então a melhor opção talvez seja o .csv.\n",
        "\n",
        "Mas caso o tamanho em disco seja a prioridade, a melhor opção é o parquet. E então, se o objetivo for a velocidade de escrita e leitura o pickle obteve o melhor resultado.  \n"
      ],
      "metadata": {
        "id": "GPvlO2XbgzXf"
      }
    },
    {
      "cell_type": "markdown",
      "source": [
        "\n",
        "#### **E por que essa preocupação toda?** "
      ],
      "metadata": {
        "id": "pxp2LhWRjF2f"
      }
    },
    {
      "cell_type": "markdown",
      "source": [
        "\n",
        "\n",
        "Imagine que todos esses dados estejam armazenados em um ambiente em nuvem, que é super comum hoje em dia, quanto maior o armazenamento e maior tráfego de dados maior será o seu custo. \n",
        "\n",
        "Então, escolher formatos de dados, formatos de arquivos que deixam o armazenamento dos dados ocupando menores espaços em disco e funções de processamento mais rápidas vão economizar seus recursos em nuvem e, consequentemente, economizar nos gastos no fim do mês!   "
      ],
      "metadata": {
        "id": "2bIB2fwzjGFe"
      }
    },
    {
      "cell_type": "markdown",
      "source": [
        "E por último, mas não menos importante, vou deixar as referências que me ajudaram a construir esse artigo, afinal material bom tem que ser compartilhado:\n",
        "\n",
        "* Canal Youtube: https://www.youtube.com/@robmulla\n",
        "* Livro: Python for Data Analysis\n",
        "* Artigo Medium: https://towardsdatascience.com/generating-fake-data-with-pandas-very-quickly-b99467d4c618\n",
        "* Artigo Acervo Lima: https://acervolima.com/vetorizacao-em-python/\n",
        "* Artigo Medium: https://medium.com/geleia/otimizando-c%C3%B3digos-de-data-science-em-python-com-vetoriza%C3%A7%C3%A3o-b5cd9188530c\n",
        "\n",
        "\n",
        "\n"
      ],
      "metadata": {
        "id": "ydDQo2bLQ409"
      }
    },
    {
      "cell_type": "markdown",
      "source": [
        "É isso, espero ter contribuído com essas dicas! Até o próximo! "
      ],
      "metadata": {
        "id": "ZfELEBL5o5-D"
      }
    },
    {
      "cell_type": "markdown",
      "source": [
        "<div align=\"center\"><img src=\"https://media.tenor.com/44WZ5UwIw6MAAAAM/wave-panda.gif\"/>\n",
        "</div>\n",
        "\n"
      ],
      "metadata": {
        "id": "pJRwllS_rbzA"
      }
    }
  ]
}
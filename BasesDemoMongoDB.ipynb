{
  "nbformat": 4,
  "nbformat_minor": 0,
  "metadata": {
    "colab": {
      "provenance": [],
      "toc_visible": true,
      "authorship_tag": "ABX9TyN7uTPIBIwS9GWo9gbPPbfp",
      "include_colab_link": true
    },
    "kernelspec": {
      "name": "python3",
      "display_name": "Python 3"
    },
    "language_info": {
      "name": "python"
    }
  },
  "cells": [
    {
      "cell_type": "markdown",
      "metadata": {
        "id": "view-in-github",
        "colab_type": "text"
      },
      "source": [
        "<a href=\"https://colab.research.google.com/github/ariana-caetano/data-engineering/blob/main/BasesDemoMongoDB.ipynb\" target=\"_parent\"><img src=\"https://colab.research.google.com/assets/colab-badge.svg\" alt=\"Open In Colab\"/></a>"
      ]
    },
    {
      "cell_type": "markdown",
      "source": [
        "# **Exercício Python e MongoDB**"
      ],
      "metadata": {
        "id": "z6xpnPsaF0PQ"
      }
    },
    {
      "cell_type": "markdown",
      "source": [
        "Existem alguns dados de exemplo do próprio MongoDB que podem ser baixados e utilizados para conhecer as funcionalidades. Neste exercício foi utilizado o **sample_supplies** para treinar o que vem sendo ensinado no bootcamp de Engenharia de Dados."
      ],
      "metadata": {
        "id": "5bgOshH1F7nP"
      }
    },
    {
      "cell_type": "markdown",
      "source": [
        "# Importando Bibliotecas"
      ],
      "metadata": {
        "id": "bK3oRBaLCIEY"
      }
    },
    {
      "cell_type": "code",
      "execution_count": null,
      "metadata": {
        "id": "sytPJ7-snn4a"
      },
      "outputs": [],
      "source": [
        "from pymongo import MongoClient\n",
        "import pandas as pd\n",
        "import matplotlib.pyplot as plt\n",
        "import matplotlib.ticker as mtick"
      ]
    },
    {
      "cell_type": "code",
      "source": [
        "pd.set_option('display.max_columns',25)"
      ],
      "metadata": {
        "id": "PNpMfMmKsMlo"
      },
      "execution_count": null,
      "outputs": []
    },
    {
      "cell_type": "markdown",
      "source": [
        "# Conectando ao MongoDB"
      ],
      "metadata": {
        "id": "0akF23jSCNaW"
      }
    },
    {
      "cell_type": "code",
      "source": [
        "uri = \"mongodb+srv://bc26-aulas-ariana.vjrdjqp.mongodb.net/?authSource=%24external&authMechanism=MONGODB-X509&retryWrites=true&w=majority\"\n",
        "client = MongoClient(uri,\n",
        "                     tls=True,\n",
        "                     tlsCertificateKeyFile='/content/X509-cert-4835143118156665007.pem'\n",
        "                     )\n",
        "\n",
        "db = client['sample_supplies']\n",
        "collection = db['sales']"
      ],
      "metadata": {
        "id": "oNNbJVpxrV-h"
      },
      "execution_count": null,
      "outputs": []
    },
    {
      "cell_type": "code",
      "source": [
        "doc_count = collection.count_documents({})\n",
        "print(doc_count)"
      ],
      "metadata": {
        "colab": {
          "base_uri": "https://localhost:8080/"
        },
        "id": "X6LHNDpSrslq",
        "outputId": "679d4209-6726-4c87-93d8-97c5b60e2059"
      },
      "execution_count": null,
      "outputs": [
        {
          "output_type": "stream",
          "name": "stdout",
          "text": [
            "5000\n"
          ]
        }
      ]
    },
    {
      "cell_type": "markdown",
      "source": [
        "# Integração com Pandas"
      ],
      "metadata": {
        "id": "2Nrg-bhrCT9P"
      }
    },
    {
      "cell_type": "code",
      "source": [
        "cursor = collection.find({})\n",
        "df_sales = pd.DataFrame(list(cursor))"
      ],
      "metadata": {
        "id": "a7M4bQH2r8a6"
      },
      "execution_count": null,
      "outputs": []
    },
    {
      "cell_type": "code",
      "source": [
        "df_sales.shape"
      ],
      "metadata": {
        "colab": {
          "base_uri": "https://localhost:8080/"
        },
        "id": "UdA5DpqlsDnZ",
        "outputId": "891e7b09-e9aa-4813-9c34-1aeb635f4144"
      },
      "execution_count": null,
      "outputs": [
        {
          "output_type": "execute_result",
          "data": {
            "text/plain": [
              "(5000, 7)"
            ]
          },
          "metadata": {},
          "execution_count": 6
        }
      ]
    },
    {
      "cell_type": "code",
      "source": [
        "df_sales.head(5)"
      ],
      "metadata": {
        "colab": {
          "base_uri": "https://localhost:8080/",
          "height": 206
        },
        "id": "r7Mud0HCsxOp",
        "outputId": "542fd460-5589-4709-81ce-04f6605948b4"
      },
      "execution_count": null,
      "outputs": [
        {
          "output_type": "execute_result",
          "data": {
            "text/plain": [
              "                        _id                saleDate  \\\n",
              "0  5bd761dcae323e45a93ccfe8 2015-03-23 21:06:49.506   \n",
              "1  5bd761dcae323e45a93ccfe9 2015-08-25 10:01:02.918   \n",
              "2  5bd761dcae323e45a93ccfea 2017-06-22 09:54:14.185   \n",
              "3  5bd761dcae323e45a93ccfeb 2015-02-23 09:53:59.343   \n",
              "4  5bd761dcae323e45a93ccfec 2017-12-03 18:39:48.253   \n",
              "\n",
              "                                               items storeLocation  \\\n",
              "0  [{'name': 'printer paper', 'tags': ['office', ...        Denver   \n",
              "1  [{'name': 'envelopes', 'tags': ['stationary', ...       Seattle   \n",
              "2  [{'name': 'notepad', 'tags': ['office', 'writi...        Denver   \n",
              "3  [{'name': 'binder', 'tags': ['school', 'genera...       Seattle   \n",
              "4  [{'name': 'backpack', 'tags': ['school', 'trav...        London   \n",
              "\n",
              "                                            customer  couponUsed  \\\n",
              "0  {'gender': 'M', 'age': 42, 'email': 'cauho@wit...        True   \n",
              "1  {'gender': 'M', 'age': 50, 'email': 'keecade@h...       False   \n",
              "2  {'gender': 'M', 'age': 51, 'email': 'worbiduh@...       False   \n",
              "3  {'gender': 'F', 'age': 45, 'email': 'vatires@t...       False   \n",
              "4  {'gender': 'M', 'age': 40, 'email': 'dotzu@ib....       False   \n",
              "\n",
              "  purchaseMethod  \n",
              "0         Online  \n",
              "1          Phone  \n",
              "2       In store  \n",
              "3       In store  \n",
              "4       In store  "
            ],
            "text/html": [
              "\n",
              "  <div id=\"df-d929c049-f8af-46a4-8222-6a58d69f9d22\">\n",
              "    <div class=\"colab-df-container\">\n",
              "      <div>\n",
              "<style scoped>\n",
              "    .dataframe tbody tr th:only-of-type {\n",
              "        vertical-align: middle;\n",
              "    }\n",
              "\n",
              "    .dataframe tbody tr th {\n",
              "        vertical-align: top;\n",
              "    }\n",
              "\n",
              "    .dataframe thead th {\n",
              "        text-align: right;\n",
              "    }\n",
              "</style>\n",
              "<table border=\"1\" class=\"dataframe\">\n",
              "  <thead>\n",
              "    <tr style=\"text-align: right;\">\n",
              "      <th></th>\n",
              "      <th>_id</th>\n",
              "      <th>saleDate</th>\n",
              "      <th>items</th>\n",
              "      <th>storeLocation</th>\n",
              "      <th>customer</th>\n",
              "      <th>couponUsed</th>\n",
              "      <th>purchaseMethod</th>\n",
              "    </tr>\n",
              "  </thead>\n",
              "  <tbody>\n",
              "    <tr>\n",
              "      <th>0</th>\n",
              "      <td>5bd761dcae323e45a93ccfe8</td>\n",
              "      <td>2015-03-23 21:06:49.506</td>\n",
              "      <td>[{'name': 'printer paper', 'tags': ['office', ...</td>\n",
              "      <td>Denver</td>\n",
              "      <td>{'gender': 'M', 'age': 42, 'email': 'cauho@wit...</td>\n",
              "      <td>True</td>\n",
              "      <td>Online</td>\n",
              "    </tr>\n",
              "    <tr>\n",
              "      <th>1</th>\n",
              "      <td>5bd761dcae323e45a93ccfe9</td>\n",
              "      <td>2015-08-25 10:01:02.918</td>\n",
              "      <td>[{'name': 'envelopes', 'tags': ['stationary', ...</td>\n",
              "      <td>Seattle</td>\n",
              "      <td>{'gender': 'M', 'age': 50, 'email': 'keecade@h...</td>\n",
              "      <td>False</td>\n",
              "      <td>Phone</td>\n",
              "    </tr>\n",
              "    <tr>\n",
              "      <th>2</th>\n",
              "      <td>5bd761dcae323e45a93ccfea</td>\n",
              "      <td>2017-06-22 09:54:14.185</td>\n",
              "      <td>[{'name': 'notepad', 'tags': ['office', 'writi...</td>\n",
              "      <td>Denver</td>\n",
              "      <td>{'gender': 'M', 'age': 51, 'email': 'worbiduh@...</td>\n",
              "      <td>False</td>\n",
              "      <td>In store</td>\n",
              "    </tr>\n",
              "    <tr>\n",
              "      <th>3</th>\n",
              "      <td>5bd761dcae323e45a93ccfeb</td>\n",
              "      <td>2015-02-23 09:53:59.343</td>\n",
              "      <td>[{'name': 'binder', 'tags': ['school', 'genera...</td>\n",
              "      <td>Seattle</td>\n",
              "      <td>{'gender': 'F', 'age': 45, 'email': 'vatires@t...</td>\n",
              "      <td>False</td>\n",
              "      <td>In store</td>\n",
              "    </tr>\n",
              "    <tr>\n",
              "      <th>4</th>\n",
              "      <td>5bd761dcae323e45a93ccfec</td>\n",
              "      <td>2017-12-03 18:39:48.253</td>\n",
              "      <td>[{'name': 'backpack', 'tags': ['school', 'trav...</td>\n",
              "      <td>London</td>\n",
              "      <td>{'gender': 'M', 'age': 40, 'email': 'dotzu@ib....</td>\n",
              "      <td>False</td>\n",
              "      <td>In store</td>\n",
              "    </tr>\n",
              "  </tbody>\n",
              "</table>\n",
              "</div>\n",
              "      <button class=\"colab-df-convert\" onclick=\"convertToInteractive('df-d929c049-f8af-46a4-8222-6a58d69f9d22')\"\n",
              "              title=\"Convert this dataframe to an interactive table.\"\n",
              "              style=\"display:none;\">\n",
              "        \n",
              "  <svg xmlns=\"http://www.w3.org/2000/svg\" height=\"24px\"viewBox=\"0 0 24 24\"\n",
              "       width=\"24px\">\n",
              "    <path d=\"M0 0h24v24H0V0z\" fill=\"none\"/>\n",
              "    <path d=\"M18.56 5.44l.94 2.06.94-2.06 2.06-.94-2.06-.94-.94-2.06-.94 2.06-2.06.94zm-11 1L8.5 8.5l.94-2.06 2.06-.94-2.06-.94L8.5 2.5l-.94 2.06-2.06.94zm10 10l.94 2.06.94-2.06 2.06-.94-2.06-.94-.94-2.06-.94 2.06-2.06.94z\"/><path d=\"M17.41 7.96l-1.37-1.37c-.4-.4-.92-.59-1.43-.59-.52 0-1.04.2-1.43.59L10.3 9.45l-7.72 7.72c-.78.78-.78 2.05 0 2.83L4 21.41c.39.39.9.59 1.41.59.51 0 1.02-.2 1.41-.59l7.78-7.78 2.81-2.81c.8-.78.8-2.07 0-2.86zM5.41 20L4 18.59l7.72-7.72 1.47 1.35L5.41 20z\"/>\n",
              "  </svg>\n",
              "      </button>\n",
              "      \n",
              "  <style>\n",
              "    .colab-df-container {\n",
              "      display:flex;\n",
              "      flex-wrap:wrap;\n",
              "      gap: 12px;\n",
              "    }\n",
              "\n",
              "    .colab-df-convert {\n",
              "      background-color: #E8F0FE;\n",
              "      border: none;\n",
              "      border-radius: 50%;\n",
              "      cursor: pointer;\n",
              "      display: none;\n",
              "      fill: #1967D2;\n",
              "      height: 32px;\n",
              "      padding: 0 0 0 0;\n",
              "      width: 32px;\n",
              "    }\n",
              "\n",
              "    .colab-df-convert:hover {\n",
              "      background-color: #E2EBFA;\n",
              "      box-shadow: 0px 1px 2px rgba(60, 64, 67, 0.3), 0px 1px 3px 1px rgba(60, 64, 67, 0.15);\n",
              "      fill: #174EA6;\n",
              "    }\n",
              "\n",
              "    [theme=dark] .colab-df-convert {\n",
              "      background-color: #3B4455;\n",
              "      fill: #D2E3FC;\n",
              "    }\n",
              "\n",
              "    [theme=dark] .colab-df-convert:hover {\n",
              "      background-color: #434B5C;\n",
              "      box-shadow: 0px 1px 3px 1px rgba(0, 0, 0, 0.15);\n",
              "      filter: drop-shadow(0px 1px 2px rgba(0, 0, 0, 0.3));\n",
              "      fill: #FFFFFF;\n",
              "    }\n",
              "  </style>\n",
              "\n",
              "      <script>\n",
              "        const buttonEl =\n",
              "          document.querySelector('#df-d929c049-f8af-46a4-8222-6a58d69f9d22 button.colab-df-convert');\n",
              "        buttonEl.style.display =\n",
              "          google.colab.kernel.accessAllowed ? 'block' : 'none';\n",
              "\n",
              "        async function convertToInteractive(key) {\n",
              "          const element = document.querySelector('#df-d929c049-f8af-46a4-8222-6a58d69f9d22');\n",
              "          const dataTable =\n",
              "            await google.colab.kernel.invokeFunction('convertToInteractive',\n",
              "                                                     [key], {});\n",
              "          if (!dataTable) return;\n",
              "\n",
              "          const docLinkHtml = 'Like what you see? Visit the ' +\n",
              "            '<a target=\"_blank\" href=https://colab.research.google.com/notebooks/data_table.ipynb>data table notebook</a>'\n",
              "            + ' to learn more about interactive tables.';\n",
              "          element.innerHTML = '';\n",
              "          dataTable['output_type'] = 'display_data';\n",
              "          await google.colab.output.renderOutput(dataTable, element);\n",
              "          const docLink = document.createElement('div');\n",
              "          docLink.innerHTML = docLinkHtml;\n",
              "          element.appendChild(docLink);\n",
              "        }\n",
              "      </script>\n",
              "    </div>\n",
              "  </div>\n",
              "  "
            ]
          },
          "metadata": {},
          "execution_count": 7
        }
      ]
    },
    {
      "cell_type": "code",
      "source": [
        "df_sales.dtypes"
      ],
      "metadata": {
        "colab": {
          "base_uri": "https://localhost:8080/"
        },
        "id": "AZciMj-GtHC5",
        "outputId": "19ca83cc-12ae-4654-8ea0-91d0ebe71ffc"
      },
      "execution_count": null,
      "outputs": [
        {
          "output_type": "execute_result",
          "data": {
            "text/plain": [
              "_id                       object\n",
              "saleDate          datetime64[ns]\n",
              "items                     object\n",
              "storeLocation             object\n",
              "customer                  object\n",
              "couponUsed                  bool\n",
              "purchaseMethod            object\n",
              "dtype: object"
            ]
          },
          "metadata": {},
          "execution_count": 8
        }
      ]
    },
    {
      "cell_type": "code",
      "source": [
        "df_sales.isna().sum()"
      ],
      "metadata": {
        "colab": {
          "base_uri": "https://localhost:8080/"
        },
        "id": "pe6wSyk9vvfP",
        "outputId": "5c85c93d-d05e-4201-e76c-e911ffb56a35"
      },
      "execution_count": null,
      "outputs": [
        {
          "output_type": "execute_result",
          "data": {
            "text/plain": [
              "_id               0\n",
              "saleDate          0\n",
              "items             0\n",
              "storeLocation     0\n",
              "customer          0\n",
              "couponUsed        0\n",
              "purchaseMethod    0\n",
              "dtype: int64"
            ]
          },
          "metadata": {},
          "execution_count": 9
        }
      ]
    },
    {
      "cell_type": "markdown",
      "source": [
        "#Tratamento dos dados"
      ],
      "metadata": {
        "id": "x7hC4gddN0YW"
      }
    },
    {
      "cell_type": "markdown",
      "source": [
        "## Transformar dados colunas em novo dataframe (customer)"
      ],
      "metadata": {
        "id": "wBtddDmSvKLd"
      }
    },
    {
      "cell_type": "markdown",
      "source": [
        "A coluna customer tem uma estrutura de dicionários em cada linha da tabela.\n",
        "A intensão é tranformar em um novo dataframe e fazer um merge com o dataframe principal (df_sales)"
      ],
      "metadata": {
        "id": "s6YLyd40DGtO"
      }
    },
    {
      "cell_type": "code",
      "source": [
        "df_sales.loc[0, 'customer']"
      ],
      "metadata": {
        "colab": {
          "base_uri": "https://localhost:8080/"
        },
        "id": "qGbRwP1cr71d",
        "outputId": "791c55f9-bb84-401c-9ecc-25dab607c830"
      },
      "execution_count": null,
      "outputs": [
        {
          "output_type": "execute_result",
          "data": {
            "text/plain": [
              "{'gender': 'M', 'age': 42, 'email': 'cauho@witwuta.sv', 'satisfaction': 4}"
            ]
          },
          "metadata": {},
          "execution_count": 10
        }
      ]
    },
    {
      "cell_type": "code",
      "source": [
        "customer = df_sales['customer']\n",
        "customer"
      ],
      "metadata": {
        "colab": {
          "base_uri": "https://localhost:8080/"
        },
        "id": "PD400ODttKbd",
        "outputId": "213e79c1-580a-477f-9b06-de4ff6419290"
      },
      "execution_count": null,
      "outputs": [
        {
          "output_type": "execute_result",
          "data": {
            "text/plain": [
              "0       {'gender': 'M', 'age': 42, 'email': 'cauho@wit...\n",
              "1       {'gender': 'M', 'age': 50, 'email': 'keecade@h...\n",
              "2       {'gender': 'M', 'age': 51, 'email': 'worbiduh@...\n",
              "3       {'gender': 'F', 'age': 45, 'email': 'vatires@t...\n",
              "4       {'gender': 'M', 'age': 40, 'email': 'dotzu@ib....\n",
              "                              ...                        \n",
              "4995    {'gender': 'F', 'age': 45, 'email': 'du@rum.py...\n",
              "4996    {'gender': 'F', 'age': 47, 'email': 'dup@katje...\n",
              "4997    {'gender': 'M', 'age': 29, 'email': 'losuhse@e...\n",
              "4998    {'gender': 'M', 'age': 59, 'email': 'hu@pehabu...\n",
              "4999    {'gender': 'M', 'age': 33, 'email': 'lihzodud@...\n",
              "Name: customer, Length: 5000, dtype: object"
            ]
          },
          "metadata": {},
          "execution_count": 11
        }
      ]
    },
    {
      "cell_type": "code",
      "source": [
        "customer_dic = customer.loc[0]\n",
        "customer_dic.keys()"
      ],
      "metadata": {
        "colab": {
          "base_uri": "https://localhost:8080/"
        },
        "id": "5y0v4u2AwSxE",
        "outputId": "2a254dab-5295-4453-f692-cbc46059f9c5"
      },
      "execution_count": null,
      "outputs": [
        {
          "output_type": "execute_result",
          "data": {
            "text/plain": [
              "dict_keys(['gender', 'age', 'email', 'satisfaction'])"
            ]
          },
          "metadata": {},
          "execution_count": 12
        }
      ]
    },
    {
      "cell_type": "code",
      "source": [
        "col_names = customer_dic.keys()\n",
        "df_customer = pd.DataFrame(columns=col_names)"
      ],
      "metadata": {
        "id": "TWIfLdSB2Y3D"
      },
      "execution_count": null,
      "outputs": []
    },
    {
      "cell_type": "code",
      "source": [
        "for i in range(5000):\n",
        "  df_customer = df_customer.append(customer.loc[i], ignore_index=True)\n",
        "\n",
        "df_customer"
      ],
      "metadata": {
        "colab": {
          "base_uri": "https://localhost:8080/",
          "height": 424
        },
        "id": "Y6AgT1gx4_2M",
        "outputId": "1685565d-eb2c-4315-f546-7c29e729763d"
      },
      "execution_count": null,
      "outputs": [
        {
          "output_type": "execute_result",
          "data": {
            "text/plain": [
              "     gender age                 email satisfaction\n",
              "0         M  42      cauho@witwuta.sv            4\n",
              "1         M  50        keecade@hem.uy            5\n",
              "2         M  51     worbiduh@vowbu.cg            5\n",
              "3         F  45         vatires@ta.pe            3\n",
              "4         M  40           dotzu@ib.sh            4\n",
              "...     ...  ..                   ...          ...\n",
              "4995      F  45             du@rum.py            3\n",
              "4996      F  47      dup@katjewtep.hr            3\n",
              "4997      M  29  losuhse@eronehjod.np            4\n",
              "4998      M  59         hu@pehabur.gd            4\n",
              "4999      M  33    lihzodud@voblep.ie            3\n",
              "\n",
              "[5000 rows x 4 columns]"
            ],
            "text/html": [
              "\n",
              "  <div id=\"df-bf81064b-a9d2-428e-be31-201d809c063b\">\n",
              "    <div class=\"colab-df-container\">\n",
              "      <div>\n",
              "<style scoped>\n",
              "    .dataframe tbody tr th:only-of-type {\n",
              "        vertical-align: middle;\n",
              "    }\n",
              "\n",
              "    .dataframe tbody tr th {\n",
              "        vertical-align: top;\n",
              "    }\n",
              "\n",
              "    .dataframe thead th {\n",
              "        text-align: right;\n",
              "    }\n",
              "</style>\n",
              "<table border=\"1\" class=\"dataframe\">\n",
              "  <thead>\n",
              "    <tr style=\"text-align: right;\">\n",
              "      <th></th>\n",
              "      <th>gender</th>\n",
              "      <th>age</th>\n",
              "      <th>email</th>\n",
              "      <th>satisfaction</th>\n",
              "    </tr>\n",
              "  </thead>\n",
              "  <tbody>\n",
              "    <tr>\n",
              "      <th>0</th>\n",
              "      <td>M</td>\n",
              "      <td>42</td>\n",
              "      <td>cauho@witwuta.sv</td>\n",
              "      <td>4</td>\n",
              "    </tr>\n",
              "    <tr>\n",
              "      <th>1</th>\n",
              "      <td>M</td>\n",
              "      <td>50</td>\n",
              "      <td>keecade@hem.uy</td>\n",
              "      <td>5</td>\n",
              "    </tr>\n",
              "    <tr>\n",
              "      <th>2</th>\n",
              "      <td>M</td>\n",
              "      <td>51</td>\n",
              "      <td>worbiduh@vowbu.cg</td>\n",
              "      <td>5</td>\n",
              "    </tr>\n",
              "    <tr>\n",
              "      <th>3</th>\n",
              "      <td>F</td>\n",
              "      <td>45</td>\n",
              "      <td>vatires@ta.pe</td>\n",
              "      <td>3</td>\n",
              "    </tr>\n",
              "    <tr>\n",
              "      <th>4</th>\n",
              "      <td>M</td>\n",
              "      <td>40</td>\n",
              "      <td>dotzu@ib.sh</td>\n",
              "      <td>4</td>\n",
              "    </tr>\n",
              "    <tr>\n",
              "      <th>...</th>\n",
              "      <td>...</td>\n",
              "      <td>...</td>\n",
              "      <td>...</td>\n",
              "      <td>...</td>\n",
              "    </tr>\n",
              "    <tr>\n",
              "      <th>4995</th>\n",
              "      <td>F</td>\n",
              "      <td>45</td>\n",
              "      <td>du@rum.py</td>\n",
              "      <td>3</td>\n",
              "    </tr>\n",
              "    <tr>\n",
              "      <th>4996</th>\n",
              "      <td>F</td>\n",
              "      <td>47</td>\n",
              "      <td>dup@katjewtep.hr</td>\n",
              "      <td>3</td>\n",
              "    </tr>\n",
              "    <tr>\n",
              "      <th>4997</th>\n",
              "      <td>M</td>\n",
              "      <td>29</td>\n",
              "      <td>losuhse@eronehjod.np</td>\n",
              "      <td>4</td>\n",
              "    </tr>\n",
              "    <tr>\n",
              "      <th>4998</th>\n",
              "      <td>M</td>\n",
              "      <td>59</td>\n",
              "      <td>hu@pehabur.gd</td>\n",
              "      <td>4</td>\n",
              "    </tr>\n",
              "    <tr>\n",
              "      <th>4999</th>\n",
              "      <td>M</td>\n",
              "      <td>33</td>\n",
              "      <td>lihzodud@voblep.ie</td>\n",
              "      <td>3</td>\n",
              "    </tr>\n",
              "  </tbody>\n",
              "</table>\n",
              "<p>5000 rows × 4 columns</p>\n",
              "</div>\n",
              "      <button class=\"colab-df-convert\" onclick=\"convertToInteractive('df-bf81064b-a9d2-428e-be31-201d809c063b')\"\n",
              "              title=\"Convert this dataframe to an interactive table.\"\n",
              "              style=\"display:none;\">\n",
              "        \n",
              "  <svg xmlns=\"http://www.w3.org/2000/svg\" height=\"24px\"viewBox=\"0 0 24 24\"\n",
              "       width=\"24px\">\n",
              "    <path d=\"M0 0h24v24H0V0z\" fill=\"none\"/>\n",
              "    <path d=\"M18.56 5.44l.94 2.06.94-2.06 2.06-.94-2.06-.94-.94-2.06-.94 2.06-2.06.94zm-11 1L8.5 8.5l.94-2.06 2.06-.94-2.06-.94L8.5 2.5l-.94 2.06-2.06.94zm10 10l.94 2.06.94-2.06 2.06-.94-2.06-.94-.94-2.06-.94 2.06-2.06.94z\"/><path d=\"M17.41 7.96l-1.37-1.37c-.4-.4-.92-.59-1.43-.59-.52 0-1.04.2-1.43.59L10.3 9.45l-7.72 7.72c-.78.78-.78 2.05 0 2.83L4 21.41c.39.39.9.59 1.41.59.51 0 1.02-.2 1.41-.59l7.78-7.78 2.81-2.81c.8-.78.8-2.07 0-2.86zM5.41 20L4 18.59l7.72-7.72 1.47 1.35L5.41 20z\"/>\n",
              "  </svg>\n",
              "      </button>\n",
              "      \n",
              "  <style>\n",
              "    .colab-df-container {\n",
              "      display:flex;\n",
              "      flex-wrap:wrap;\n",
              "      gap: 12px;\n",
              "    }\n",
              "\n",
              "    .colab-df-convert {\n",
              "      background-color: #E8F0FE;\n",
              "      border: none;\n",
              "      border-radius: 50%;\n",
              "      cursor: pointer;\n",
              "      display: none;\n",
              "      fill: #1967D2;\n",
              "      height: 32px;\n",
              "      padding: 0 0 0 0;\n",
              "      width: 32px;\n",
              "    }\n",
              "\n",
              "    .colab-df-convert:hover {\n",
              "      background-color: #E2EBFA;\n",
              "      box-shadow: 0px 1px 2px rgba(60, 64, 67, 0.3), 0px 1px 3px 1px rgba(60, 64, 67, 0.15);\n",
              "      fill: #174EA6;\n",
              "    }\n",
              "\n",
              "    [theme=dark] .colab-df-convert {\n",
              "      background-color: #3B4455;\n",
              "      fill: #D2E3FC;\n",
              "    }\n",
              "\n",
              "    [theme=dark] .colab-df-convert:hover {\n",
              "      background-color: #434B5C;\n",
              "      box-shadow: 0px 1px 3px 1px rgba(0, 0, 0, 0.15);\n",
              "      filter: drop-shadow(0px 1px 2px rgba(0, 0, 0, 0.3));\n",
              "      fill: #FFFFFF;\n",
              "    }\n",
              "  </style>\n",
              "\n",
              "      <script>\n",
              "        const buttonEl =\n",
              "          document.querySelector('#df-bf81064b-a9d2-428e-be31-201d809c063b button.colab-df-convert');\n",
              "        buttonEl.style.display =\n",
              "          google.colab.kernel.accessAllowed ? 'block' : 'none';\n",
              "\n",
              "        async function convertToInteractive(key) {\n",
              "          const element = document.querySelector('#df-bf81064b-a9d2-428e-be31-201d809c063b');\n",
              "          const dataTable =\n",
              "            await google.colab.kernel.invokeFunction('convertToInteractive',\n",
              "                                                     [key], {});\n",
              "          if (!dataTable) return;\n",
              "\n",
              "          const docLinkHtml = 'Like what you see? Visit the ' +\n",
              "            '<a target=\"_blank\" href=https://colab.research.google.com/notebooks/data_table.ipynb>data table notebook</a>'\n",
              "            + ' to learn more about interactive tables.';\n",
              "          element.innerHTML = '';\n",
              "          dataTable['output_type'] = 'display_data';\n",
              "          await google.colab.output.renderOutput(dataTable, element);\n",
              "          const docLink = document.createElement('div');\n",
              "          docLink.innerHTML = docLinkHtml;\n",
              "          element.appendChild(docLink);\n",
              "        }\n",
              "      </script>\n",
              "    </div>\n",
              "  </div>\n",
              "  "
            ]
          },
          "metadata": {},
          "execution_count": 14
        }
      ]
    },
    {
      "cell_type": "markdown",
      "source": [
        "### Merge entre df_sales e df_customer"
      ],
      "metadata": {
        "id": "hMTp2BfyM2Zm"
      }
    },
    {
      "cell_type": "code",
      "source": [
        "#ao invés de salvar os arquivos e fazer upload de novo\n",
        "#talvez seja mais rápido dar o reset no index e depois fazer o merge....e depois apagar todos esse indices colocados a mais?\n",
        "df_customer.reset_index(inplace=True)\n",
        "df_customer"
      ],
      "metadata": {
        "colab": {
          "base_uri": "https://localhost:8080/",
          "height": 424
        },
        "id": "U50iisKZEpUO",
        "outputId": "e98cf270-10b3-4a2f-f5c6-605dcfb7caba"
      },
      "execution_count": null,
      "outputs": [
        {
          "output_type": "execute_result",
          "data": {
            "text/plain": [
              "      index gender age                 email satisfaction\n",
              "0         0      M  42      cauho@witwuta.sv            4\n",
              "1         1      M  50        keecade@hem.uy            5\n",
              "2         2      M  51     worbiduh@vowbu.cg            5\n",
              "3         3      F  45         vatires@ta.pe            3\n",
              "4         4      M  40           dotzu@ib.sh            4\n",
              "...     ...    ...  ..                   ...          ...\n",
              "4995   4995      F  45             du@rum.py            3\n",
              "4996   4996      F  47      dup@katjewtep.hr            3\n",
              "4997   4997      M  29  losuhse@eronehjod.np            4\n",
              "4998   4998      M  59         hu@pehabur.gd            4\n",
              "4999   4999      M  33    lihzodud@voblep.ie            3\n",
              "\n",
              "[5000 rows x 5 columns]"
            ],
            "text/html": [
              "\n",
              "  <div id=\"df-fa17e1ca-53aa-4e09-a60e-06a2e77c5f86\">\n",
              "    <div class=\"colab-df-container\">\n",
              "      <div>\n",
              "<style scoped>\n",
              "    .dataframe tbody tr th:only-of-type {\n",
              "        vertical-align: middle;\n",
              "    }\n",
              "\n",
              "    .dataframe tbody tr th {\n",
              "        vertical-align: top;\n",
              "    }\n",
              "\n",
              "    .dataframe thead th {\n",
              "        text-align: right;\n",
              "    }\n",
              "</style>\n",
              "<table border=\"1\" class=\"dataframe\">\n",
              "  <thead>\n",
              "    <tr style=\"text-align: right;\">\n",
              "      <th></th>\n",
              "      <th>index</th>\n",
              "      <th>gender</th>\n",
              "      <th>age</th>\n",
              "      <th>email</th>\n",
              "      <th>satisfaction</th>\n",
              "    </tr>\n",
              "  </thead>\n",
              "  <tbody>\n",
              "    <tr>\n",
              "      <th>0</th>\n",
              "      <td>0</td>\n",
              "      <td>M</td>\n",
              "      <td>42</td>\n",
              "      <td>cauho@witwuta.sv</td>\n",
              "      <td>4</td>\n",
              "    </tr>\n",
              "    <tr>\n",
              "      <th>1</th>\n",
              "      <td>1</td>\n",
              "      <td>M</td>\n",
              "      <td>50</td>\n",
              "      <td>keecade@hem.uy</td>\n",
              "      <td>5</td>\n",
              "    </tr>\n",
              "    <tr>\n",
              "      <th>2</th>\n",
              "      <td>2</td>\n",
              "      <td>M</td>\n",
              "      <td>51</td>\n",
              "      <td>worbiduh@vowbu.cg</td>\n",
              "      <td>5</td>\n",
              "    </tr>\n",
              "    <tr>\n",
              "      <th>3</th>\n",
              "      <td>3</td>\n",
              "      <td>F</td>\n",
              "      <td>45</td>\n",
              "      <td>vatires@ta.pe</td>\n",
              "      <td>3</td>\n",
              "    </tr>\n",
              "    <tr>\n",
              "      <th>4</th>\n",
              "      <td>4</td>\n",
              "      <td>M</td>\n",
              "      <td>40</td>\n",
              "      <td>dotzu@ib.sh</td>\n",
              "      <td>4</td>\n",
              "    </tr>\n",
              "    <tr>\n",
              "      <th>...</th>\n",
              "      <td>...</td>\n",
              "      <td>...</td>\n",
              "      <td>...</td>\n",
              "      <td>...</td>\n",
              "      <td>...</td>\n",
              "    </tr>\n",
              "    <tr>\n",
              "      <th>4995</th>\n",
              "      <td>4995</td>\n",
              "      <td>F</td>\n",
              "      <td>45</td>\n",
              "      <td>du@rum.py</td>\n",
              "      <td>3</td>\n",
              "    </tr>\n",
              "    <tr>\n",
              "      <th>4996</th>\n",
              "      <td>4996</td>\n",
              "      <td>F</td>\n",
              "      <td>47</td>\n",
              "      <td>dup@katjewtep.hr</td>\n",
              "      <td>3</td>\n",
              "    </tr>\n",
              "    <tr>\n",
              "      <th>4997</th>\n",
              "      <td>4997</td>\n",
              "      <td>M</td>\n",
              "      <td>29</td>\n",
              "      <td>losuhse@eronehjod.np</td>\n",
              "      <td>4</td>\n",
              "    </tr>\n",
              "    <tr>\n",
              "      <th>4998</th>\n",
              "      <td>4998</td>\n",
              "      <td>M</td>\n",
              "      <td>59</td>\n",
              "      <td>hu@pehabur.gd</td>\n",
              "      <td>4</td>\n",
              "    </tr>\n",
              "    <tr>\n",
              "      <th>4999</th>\n",
              "      <td>4999</td>\n",
              "      <td>M</td>\n",
              "      <td>33</td>\n",
              "      <td>lihzodud@voblep.ie</td>\n",
              "      <td>3</td>\n",
              "    </tr>\n",
              "  </tbody>\n",
              "</table>\n",
              "<p>5000 rows × 5 columns</p>\n",
              "</div>\n",
              "      <button class=\"colab-df-convert\" onclick=\"convertToInteractive('df-fa17e1ca-53aa-4e09-a60e-06a2e77c5f86')\"\n",
              "              title=\"Convert this dataframe to an interactive table.\"\n",
              "              style=\"display:none;\">\n",
              "        \n",
              "  <svg xmlns=\"http://www.w3.org/2000/svg\" height=\"24px\"viewBox=\"0 0 24 24\"\n",
              "       width=\"24px\">\n",
              "    <path d=\"M0 0h24v24H0V0z\" fill=\"none\"/>\n",
              "    <path d=\"M18.56 5.44l.94 2.06.94-2.06 2.06-.94-2.06-.94-.94-2.06-.94 2.06-2.06.94zm-11 1L8.5 8.5l.94-2.06 2.06-.94-2.06-.94L8.5 2.5l-.94 2.06-2.06.94zm10 10l.94 2.06.94-2.06 2.06-.94-2.06-.94-.94-2.06-.94 2.06-2.06.94z\"/><path d=\"M17.41 7.96l-1.37-1.37c-.4-.4-.92-.59-1.43-.59-.52 0-1.04.2-1.43.59L10.3 9.45l-7.72 7.72c-.78.78-.78 2.05 0 2.83L4 21.41c.39.39.9.59 1.41.59.51 0 1.02-.2 1.41-.59l7.78-7.78 2.81-2.81c.8-.78.8-2.07 0-2.86zM5.41 20L4 18.59l7.72-7.72 1.47 1.35L5.41 20z\"/>\n",
              "  </svg>\n",
              "      </button>\n",
              "      \n",
              "  <style>\n",
              "    .colab-df-container {\n",
              "      display:flex;\n",
              "      flex-wrap:wrap;\n",
              "      gap: 12px;\n",
              "    }\n",
              "\n",
              "    .colab-df-convert {\n",
              "      background-color: #E8F0FE;\n",
              "      border: none;\n",
              "      border-radius: 50%;\n",
              "      cursor: pointer;\n",
              "      display: none;\n",
              "      fill: #1967D2;\n",
              "      height: 32px;\n",
              "      padding: 0 0 0 0;\n",
              "      width: 32px;\n",
              "    }\n",
              "\n",
              "    .colab-df-convert:hover {\n",
              "      background-color: #E2EBFA;\n",
              "      box-shadow: 0px 1px 2px rgba(60, 64, 67, 0.3), 0px 1px 3px 1px rgba(60, 64, 67, 0.15);\n",
              "      fill: #174EA6;\n",
              "    }\n",
              "\n",
              "    [theme=dark] .colab-df-convert {\n",
              "      background-color: #3B4455;\n",
              "      fill: #D2E3FC;\n",
              "    }\n",
              "\n",
              "    [theme=dark] .colab-df-convert:hover {\n",
              "      background-color: #434B5C;\n",
              "      box-shadow: 0px 1px 3px 1px rgba(0, 0, 0, 0.15);\n",
              "      filter: drop-shadow(0px 1px 2px rgba(0, 0, 0, 0.3));\n",
              "      fill: #FFFFFF;\n",
              "    }\n",
              "  </style>\n",
              "\n",
              "      <script>\n",
              "        const buttonEl =\n",
              "          document.querySelector('#df-fa17e1ca-53aa-4e09-a60e-06a2e77c5f86 button.colab-df-convert');\n",
              "        buttonEl.style.display =\n",
              "          google.colab.kernel.accessAllowed ? 'block' : 'none';\n",
              "\n",
              "        async function convertToInteractive(key) {\n",
              "          const element = document.querySelector('#df-fa17e1ca-53aa-4e09-a60e-06a2e77c5f86');\n",
              "          const dataTable =\n",
              "            await google.colab.kernel.invokeFunction('convertToInteractive',\n",
              "                                                     [key], {});\n",
              "          if (!dataTable) return;\n",
              "\n",
              "          const docLinkHtml = 'Like what you see? Visit the ' +\n",
              "            '<a target=\"_blank\" href=https://colab.research.google.com/notebooks/data_table.ipynb>data table notebook</a>'\n",
              "            + ' to learn more about interactive tables.';\n",
              "          element.innerHTML = '';\n",
              "          dataTable['output_type'] = 'display_data';\n",
              "          await google.colab.output.renderOutput(dataTable, element);\n",
              "          const docLink = document.createElement('div');\n",
              "          docLink.innerHTML = docLinkHtml;\n",
              "          element.appendChild(docLink);\n",
              "        }\n",
              "      </script>\n",
              "    </div>\n",
              "  </div>\n",
              "  "
            ]
          },
          "metadata": {},
          "execution_count": 15
        }
      ]
    },
    {
      "cell_type": "code",
      "source": [
        "df_sales.reset_index(inplace=True)"
      ],
      "metadata": {
        "id": "HD_HgpINF3kO"
      },
      "execution_count": null,
      "outputs": []
    },
    {
      "cell_type": "code",
      "source": [
        "df_sales"
      ],
      "metadata": {
        "id": "LE2Y8_4AGGsM"
      },
      "execution_count": null,
      "outputs": []
    },
    {
      "cell_type": "code",
      "source": [
        "dft = df_sales.merge(df_customer, how='outer')\n",
        "dft.head(5)"
      ],
      "metadata": {
        "colab": {
          "base_uri": "https://localhost:8080/",
          "height": 337
        },
        "id": "EXni9oUqGCU0",
        "outputId": "055f5964-2211-45d7-99ac-c83196468bc0"
      },
      "execution_count": null,
      "outputs": [
        {
          "output_type": "execute_result",
          "data": {
            "text/plain": [
              "   index                       _id                saleDate  \\\n",
              "0      0  5bd761dcae323e45a93ccfe8 2015-03-23 21:06:49.506   \n",
              "1      1  5bd761dcae323e45a93ccfe9 2015-08-25 10:01:02.918   \n",
              "2      2  5bd761dcae323e45a93ccfea 2017-06-22 09:54:14.185   \n",
              "3      3  5bd761dcae323e45a93ccfeb 2015-02-23 09:53:59.343   \n",
              "4      4  5bd761dcae323e45a93ccfec 2017-12-03 18:39:48.253   \n",
              "\n",
              "                                               items storeLocation  \\\n",
              "0  [{'name': 'printer paper', 'tags': ['office', ...        Denver   \n",
              "1  [{'name': 'envelopes', 'tags': ['stationary', ...       Seattle   \n",
              "2  [{'name': 'notepad', 'tags': ['office', 'writi...        Denver   \n",
              "3  [{'name': 'binder', 'tags': ['school', 'genera...       Seattle   \n",
              "4  [{'name': 'backpack', 'tags': ['school', 'trav...        London   \n",
              "\n",
              "                                            customer  couponUsed  \\\n",
              "0  {'gender': 'M', 'age': 42, 'email': 'cauho@wit...        True   \n",
              "1  {'gender': 'M', 'age': 50, 'email': 'keecade@h...       False   \n",
              "2  {'gender': 'M', 'age': 51, 'email': 'worbiduh@...       False   \n",
              "3  {'gender': 'F', 'age': 45, 'email': 'vatires@t...       False   \n",
              "4  {'gender': 'M', 'age': 40, 'email': 'dotzu@ib....       False   \n",
              "\n",
              "  purchaseMethod gender age              email satisfaction  \n",
              "0         Online      M  42   cauho@witwuta.sv            4  \n",
              "1          Phone      M  50     keecade@hem.uy            5  \n",
              "2       In store      M  51  worbiduh@vowbu.cg            5  \n",
              "3       In store      F  45      vatires@ta.pe            3  \n",
              "4       In store      M  40        dotzu@ib.sh            4  "
            ],
            "text/html": [
              "\n",
              "  <div id=\"df-a6d54d76-29f4-477f-bca4-376b708fd567\">\n",
              "    <div class=\"colab-df-container\">\n",
              "      <div>\n",
              "<style scoped>\n",
              "    .dataframe tbody tr th:only-of-type {\n",
              "        vertical-align: middle;\n",
              "    }\n",
              "\n",
              "    .dataframe tbody tr th {\n",
              "        vertical-align: top;\n",
              "    }\n",
              "\n",
              "    .dataframe thead th {\n",
              "        text-align: right;\n",
              "    }\n",
              "</style>\n",
              "<table border=\"1\" class=\"dataframe\">\n",
              "  <thead>\n",
              "    <tr style=\"text-align: right;\">\n",
              "      <th></th>\n",
              "      <th>index</th>\n",
              "      <th>_id</th>\n",
              "      <th>saleDate</th>\n",
              "      <th>items</th>\n",
              "      <th>storeLocation</th>\n",
              "      <th>customer</th>\n",
              "      <th>couponUsed</th>\n",
              "      <th>purchaseMethod</th>\n",
              "      <th>gender</th>\n",
              "      <th>age</th>\n",
              "      <th>email</th>\n",
              "      <th>satisfaction</th>\n",
              "    </tr>\n",
              "  </thead>\n",
              "  <tbody>\n",
              "    <tr>\n",
              "      <th>0</th>\n",
              "      <td>0</td>\n",
              "      <td>5bd761dcae323e45a93ccfe8</td>\n",
              "      <td>2015-03-23 21:06:49.506</td>\n",
              "      <td>[{'name': 'printer paper', 'tags': ['office', ...</td>\n",
              "      <td>Denver</td>\n",
              "      <td>{'gender': 'M', 'age': 42, 'email': 'cauho@wit...</td>\n",
              "      <td>True</td>\n",
              "      <td>Online</td>\n",
              "      <td>M</td>\n",
              "      <td>42</td>\n",
              "      <td>cauho@witwuta.sv</td>\n",
              "      <td>4</td>\n",
              "    </tr>\n",
              "    <tr>\n",
              "      <th>1</th>\n",
              "      <td>1</td>\n",
              "      <td>5bd761dcae323e45a93ccfe9</td>\n",
              "      <td>2015-08-25 10:01:02.918</td>\n",
              "      <td>[{'name': 'envelopes', 'tags': ['stationary', ...</td>\n",
              "      <td>Seattle</td>\n",
              "      <td>{'gender': 'M', 'age': 50, 'email': 'keecade@h...</td>\n",
              "      <td>False</td>\n",
              "      <td>Phone</td>\n",
              "      <td>M</td>\n",
              "      <td>50</td>\n",
              "      <td>keecade@hem.uy</td>\n",
              "      <td>5</td>\n",
              "    </tr>\n",
              "    <tr>\n",
              "      <th>2</th>\n",
              "      <td>2</td>\n",
              "      <td>5bd761dcae323e45a93ccfea</td>\n",
              "      <td>2017-06-22 09:54:14.185</td>\n",
              "      <td>[{'name': 'notepad', 'tags': ['office', 'writi...</td>\n",
              "      <td>Denver</td>\n",
              "      <td>{'gender': 'M', 'age': 51, 'email': 'worbiduh@...</td>\n",
              "      <td>False</td>\n",
              "      <td>In store</td>\n",
              "      <td>M</td>\n",
              "      <td>51</td>\n",
              "      <td>worbiduh@vowbu.cg</td>\n",
              "      <td>5</td>\n",
              "    </tr>\n",
              "    <tr>\n",
              "      <th>3</th>\n",
              "      <td>3</td>\n",
              "      <td>5bd761dcae323e45a93ccfeb</td>\n",
              "      <td>2015-02-23 09:53:59.343</td>\n",
              "      <td>[{'name': 'binder', 'tags': ['school', 'genera...</td>\n",
              "      <td>Seattle</td>\n",
              "      <td>{'gender': 'F', 'age': 45, 'email': 'vatires@t...</td>\n",
              "      <td>False</td>\n",
              "      <td>In store</td>\n",
              "      <td>F</td>\n",
              "      <td>45</td>\n",
              "      <td>vatires@ta.pe</td>\n",
              "      <td>3</td>\n",
              "    </tr>\n",
              "    <tr>\n",
              "      <th>4</th>\n",
              "      <td>4</td>\n",
              "      <td>5bd761dcae323e45a93ccfec</td>\n",
              "      <td>2017-12-03 18:39:48.253</td>\n",
              "      <td>[{'name': 'backpack', 'tags': ['school', 'trav...</td>\n",
              "      <td>London</td>\n",
              "      <td>{'gender': 'M', 'age': 40, 'email': 'dotzu@ib....</td>\n",
              "      <td>False</td>\n",
              "      <td>In store</td>\n",
              "      <td>M</td>\n",
              "      <td>40</td>\n",
              "      <td>dotzu@ib.sh</td>\n",
              "      <td>4</td>\n",
              "    </tr>\n",
              "  </tbody>\n",
              "</table>\n",
              "</div>\n",
              "      <button class=\"colab-df-convert\" onclick=\"convertToInteractive('df-a6d54d76-29f4-477f-bca4-376b708fd567')\"\n",
              "              title=\"Convert this dataframe to an interactive table.\"\n",
              "              style=\"display:none;\">\n",
              "        \n",
              "  <svg xmlns=\"http://www.w3.org/2000/svg\" height=\"24px\"viewBox=\"0 0 24 24\"\n",
              "       width=\"24px\">\n",
              "    <path d=\"M0 0h24v24H0V0z\" fill=\"none\"/>\n",
              "    <path d=\"M18.56 5.44l.94 2.06.94-2.06 2.06-.94-2.06-.94-.94-2.06-.94 2.06-2.06.94zm-11 1L8.5 8.5l.94-2.06 2.06-.94-2.06-.94L8.5 2.5l-.94 2.06-2.06.94zm10 10l.94 2.06.94-2.06 2.06-.94-2.06-.94-.94-2.06-.94 2.06-2.06.94z\"/><path d=\"M17.41 7.96l-1.37-1.37c-.4-.4-.92-.59-1.43-.59-.52 0-1.04.2-1.43.59L10.3 9.45l-7.72 7.72c-.78.78-.78 2.05 0 2.83L4 21.41c.39.39.9.59 1.41.59.51 0 1.02-.2 1.41-.59l7.78-7.78 2.81-2.81c.8-.78.8-2.07 0-2.86zM5.41 20L4 18.59l7.72-7.72 1.47 1.35L5.41 20z\"/>\n",
              "  </svg>\n",
              "      </button>\n",
              "      \n",
              "  <style>\n",
              "    .colab-df-container {\n",
              "      display:flex;\n",
              "      flex-wrap:wrap;\n",
              "      gap: 12px;\n",
              "    }\n",
              "\n",
              "    .colab-df-convert {\n",
              "      background-color: #E8F0FE;\n",
              "      border: none;\n",
              "      border-radius: 50%;\n",
              "      cursor: pointer;\n",
              "      display: none;\n",
              "      fill: #1967D2;\n",
              "      height: 32px;\n",
              "      padding: 0 0 0 0;\n",
              "      width: 32px;\n",
              "    }\n",
              "\n",
              "    .colab-df-convert:hover {\n",
              "      background-color: #E2EBFA;\n",
              "      box-shadow: 0px 1px 2px rgba(60, 64, 67, 0.3), 0px 1px 3px 1px rgba(60, 64, 67, 0.15);\n",
              "      fill: #174EA6;\n",
              "    }\n",
              "\n",
              "    [theme=dark] .colab-df-convert {\n",
              "      background-color: #3B4455;\n",
              "      fill: #D2E3FC;\n",
              "    }\n",
              "\n",
              "    [theme=dark] .colab-df-convert:hover {\n",
              "      background-color: #434B5C;\n",
              "      box-shadow: 0px 1px 3px 1px rgba(0, 0, 0, 0.15);\n",
              "      filter: drop-shadow(0px 1px 2px rgba(0, 0, 0, 0.3));\n",
              "      fill: #FFFFFF;\n",
              "    }\n",
              "  </style>\n",
              "\n",
              "      <script>\n",
              "        const buttonEl =\n",
              "          document.querySelector('#df-a6d54d76-29f4-477f-bca4-376b708fd567 button.colab-df-convert');\n",
              "        buttonEl.style.display =\n",
              "          google.colab.kernel.accessAllowed ? 'block' : 'none';\n",
              "\n",
              "        async function convertToInteractive(key) {\n",
              "          const element = document.querySelector('#df-a6d54d76-29f4-477f-bca4-376b708fd567');\n",
              "          const dataTable =\n",
              "            await google.colab.kernel.invokeFunction('convertToInteractive',\n",
              "                                                     [key], {});\n",
              "          if (!dataTable) return;\n",
              "\n",
              "          const docLinkHtml = 'Like what you see? Visit the ' +\n",
              "            '<a target=\"_blank\" href=https://colab.research.google.com/notebooks/data_table.ipynb>data table notebook</a>'\n",
              "            + ' to learn more about interactive tables.';\n",
              "          element.innerHTML = '';\n",
              "          dataTable['output_type'] = 'display_data';\n",
              "          await google.colab.output.renderOutput(dataTable, element);\n",
              "          const docLink = document.createElement('div');\n",
              "          docLink.innerHTML = docLinkHtml;\n",
              "          element.appendChild(docLink);\n",
              "        }\n",
              "      </script>\n",
              "    </div>\n",
              "  </div>\n",
              "  "
            ]
          },
          "metadata": {},
          "execution_count": 19
        }
      ]
    },
    {
      "cell_type": "code",
      "source": [
        "#3ª opção e mais elegante, usar join\n",
        "# newdf = df_sales.join(df_customer)"
      ],
      "metadata": {
        "id": "grFMyEGy_pPb"
      },
      "execution_count": null,
      "outputs": []
    },
    {
      "cell_type": "markdown",
      "source": [
        "## Transformar dados colunas em novo dataframe (items)"
      ],
      "metadata": {
        "id": "BIIhETqWSjpT"
      }
    },
    {
      "cell_type": "code",
      "source": [
        "col_items = ['_id','name', 'tags', 'price', 'quantity']\n",
        "df_items = pd.DataFrame(columns=col_items)\n",
        "df_items"
      ],
      "metadata": {
        "colab": {
          "base_uri": "https://localhost:8080/",
          "height": 49
        },
        "id": "McOqvkpVUbVS",
        "outputId": "fd103bf6-5389-44a1-8ad5-d6bcba602c52"
      },
      "execution_count": null,
      "outputs": [
        {
          "output_type": "execute_result",
          "data": {
            "text/plain": [
              "Empty DataFrame\n",
              "Columns: [_id, name, tags, price, quantity]\n",
              "Index: []"
            ],
            "text/html": [
              "\n",
              "  <div id=\"df-86787c32-1217-4bd1-81f1-7f564f91dc15\">\n",
              "    <div class=\"colab-df-container\">\n",
              "      <div>\n",
              "<style scoped>\n",
              "    .dataframe tbody tr th:only-of-type {\n",
              "        vertical-align: middle;\n",
              "    }\n",
              "\n",
              "    .dataframe tbody tr th {\n",
              "        vertical-align: top;\n",
              "    }\n",
              "\n",
              "    .dataframe thead th {\n",
              "        text-align: right;\n",
              "    }\n",
              "</style>\n",
              "<table border=\"1\" class=\"dataframe\">\n",
              "  <thead>\n",
              "    <tr style=\"text-align: right;\">\n",
              "      <th></th>\n",
              "      <th>_id</th>\n",
              "      <th>name</th>\n",
              "      <th>tags</th>\n",
              "      <th>price</th>\n",
              "      <th>quantity</th>\n",
              "    </tr>\n",
              "  </thead>\n",
              "  <tbody>\n",
              "  </tbody>\n",
              "</table>\n",
              "</div>\n",
              "      <button class=\"colab-df-convert\" onclick=\"convertToInteractive('df-86787c32-1217-4bd1-81f1-7f564f91dc15')\"\n",
              "              title=\"Convert this dataframe to an interactive table.\"\n",
              "              style=\"display:none;\">\n",
              "        \n",
              "  <svg xmlns=\"http://www.w3.org/2000/svg\" height=\"24px\"viewBox=\"0 0 24 24\"\n",
              "       width=\"24px\">\n",
              "    <path d=\"M0 0h24v24H0V0z\" fill=\"none\"/>\n",
              "    <path d=\"M18.56 5.44l.94 2.06.94-2.06 2.06-.94-2.06-.94-.94-2.06-.94 2.06-2.06.94zm-11 1L8.5 8.5l.94-2.06 2.06-.94-2.06-.94L8.5 2.5l-.94 2.06-2.06.94zm10 10l.94 2.06.94-2.06 2.06-.94-2.06-.94-.94-2.06-.94 2.06-2.06.94z\"/><path d=\"M17.41 7.96l-1.37-1.37c-.4-.4-.92-.59-1.43-.59-.52 0-1.04.2-1.43.59L10.3 9.45l-7.72 7.72c-.78.78-.78 2.05 0 2.83L4 21.41c.39.39.9.59 1.41.59.51 0 1.02-.2 1.41-.59l7.78-7.78 2.81-2.81c.8-.78.8-2.07 0-2.86zM5.41 20L4 18.59l7.72-7.72 1.47 1.35L5.41 20z\"/>\n",
              "  </svg>\n",
              "      </button>\n",
              "      \n",
              "  <style>\n",
              "    .colab-df-container {\n",
              "      display:flex;\n",
              "      flex-wrap:wrap;\n",
              "      gap: 12px;\n",
              "    }\n",
              "\n",
              "    .colab-df-convert {\n",
              "      background-color: #E8F0FE;\n",
              "      border: none;\n",
              "      border-radius: 50%;\n",
              "      cursor: pointer;\n",
              "      display: none;\n",
              "      fill: #1967D2;\n",
              "      height: 32px;\n",
              "      padding: 0 0 0 0;\n",
              "      width: 32px;\n",
              "    }\n",
              "\n",
              "    .colab-df-convert:hover {\n",
              "      background-color: #E2EBFA;\n",
              "      box-shadow: 0px 1px 2px rgba(60, 64, 67, 0.3), 0px 1px 3px 1px rgba(60, 64, 67, 0.15);\n",
              "      fill: #174EA6;\n",
              "    }\n",
              "\n",
              "    [theme=dark] .colab-df-convert {\n",
              "      background-color: #3B4455;\n",
              "      fill: #D2E3FC;\n",
              "    }\n",
              "\n",
              "    [theme=dark] .colab-df-convert:hover {\n",
              "      background-color: #434B5C;\n",
              "      box-shadow: 0px 1px 3px 1px rgba(0, 0, 0, 0.15);\n",
              "      filter: drop-shadow(0px 1px 2px rgba(0, 0, 0, 0.3));\n",
              "      fill: #FFFFFF;\n",
              "    }\n",
              "  </style>\n",
              "\n",
              "      <script>\n",
              "        const buttonEl =\n",
              "          document.querySelector('#df-86787c32-1217-4bd1-81f1-7f564f91dc15 button.colab-df-convert');\n",
              "        buttonEl.style.display =\n",
              "          google.colab.kernel.accessAllowed ? 'block' : 'none';\n",
              "\n",
              "        async function convertToInteractive(key) {\n",
              "          const element = document.querySelector('#df-86787c32-1217-4bd1-81f1-7f564f91dc15');\n",
              "          const dataTable =\n",
              "            await google.colab.kernel.invokeFunction('convertToInteractive',\n",
              "                                                     [key], {});\n",
              "          if (!dataTable) return;\n",
              "\n",
              "          const docLinkHtml = 'Like what you see? Visit the ' +\n",
              "            '<a target=\"_blank\" href=https://colab.research.google.com/notebooks/data_table.ipynb>data table notebook</a>'\n",
              "            + ' to learn more about interactive tables.';\n",
              "          element.innerHTML = '';\n",
              "          dataTable['output_type'] = 'display_data';\n",
              "          await google.colab.output.renderOutput(dataTable, element);\n",
              "          const docLink = document.createElement('div');\n",
              "          docLink.innerHTML = docLinkHtml;\n",
              "          element.appendChild(docLink);\n",
              "        }\n",
              "      </script>\n",
              "    </div>\n",
              "  </div>\n",
              "  "
            ]
          },
          "metadata": {},
          "execution_count": 23
        }
      ]
    },
    {
      "cell_type": "code",
      "source": [
        "#fiz um teste com 10 registros, pra ver se funciona e parece que sim\n",
        "#aqui construo um dataframe com os itens vendidos\n",
        "#depois posso fazer o merge entre o sales e o items usando o id gerado pelo mongo\n",
        "for i in range(len(df_sales)):\n",
        "  lista = df_sales.loc[i,'items']\n",
        "  id = df_sales.loc[i,'_id']\n",
        "  df = pd.DataFrame(list(lista))\n",
        "  for j in range(len(df)):\n",
        "    df_items = df_items.append({'_id' : id , \n",
        "                                'name' : df.loc[j,'name'], \n",
        "                                'price' : df.loc[j,'price'], \n",
        "                                'quantity':df.loc[j,'quantity'],\n",
        "                                'tags':df.loc[j,'tags']} , \n",
        "                                ignore_index=True)"
      ],
      "metadata": {
        "id": "urOIfKhhSzz-"
      },
      "execution_count": null,
      "outputs": []
    },
    {
      "cell_type": "code",
      "source": [
        "df_items"
      ],
      "metadata": {
        "colab": {
          "base_uri": "https://localhost:8080/",
          "height": 424
        },
        "id": "XsBqWrxHdw3O",
        "outputId": "f9f41e57-babb-4eaf-b10a-0301f53192b0"
      },
      "execution_count": null,
      "outputs": [
        {
          "output_type": "execute_result",
          "data": {
            "text/plain": [
              "                            _id           name  \\\n",
              "0      5bd761dcae323e45a93ccfe8  printer paper   \n",
              "1      5bd761dcae323e45a93ccfe8        notepad   \n",
              "2      5bd761dcae323e45a93ccfe8           pens   \n",
              "3      5bd761dcae323e45a93ccfe8       backpack   \n",
              "4      5bd761dcae323e45a93ccfe8        notepad   \n",
              "...                         ...            ...   \n",
              "27433  5bd761deae323e45a93ce36f      envelopes   \n",
              "27434  5bd761deae323e45a93ce36f           pens   \n",
              "27435  5bd761deae323e45a93ce36f         binder   \n",
              "27436  5bd761deae323e45a93ce36f         laptop   \n",
              "27437  5bd761deae323e45a93ce36f       backpack   \n",
              "\n",
              "                                        tags   price quantity  \n",
              "0                       [office, stationary]   40.01        2  \n",
              "1                  [office, writing, school]   35.29        2  \n",
              "2      [writing, office, school, stationary]   56.12        5  \n",
              "3                     [school, travel, kids]   77.71        2  \n",
              "4                  [office, writing, school]   18.47        2  \n",
              "...                                      ...     ...      ...  \n",
              "27433          [stationary, office, general]   24.12        5  \n",
              "27434  [writing, office, school, stationary]    27.1        4  \n",
              "27435        [school, general, organization]   29.09        3  \n",
              "27436          [electronics, school, office]  598.79        2  \n",
              "27437                 [school, travel, kids]    70.9        3  \n",
              "\n",
              "[27438 rows x 5 columns]"
            ],
            "text/html": [
              "\n",
              "  <div id=\"df-065726b7-aa87-4978-9d02-6f2ea1579892\">\n",
              "    <div class=\"colab-df-container\">\n",
              "      <div>\n",
              "<style scoped>\n",
              "    .dataframe tbody tr th:only-of-type {\n",
              "        vertical-align: middle;\n",
              "    }\n",
              "\n",
              "    .dataframe tbody tr th {\n",
              "        vertical-align: top;\n",
              "    }\n",
              "\n",
              "    .dataframe thead th {\n",
              "        text-align: right;\n",
              "    }\n",
              "</style>\n",
              "<table border=\"1\" class=\"dataframe\">\n",
              "  <thead>\n",
              "    <tr style=\"text-align: right;\">\n",
              "      <th></th>\n",
              "      <th>_id</th>\n",
              "      <th>name</th>\n",
              "      <th>tags</th>\n",
              "      <th>price</th>\n",
              "      <th>quantity</th>\n",
              "    </tr>\n",
              "  </thead>\n",
              "  <tbody>\n",
              "    <tr>\n",
              "      <th>0</th>\n",
              "      <td>5bd761dcae323e45a93ccfe8</td>\n",
              "      <td>printer paper</td>\n",
              "      <td>[office, stationary]</td>\n",
              "      <td>40.01</td>\n",
              "      <td>2</td>\n",
              "    </tr>\n",
              "    <tr>\n",
              "      <th>1</th>\n",
              "      <td>5bd761dcae323e45a93ccfe8</td>\n",
              "      <td>notepad</td>\n",
              "      <td>[office, writing, school]</td>\n",
              "      <td>35.29</td>\n",
              "      <td>2</td>\n",
              "    </tr>\n",
              "    <tr>\n",
              "      <th>2</th>\n",
              "      <td>5bd761dcae323e45a93ccfe8</td>\n",
              "      <td>pens</td>\n",
              "      <td>[writing, office, school, stationary]</td>\n",
              "      <td>56.12</td>\n",
              "      <td>5</td>\n",
              "    </tr>\n",
              "    <tr>\n",
              "      <th>3</th>\n",
              "      <td>5bd761dcae323e45a93ccfe8</td>\n",
              "      <td>backpack</td>\n",
              "      <td>[school, travel, kids]</td>\n",
              "      <td>77.71</td>\n",
              "      <td>2</td>\n",
              "    </tr>\n",
              "    <tr>\n",
              "      <th>4</th>\n",
              "      <td>5bd761dcae323e45a93ccfe8</td>\n",
              "      <td>notepad</td>\n",
              "      <td>[office, writing, school]</td>\n",
              "      <td>18.47</td>\n",
              "      <td>2</td>\n",
              "    </tr>\n",
              "    <tr>\n",
              "      <th>...</th>\n",
              "      <td>...</td>\n",
              "      <td>...</td>\n",
              "      <td>...</td>\n",
              "      <td>...</td>\n",
              "      <td>...</td>\n",
              "    </tr>\n",
              "    <tr>\n",
              "      <th>27433</th>\n",
              "      <td>5bd761deae323e45a93ce36f</td>\n",
              "      <td>envelopes</td>\n",
              "      <td>[stationary, office, general]</td>\n",
              "      <td>24.12</td>\n",
              "      <td>5</td>\n",
              "    </tr>\n",
              "    <tr>\n",
              "      <th>27434</th>\n",
              "      <td>5bd761deae323e45a93ce36f</td>\n",
              "      <td>pens</td>\n",
              "      <td>[writing, office, school, stationary]</td>\n",
              "      <td>27.1</td>\n",
              "      <td>4</td>\n",
              "    </tr>\n",
              "    <tr>\n",
              "      <th>27435</th>\n",
              "      <td>5bd761deae323e45a93ce36f</td>\n",
              "      <td>binder</td>\n",
              "      <td>[school, general, organization]</td>\n",
              "      <td>29.09</td>\n",
              "      <td>3</td>\n",
              "    </tr>\n",
              "    <tr>\n",
              "      <th>27436</th>\n",
              "      <td>5bd761deae323e45a93ce36f</td>\n",
              "      <td>laptop</td>\n",
              "      <td>[electronics, school, office]</td>\n",
              "      <td>598.79</td>\n",
              "      <td>2</td>\n",
              "    </tr>\n",
              "    <tr>\n",
              "      <th>27437</th>\n",
              "      <td>5bd761deae323e45a93ce36f</td>\n",
              "      <td>backpack</td>\n",
              "      <td>[school, travel, kids]</td>\n",
              "      <td>70.9</td>\n",
              "      <td>3</td>\n",
              "    </tr>\n",
              "  </tbody>\n",
              "</table>\n",
              "<p>27438 rows × 5 columns</p>\n",
              "</div>\n",
              "      <button class=\"colab-df-convert\" onclick=\"convertToInteractive('df-065726b7-aa87-4978-9d02-6f2ea1579892')\"\n",
              "              title=\"Convert this dataframe to an interactive table.\"\n",
              "              style=\"display:none;\">\n",
              "        \n",
              "  <svg xmlns=\"http://www.w3.org/2000/svg\" height=\"24px\"viewBox=\"0 0 24 24\"\n",
              "       width=\"24px\">\n",
              "    <path d=\"M0 0h24v24H0V0z\" fill=\"none\"/>\n",
              "    <path d=\"M18.56 5.44l.94 2.06.94-2.06 2.06-.94-2.06-.94-.94-2.06-.94 2.06-2.06.94zm-11 1L8.5 8.5l.94-2.06 2.06-.94-2.06-.94L8.5 2.5l-.94 2.06-2.06.94zm10 10l.94 2.06.94-2.06 2.06-.94-2.06-.94-.94-2.06-.94 2.06-2.06.94z\"/><path d=\"M17.41 7.96l-1.37-1.37c-.4-.4-.92-.59-1.43-.59-.52 0-1.04.2-1.43.59L10.3 9.45l-7.72 7.72c-.78.78-.78 2.05 0 2.83L4 21.41c.39.39.9.59 1.41.59.51 0 1.02-.2 1.41-.59l7.78-7.78 2.81-2.81c.8-.78.8-2.07 0-2.86zM5.41 20L4 18.59l7.72-7.72 1.47 1.35L5.41 20z\"/>\n",
              "  </svg>\n",
              "      </button>\n",
              "      \n",
              "  <style>\n",
              "    .colab-df-container {\n",
              "      display:flex;\n",
              "      flex-wrap:wrap;\n",
              "      gap: 12px;\n",
              "    }\n",
              "\n",
              "    .colab-df-convert {\n",
              "      background-color: #E8F0FE;\n",
              "      border: none;\n",
              "      border-radius: 50%;\n",
              "      cursor: pointer;\n",
              "      display: none;\n",
              "      fill: #1967D2;\n",
              "      height: 32px;\n",
              "      padding: 0 0 0 0;\n",
              "      width: 32px;\n",
              "    }\n",
              "\n",
              "    .colab-df-convert:hover {\n",
              "      background-color: #E2EBFA;\n",
              "      box-shadow: 0px 1px 2px rgba(60, 64, 67, 0.3), 0px 1px 3px 1px rgba(60, 64, 67, 0.15);\n",
              "      fill: #174EA6;\n",
              "    }\n",
              "\n",
              "    [theme=dark] .colab-df-convert {\n",
              "      background-color: #3B4455;\n",
              "      fill: #D2E3FC;\n",
              "    }\n",
              "\n",
              "    [theme=dark] .colab-df-convert:hover {\n",
              "      background-color: #434B5C;\n",
              "      box-shadow: 0px 1px 3px 1px rgba(0, 0, 0, 0.15);\n",
              "      filter: drop-shadow(0px 1px 2px rgba(0, 0, 0, 0.3));\n",
              "      fill: #FFFFFF;\n",
              "    }\n",
              "  </style>\n",
              "\n",
              "      <script>\n",
              "        const buttonEl =\n",
              "          document.querySelector('#df-065726b7-aa87-4978-9d02-6f2ea1579892 button.colab-df-convert');\n",
              "        buttonEl.style.display =\n",
              "          google.colab.kernel.accessAllowed ? 'block' : 'none';\n",
              "\n",
              "        async function convertToInteractive(key) {\n",
              "          const element = document.querySelector('#df-065726b7-aa87-4978-9d02-6f2ea1579892');\n",
              "          const dataTable =\n",
              "            await google.colab.kernel.invokeFunction('convertToInteractive',\n",
              "                                                     [key], {});\n",
              "          if (!dataTable) return;\n",
              "\n",
              "          const docLinkHtml = 'Like what you see? Visit the ' +\n",
              "            '<a target=\"_blank\" href=https://colab.research.google.com/notebooks/data_table.ipynb>data table notebook</a>'\n",
              "            + ' to learn more about interactive tables.';\n",
              "          element.innerHTML = '';\n",
              "          dataTable['output_type'] = 'display_data';\n",
              "          await google.colab.output.renderOutput(dataTable, element);\n",
              "          const docLink = document.createElement('div');\n",
              "          docLink.innerHTML = docLinkHtml;\n",
              "          element.appendChild(docLink);\n",
              "        }\n",
              "      </script>\n",
              "    </div>\n",
              "  </div>\n",
              "  "
            ]
          },
          "metadata": {},
          "execution_count": 25
        }
      ]
    },
    {
      "cell_type": "markdown",
      "source": [
        "### Merge entre df anterior e df_items"
      ],
      "metadata": {
        "id": "W0yGntkmNB6G"
      }
    },
    {
      "cell_type": "markdown",
      "source": [],
      "metadata": {
        "id": "ExVNwO0hNJSV"
      }
    },
    {
      "cell_type": "code",
      "source": [
        "df_complete = dft.merge(df_items, how='outer',on='_id')"
      ],
      "metadata": {
        "id": "kZQ3FutpMNA2"
      },
      "execution_count": null,
      "outputs": []
    },
    {
      "cell_type": "code",
      "source": [
        "df_complete"
      ],
      "metadata": {
        "colab": {
          "base_uri": "https://localhost:8080/",
          "height": 1000
        },
        "id": "xGL3yrk0Mgj-",
        "outputId": "59f3a0d1-5b37-4cc8-92af-256df3ccf08d"
      },
      "execution_count": null,
      "outputs": [
        {
          "output_type": "execute_result",
          "data": {
            "text/plain": [
              "       index                       _id                saleDate  \\\n",
              "0          0  5bd761dcae323e45a93ccfe8 2015-03-23 21:06:49.506   \n",
              "1          0  5bd761dcae323e45a93ccfe8 2015-03-23 21:06:49.506   \n",
              "2          0  5bd761dcae323e45a93ccfe8 2015-03-23 21:06:49.506   \n",
              "3          0  5bd761dcae323e45a93ccfe8 2015-03-23 21:06:49.506   \n",
              "4          0  5bd761dcae323e45a93ccfe8 2015-03-23 21:06:49.506   \n",
              "...      ...                       ...                     ...   \n",
              "27433   4999  5bd761deae323e45a93ce36f 2014-08-18 06:25:49.739   \n",
              "27434   4999  5bd761deae323e45a93ce36f 2014-08-18 06:25:49.739   \n",
              "27435   4999  5bd761deae323e45a93ce36f 2014-08-18 06:25:49.739   \n",
              "27436   4999  5bd761deae323e45a93ce36f 2014-08-18 06:25:49.739   \n",
              "27437   4999  5bd761deae323e45a93ce36f 2014-08-18 06:25:49.739   \n",
              "\n",
              "                                                   items storeLocation  \\\n",
              "0      [{'name': 'printer paper', 'tags': ['office', ...        Denver   \n",
              "1      [{'name': 'printer paper', 'tags': ['office', ...        Denver   \n",
              "2      [{'name': 'printer paper', 'tags': ['office', ...        Denver   \n",
              "3      [{'name': 'printer paper', 'tags': ['office', ...        Denver   \n",
              "4      [{'name': 'printer paper', 'tags': ['office', ...        Denver   \n",
              "...                                                  ...           ...   \n",
              "27433  [{'name': 'envelopes', 'tags': ['stationary', ...      New York   \n",
              "27434  [{'name': 'envelopes', 'tags': ['stationary', ...      New York   \n",
              "27435  [{'name': 'envelopes', 'tags': ['stationary', ...      New York   \n",
              "27436  [{'name': 'envelopes', 'tags': ['stationary', ...      New York   \n",
              "27437  [{'name': 'envelopes', 'tags': ['stationary', ...      New York   \n",
              "\n",
              "                                                customer  couponUsed  \\\n",
              "0      {'gender': 'M', 'age': 42, 'email': 'cauho@wit...        True   \n",
              "1      {'gender': 'M', 'age': 42, 'email': 'cauho@wit...        True   \n",
              "2      {'gender': 'M', 'age': 42, 'email': 'cauho@wit...        True   \n",
              "3      {'gender': 'M', 'age': 42, 'email': 'cauho@wit...        True   \n",
              "4      {'gender': 'M', 'age': 42, 'email': 'cauho@wit...        True   \n",
              "...                                                  ...         ...   \n",
              "27433  {'gender': 'M', 'age': 33, 'email': 'lihzodud@...       False   \n",
              "27434  {'gender': 'M', 'age': 33, 'email': 'lihzodud@...       False   \n",
              "27435  {'gender': 'M', 'age': 33, 'email': 'lihzodud@...       False   \n",
              "27436  {'gender': 'M', 'age': 33, 'email': 'lihzodud@...       False   \n",
              "27437  {'gender': 'M', 'age': 33, 'email': 'lihzodud@...       False   \n",
              "\n",
              "      purchaseMethod gender age               email satisfaction  \\\n",
              "0             Online      M  42    cauho@witwuta.sv            4   \n",
              "1             Online      M  42    cauho@witwuta.sv            4   \n",
              "2             Online      M  42    cauho@witwuta.sv            4   \n",
              "3             Online      M  42    cauho@witwuta.sv            4   \n",
              "4             Online      M  42    cauho@witwuta.sv            4   \n",
              "...              ...    ...  ..                 ...          ...   \n",
              "27433         Online      M  33  lihzodud@voblep.ie            3   \n",
              "27434         Online      M  33  lihzodud@voblep.ie            3   \n",
              "27435         Online      M  33  lihzodud@voblep.ie            3   \n",
              "27436         Online      M  33  lihzodud@voblep.ie            3   \n",
              "27437         Online      M  33  lihzodud@voblep.ie            3   \n",
              "\n",
              "                name                                   tags   price quantity  \n",
              "0      printer paper                   [office, stationary]   40.01        2  \n",
              "1            notepad              [office, writing, school]   35.29        2  \n",
              "2               pens  [writing, office, school, stationary]   56.12        5  \n",
              "3           backpack                 [school, travel, kids]   77.71        2  \n",
              "4            notepad              [office, writing, school]   18.47        2  \n",
              "...              ...                                    ...     ...      ...  \n",
              "27433      envelopes          [stationary, office, general]   24.12        5  \n",
              "27434           pens  [writing, office, school, stationary]    27.1        4  \n",
              "27435         binder        [school, general, organization]   29.09        3  \n",
              "27436         laptop          [electronics, school, office]  598.79        2  \n",
              "27437       backpack                 [school, travel, kids]    70.9        3  \n",
              "\n",
              "[27438 rows x 16 columns]"
            ],
            "text/html": [
              "\n",
              "  <div id=\"df-73eb9f3f-ae52-4da3-8ed9-36d70f3cc248\">\n",
              "    <div class=\"colab-df-container\">\n",
              "      <div>\n",
              "<style scoped>\n",
              "    .dataframe tbody tr th:only-of-type {\n",
              "        vertical-align: middle;\n",
              "    }\n",
              "\n",
              "    .dataframe tbody tr th {\n",
              "        vertical-align: top;\n",
              "    }\n",
              "\n",
              "    .dataframe thead th {\n",
              "        text-align: right;\n",
              "    }\n",
              "</style>\n",
              "<table border=\"1\" class=\"dataframe\">\n",
              "  <thead>\n",
              "    <tr style=\"text-align: right;\">\n",
              "      <th></th>\n",
              "      <th>index</th>\n",
              "      <th>_id</th>\n",
              "      <th>saleDate</th>\n",
              "      <th>items</th>\n",
              "      <th>storeLocation</th>\n",
              "      <th>customer</th>\n",
              "      <th>couponUsed</th>\n",
              "      <th>purchaseMethod</th>\n",
              "      <th>gender</th>\n",
              "      <th>age</th>\n",
              "      <th>email</th>\n",
              "      <th>satisfaction</th>\n",
              "      <th>name</th>\n",
              "      <th>tags</th>\n",
              "      <th>price</th>\n",
              "      <th>quantity</th>\n",
              "    </tr>\n",
              "  </thead>\n",
              "  <tbody>\n",
              "    <tr>\n",
              "      <th>0</th>\n",
              "      <td>0</td>\n",
              "      <td>5bd761dcae323e45a93ccfe8</td>\n",
              "      <td>2015-03-23 21:06:49.506</td>\n",
              "      <td>[{'name': 'printer paper', 'tags': ['office', ...</td>\n",
              "      <td>Denver</td>\n",
              "      <td>{'gender': 'M', 'age': 42, 'email': 'cauho@wit...</td>\n",
              "      <td>True</td>\n",
              "      <td>Online</td>\n",
              "      <td>M</td>\n",
              "      <td>42</td>\n",
              "      <td>cauho@witwuta.sv</td>\n",
              "      <td>4</td>\n",
              "      <td>printer paper</td>\n",
              "      <td>[office, stationary]</td>\n",
              "      <td>40.01</td>\n",
              "      <td>2</td>\n",
              "    </tr>\n",
              "    <tr>\n",
              "      <th>1</th>\n",
              "      <td>0</td>\n",
              "      <td>5bd761dcae323e45a93ccfe8</td>\n",
              "      <td>2015-03-23 21:06:49.506</td>\n",
              "      <td>[{'name': 'printer paper', 'tags': ['office', ...</td>\n",
              "      <td>Denver</td>\n",
              "      <td>{'gender': 'M', 'age': 42, 'email': 'cauho@wit...</td>\n",
              "      <td>True</td>\n",
              "      <td>Online</td>\n",
              "      <td>M</td>\n",
              "      <td>42</td>\n",
              "      <td>cauho@witwuta.sv</td>\n",
              "      <td>4</td>\n",
              "      <td>notepad</td>\n",
              "      <td>[office, writing, school]</td>\n",
              "      <td>35.29</td>\n",
              "      <td>2</td>\n",
              "    </tr>\n",
              "    <tr>\n",
              "      <th>2</th>\n",
              "      <td>0</td>\n",
              "      <td>5bd761dcae323e45a93ccfe8</td>\n",
              "      <td>2015-03-23 21:06:49.506</td>\n",
              "      <td>[{'name': 'printer paper', 'tags': ['office', ...</td>\n",
              "      <td>Denver</td>\n",
              "      <td>{'gender': 'M', 'age': 42, 'email': 'cauho@wit...</td>\n",
              "      <td>True</td>\n",
              "      <td>Online</td>\n",
              "      <td>M</td>\n",
              "      <td>42</td>\n",
              "      <td>cauho@witwuta.sv</td>\n",
              "      <td>4</td>\n",
              "      <td>pens</td>\n",
              "      <td>[writing, office, school, stationary]</td>\n",
              "      <td>56.12</td>\n",
              "      <td>5</td>\n",
              "    </tr>\n",
              "    <tr>\n",
              "      <th>3</th>\n",
              "      <td>0</td>\n",
              "      <td>5bd761dcae323e45a93ccfe8</td>\n",
              "      <td>2015-03-23 21:06:49.506</td>\n",
              "      <td>[{'name': 'printer paper', 'tags': ['office', ...</td>\n",
              "      <td>Denver</td>\n",
              "      <td>{'gender': 'M', 'age': 42, 'email': 'cauho@wit...</td>\n",
              "      <td>True</td>\n",
              "      <td>Online</td>\n",
              "      <td>M</td>\n",
              "      <td>42</td>\n",
              "      <td>cauho@witwuta.sv</td>\n",
              "      <td>4</td>\n",
              "      <td>backpack</td>\n",
              "      <td>[school, travel, kids]</td>\n",
              "      <td>77.71</td>\n",
              "      <td>2</td>\n",
              "    </tr>\n",
              "    <tr>\n",
              "      <th>4</th>\n",
              "      <td>0</td>\n",
              "      <td>5bd761dcae323e45a93ccfe8</td>\n",
              "      <td>2015-03-23 21:06:49.506</td>\n",
              "      <td>[{'name': 'printer paper', 'tags': ['office', ...</td>\n",
              "      <td>Denver</td>\n",
              "      <td>{'gender': 'M', 'age': 42, 'email': 'cauho@wit...</td>\n",
              "      <td>True</td>\n",
              "      <td>Online</td>\n",
              "      <td>M</td>\n",
              "      <td>42</td>\n",
              "      <td>cauho@witwuta.sv</td>\n",
              "      <td>4</td>\n",
              "      <td>notepad</td>\n",
              "      <td>[office, writing, school]</td>\n",
              "      <td>18.47</td>\n",
              "      <td>2</td>\n",
              "    </tr>\n",
              "    <tr>\n",
              "      <th>...</th>\n",
              "      <td>...</td>\n",
              "      <td>...</td>\n",
              "      <td>...</td>\n",
              "      <td>...</td>\n",
              "      <td>...</td>\n",
              "      <td>...</td>\n",
              "      <td>...</td>\n",
              "      <td>...</td>\n",
              "      <td>...</td>\n",
              "      <td>...</td>\n",
              "      <td>...</td>\n",
              "      <td>...</td>\n",
              "      <td>...</td>\n",
              "      <td>...</td>\n",
              "      <td>...</td>\n",
              "      <td>...</td>\n",
              "    </tr>\n",
              "    <tr>\n",
              "      <th>27433</th>\n",
              "      <td>4999</td>\n",
              "      <td>5bd761deae323e45a93ce36f</td>\n",
              "      <td>2014-08-18 06:25:49.739</td>\n",
              "      <td>[{'name': 'envelopes', 'tags': ['stationary', ...</td>\n",
              "      <td>New York</td>\n",
              "      <td>{'gender': 'M', 'age': 33, 'email': 'lihzodud@...</td>\n",
              "      <td>False</td>\n",
              "      <td>Online</td>\n",
              "      <td>M</td>\n",
              "      <td>33</td>\n",
              "      <td>lihzodud@voblep.ie</td>\n",
              "      <td>3</td>\n",
              "      <td>envelopes</td>\n",
              "      <td>[stationary, office, general]</td>\n",
              "      <td>24.12</td>\n",
              "      <td>5</td>\n",
              "    </tr>\n",
              "    <tr>\n",
              "      <th>27434</th>\n",
              "      <td>4999</td>\n",
              "      <td>5bd761deae323e45a93ce36f</td>\n",
              "      <td>2014-08-18 06:25:49.739</td>\n",
              "      <td>[{'name': 'envelopes', 'tags': ['stationary', ...</td>\n",
              "      <td>New York</td>\n",
              "      <td>{'gender': 'M', 'age': 33, 'email': 'lihzodud@...</td>\n",
              "      <td>False</td>\n",
              "      <td>Online</td>\n",
              "      <td>M</td>\n",
              "      <td>33</td>\n",
              "      <td>lihzodud@voblep.ie</td>\n",
              "      <td>3</td>\n",
              "      <td>pens</td>\n",
              "      <td>[writing, office, school, stationary]</td>\n",
              "      <td>27.1</td>\n",
              "      <td>4</td>\n",
              "    </tr>\n",
              "    <tr>\n",
              "      <th>27435</th>\n",
              "      <td>4999</td>\n",
              "      <td>5bd761deae323e45a93ce36f</td>\n",
              "      <td>2014-08-18 06:25:49.739</td>\n",
              "      <td>[{'name': 'envelopes', 'tags': ['stationary', ...</td>\n",
              "      <td>New York</td>\n",
              "      <td>{'gender': 'M', 'age': 33, 'email': 'lihzodud@...</td>\n",
              "      <td>False</td>\n",
              "      <td>Online</td>\n",
              "      <td>M</td>\n",
              "      <td>33</td>\n",
              "      <td>lihzodud@voblep.ie</td>\n",
              "      <td>3</td>\n",
              "      <td>binder</td>\n",
              "      <td>[school, general, organization]</td>\n",
              "      <td>29.09</td>\n",
              "      <td>3</td>\n",
              "    </tr>\n",
              "    <tr>\n",
              "      <th>27436</th>\n",
              "      <td>4999</td>\n",
              "      <td>5bd761deae323e45a93ce36f</td>\n",
              "      <td>2014-08-18 06:25:49.739</td>\n",
              "      <td>[{'name': 'envelopes', 'tags': ['stationary', ...</td>\n",
              "      <td>New York</td>\n",
              "      <td>{'gender': 'M', 'age': 33, 'email': 'lihzodud@...</td>\n",
              "      <td>False</td>\n",
              "      <td>Online</td>\n",
              "      <td>M</td>\n",
              "      <td>33</td>\n",
              "      <td>lihzodud@voblep.ie</td>\n",
              "      <td>3</td>\n",
              "      <td>laptop</td>\n",
              "      <td>[electronics, school, office]</td>\n",
              "      <td>598.79</td>\n",
              "      <td>2</td>\n",
              "    </tr>\n",
              "    <tr>\n",
              "      <th>27437</th>\n",
              "      <td>4999</td>\n",
              "      <td>5bd761deae323e45a93ce36f</td>\n",
              "      <td>2014-08-18 06:25:49.739</td>\n",
              "      <td>[{'name': 'envelopes', 'tags': ['stationary', ...</td>\n",
              "      <td>New York</td>\n",
              "      <td>{'gender': 'M', 'age': 33, 'email': 'lihzodud@...</td>\n",
              "      <td>False</td>\n",
              "      <td>Online</td>\n",
              "      <td>M</td>\n",
              "      <td>33</td>\n",
              "      <td>lihzodud@voblep.ie</td>\n",
              "      <td>3</td>\n",
              "      <td>backpack</td>\n",
              "      <td>[school, travel, kids]</td>\n",
              "      <td>70.9</td>\n",
              "      <td>3</td>\n",
              "    </tr>\n",
              "  </tbody>\n",
              "</table>\n",
              "<p>27438 rows × 16 columns</p>\n",
              "</div>\n",
              "      <button class=\"colab-df-convert\" onclick=\"convertToInteractive('df-73eb9f3f-ae52-4da3-8ed9-36d70f3cc248')\"\n",
              "              title=\"Convert this dataframe to an interactive table.\"\n",
              "              style=\"display:none;\">\n",
              "        \n",
              "  <svg xmlns=\"http://www.w3.org/2000/svg\" height=\"24px\"viewBox=\"0 0 24 24\"\n",
              "       width=\"24px\">\n",
              "    <path d=\"M0 0h24v24H0V0z\" fill=\"none\"/>\n",
              "    <path d=\"M18.56 5.44l.94 2.06.94-2.06 2.06-.94-2.06-.94-.94-2.06-.94 2.06-2.06.94zm-11 1L8.5 8.5l.94-2.06 2.06-.94-2.06-.94L8.5 2.5l-.94 2.06-2.06.94zm10 10l.94 2.06.94-2.06 2.06-.94-2.06-.94-.94-2.06-.94 2.06-2.06.94z\"/><path d=\"M17.41 7.96l-1.37-1.37c-.4-.4-.92-.59-1.43-.59-.52 0-1.04.2-1.43.59L10.3 9.45l-7.72 7.72c-.78.78-.78 2.05 0 2.83L4 21.41c.39.39.9.59 1.41.59.51 0 1.02-.2 1.41-.59l7.78-7.78 2.81-2.81c.8-.78.8-2.07 0-2.86zM5.41 20L4 18.59l7.72-7.72 1.47 1.35L5.41 20z\"/>\n",
              "  </svg>\n",
              "      </button>\n",
              "      \n",
              "  <style>\n",
              "    .colab-df-container {\n",
              "      display:flex;\n",
              "      flex-wrap:wrap;\n",
              "      gap: 12px;\n",
              "    }\n",
              "\n",
              "    .colab-df-convert {\n",
              "      background-color: #E8F0FE;\n",
              "      border: none;\n",
              "      border-radius: 50%;\n",
              "      cursor: pointer;\n",
              "      display: none;\n",
              "      fill: #1967D2;\n",
              "      height: 32px;\n",
              "      padding: 0 0 0 0;\n",
              "      width: 32px;\n",
              "    }\n",
              "\n",
              "    .colab-df-convert:hover {\n",
              "      background-color: #E2EBFA;\n",
              "      box-shadow: 0px 1px 2px rgba(60, 64, 67, 0.3), 0px 1px 3px 1px rgba(60, 64, 67, 0.15);\n",
              "      fill: #174EA6;\n",
              "    }\n",
              "\n",
              "    [theme=dark] .colab-df-convert {\n",
              "      background-color: #3B4455;\n",
              "      fill: #D2E3FC;\n",
              "    }\n",
              "\n",
              "    [theme=dark] .colab-df-convert:hover {\n",
              "      background-color: #434B5C;\n",
              "      box-shadow: 0px 1px 3px 1px rgba(0, 0, 0, 0.15);\n",
              "      filter: drop-shadow(0px 1px 2px rgba(0, 0, 0, 0.3));\n",
              "      fill: #FFFFFF;\n",
              "    }\n",
              "  </style>\n",
              "\n",
              "      <script>\n",
              "        const buttonEl =\n",
              "          document.querySelector('#df-73eb9f3f-ae52-4da3-8ed9-36d70f3cc248 button.colab-df-convert');\n",
              "        buttonEl.style.display =\n",
              "          google.colab.kernel.accessAllowed ? 'block' : 'none';\n",
              "\n",
              "        async function convertToInteractive(key) {\n",
              "          const element = document.querySelector('#df-73eb9f3f-ae52-4da3-8ed9-36d70f3cc248');\n",
              "          const dataTable =\n",
              "            await google.colab.kernel.invokeFunction('convertToInteractive',\n",
              "                                                     [key], {});\n",
              "          if (!dataTable) return;\n",
              "\n",
              "          const docLinkHtml = 'Like what you see? Visit the ' +\n",
              "            '<a target=\"_blank\" href=https://colab.research.google.com/notebooks/data_table.ipynb>data table notebook</a>'\n",
              "            + ' to learn more about interactive tables.';\n",
              "          element.innerHTML = '';\n",
              "          dataTable['output_type'] = 'display_data';\n",
              "          await google.colab.output.renderOutput(dataTable, element);\n",
              "          const docLink = document.createElement('div');\n",
              "          docLink.innerHTML = docLinkHtml;\n",
              "          element.appendChild(docLink);\n",
              "        }\n",
              "      </script>\n",
              "    </div>\n",
              "  </div>\n",
              "  "
            ]
          },
          "metadata": {},
          "execution_count": 28
        }
      ]
    },
    {
      "cell_type": "markdown",
      "source": [
        "Agora temos um dataframe completo em que podemos visualizar melhor as informações, que antes estavam agrupadas em formato de dicionário."
      ],
      "metadata": {
        "id": "iANgqBghNSNH"
      }
    },
    {
      "cell_type": "markdown",
      "source": [
        "## Drop de colunas\n",
        "\n",
        "Algumas colunas não são mais necessárias: index, _id, items, customer"
      ],
      "metadata": {
        "id": "16JcHgnbN7E1"
      }
    },
    {
      "cell_type": "code",
      "source": [
        "#bkp do dataframe\n",
        "df_complete_bkp = df_complete.copy()"
      ],
      "metadata": {
        "id": "7rplk7T_OrhE"
      },
      "execution_count": null,
      "outputs": []
    },
    {
      "cell_type": "code",
      "source": [
        "df_complete.info()"
      ],
      "metadata": {
        "colab": {
          "base_uri": "https://localhost:8080/"
        },
        "id": "NEhbQgoEOCLw",
        "outputId": "35d24a97-a4d1-486b-9d13-edc62cc69bda"
      },
      "execution_count": null,
      "outputs": [
        {
          "output_type": "stream",
          "name": "stdout",
          "text": [
            "<class 'pandas.core.frame.DataFrame'>\n",
            "Int64Index: 27438 entries, 0 to 27437\n",
            "Data columns (total 16 columns):\n",
            " #   Column          Non-Null Count  Dtype         \n",
            "---  ------          --------------  -----         \n",
            " 0   index           27438 non-null  int64         \n",
            " 1   _id             27438 non-null  object        \n",
            " 2   saleDate        27438 non-null  datetime64[ns]\n",
            " 3   items           27438 non-null  object        \n",
            " 4   storeLocation   27438 non-null  object        \n",
            " 5   customer        27438 non-null  object        \n",
            " 6   couponUsed      27438 non-null  bool          \n",
            " 7   purchaseMethod  27438 non-null  object        \n",
            " 8   gender          27438 non-null  object        \n",
            " 9   age             27438 non-null  object        \n",
            " 10  email           27438 non-null  object        \n",
            " 11  satisfaction    27438 non-null  object        \n",
            " 12  name            27438 non-null  object        \n",
            " 13  tags            27438 non-null  object        \n",
            " 14  price           27438 non-null  object        \n",
            " 15  quantity        27438 non-null  object        \n",
            "dtypes: bool(1), datetime64[ns](1), int64(1), object(13)\n",
            "memory usage: 3.4+ MB\n"
          ]
        }
      ]
    },
    {
      "cell_type": "code",
      "source": [
        "df_complete.drop(['index','_id', 'items','customer'], axis=1, inplace=True)"
      ],
      "metadata": {
        "id": "3H5sEGM6OiRd"
      },
      "execution_count": null,
      "outputs": []
    },
    {
      "cell_type": "code",
      "source": [
        "df_complete"
      ],
      "metadata": {
        "colab": {
          "base_uri": "https://localhost:8080/",
          "height": 424
        },
        "id": "9WJYqpoQPToO",
        "outputId": "effce257-565e-4f6b-8a49-0b542e3a5f5d"
      },
      "execution_count": null,
      "outputs": [
        {
          "output_type": "execute_result",
          "data": {
            "text/plain": [
              "                     saleDate storeLocation  couponUsed purchaseMethod gender  \\\n",
              "0     2015-03-23 21:06:49.506        Denver        True         Online      M   \n",
              "1     2015-03-23 21:06:49.506        Denver        True         Online      M   \n",
              "2     2015-03-23 21:06:49.506        Denver        True         Online      M   \n",
              "3     2015-03-23 21:06:49.506        Denver        True         Online      M   \n",
              "4     2015-03-23 21:06:49.506        Denver        True         Online      M   \n",
              "...                       ...           ...         ...            ...    ...   \n",
              "27433 2014-08-18 06:25:49.739      New York       False         Online      M   \n",
              "27434 2014-08-18 06:25:49.739      New York       False         Online      M   \n",
              "27435 2014-08-18 06:25:49.739      New York       False         Online      M   \n",
              "27436 2014-08-18 06:25:49.739      New York       False         Online      M   \n",
              "27437 2014-08-18 06:25:49.739      New York       False         Online      M   \n",
              "\n",
              "      age               email satisfaction           name  \\\n",
              "0      42    cauho@witwuta.sv            4  printer paper   \n",
              "1      42    cauho@witwuta.sv            4        notepad   \n",
              "2      42    cauho@witwuta.sv            4           pens   \n",
              "3      42    cauho@witwuta.sv            4       backpack   \n",
              "4      42    cauho@witwuta.sv            4        notepad   \n",
              "...    ..                 ...          ...            ...   \n",
              "27433  33  lihzodud@voblep.ie            3      envelopes   \n",
              "27434  33  lihzodud@voblep.ie            3           pens   \n",
              "27435  33  lihzodud@voblep.ie            3         binder   \n",
              "27436  33  lihzodud@voblep.ie            3         laptop   \n",
              "27437  33  lihzodud@voblep.ie            3       backpack   \n",
              "\n",
              "                                        tags   price quantity  \n",
              "0                       [office, stationary]   40.01        2  \n",
              "1                  [office, writing, school]   35.29        2  \n",
              "2      [writing, office, school, stationary]   56.12        5  \n",
              "3                     [school, travel, kids]   77.71        2  \n",
              "4                  [office, writing, school]   18.47        2  \n",
              "...                                      ...     ...      ...  \n",
              "27433          [stationary, office, general]   24.12        5  \n",
              "27434  [writing, office, school, stationary]    27.1        4  \n",
              "27435        [school, general, organization]   29.09        3  \n",
              "27436          [electronics, school, office]  598.79        2  \n",
              "27437                 [school, travel, kids]    70.9        3  \n",
              "\n",
              "[27438 rows x 12 columns]"
            ],
            "text/html": [
              "\n",
              "  <div id=\"df-8eac18ab-8d65-4cc5-b6c6-c2bb75b246fb\">\n",
              "    <div class=\"colab-df-container\">\n",
              "      <div>\n",
              "<style scoped>\n",
              "    .dataframe tbody tr th:only-of-type {\n",
              "        vertical-align: middle;\n",
              "    }\n",
              "\n",
              "    .dataframe tbody tr th {\n",
              "        vertical-align: top;\n",
              "    }\n",
              "\n",
              "    .dataframe thead th {\n",
              "        text-align: right;\n",
              "    }\n",
              "</style>\n",
              "<table border=\"1\" class=\"dataframe\">\n",
              "  <thead>\n",
              "    <tr style=\"text-align: right;\">\n",
              "      <th></th>\n",
              "      <th>saleDate</th>\n",
              "      <th>storeLocation</th>\n",
              "      <th>couponUsed</th>\n",
              "      <th>purchaseMethod</th>\n",
              "      <th>gender</th>\n",
              "      <th>age</th>\n",
              "      <th>email</th>\n",
              "      <th>satisfaction</th>\n",
              "      <th>name</th>\n",
              "      <th>tags</th>\n",
              "      <th>price</th>\n",
              "      <th>quantity</th>\n",
              "    </tr>\n",
              "  </thead>\n",
              "  <tbody>\n",
              "    <tr>\n",
              "      <th>0</th>\n",
              "      <td>2015-03-23 21:06:49.506</td>\n",
              "      <td>Denver</td>\n",
              "      <td>True</td>\n",
              "      <td>Online</td>\n",
              "      <td>M</td>\n",
              "      <td>42</td>\n",
              "      <td>cauho@witwuta.sv</td>\n",
              "      <td>4</td>\n",
              "      <td>printer paper</td>\n",
              "      <td>[office, stationary]</td>\n",
              "      <td>40.01</td>\n",
              "      <td>2</td>\n",
              "    </tr>\n",
              "    <tr>\n",
              "      <th>1</th>\n",
              "      <td>2015-03-23 21:06:49.506</td>\n",
              "      <td>Denver</td>\n",
              "      <td>True</td>\n",
              "      <td>Online</td>\n",
              "      <td>M</td>\n",
              "      <td>42</td>\n",
              "      <td>cauho@witwuta.sv</td>\n",
              "      <td>4</td>\n",
              "      <td>notepad</td>\n",
              "      <td>[office, writing, school]</td>\n",
              "      <td>35.29</td>\n",
              "      <td>2</td>\n",
              "    </tr>\n",
              "    <tr>\n",
              "      <th>2</th>\n",
              "      <td>2015-03-23 21:06:49.506</td>\n",
              "      <td>Denver</td>\n",
              "      <td>True</td>\n",
              "      <td>Online</td>\n",
              "      <td>M</td>\n",
              "      <td>42</td>\n",
              "      <td>cauho@witwuta.sv</td>\n",
              "      <td>4</td>\n",
              "      <td>pens</td>\n",
              "      <td>[writing, office, school, stationary]</td>\n",
              "      <td>56.12</td>\n",
              "      <td>5</td>\n",
              "    </tr>\n",
              "    <tr>\n",
              "      <th>3</th>\n",
              "      <td>2015-03-23 21:06:49.506</td>\n",
              "      <td>Denver</td>\n",
              "      <td>True</td>\n",
              "      <td>Online</td>\n",
              "      <td>M</td>\n",
              "      <td>42</td>\n",
              "      <td>cauho@witwuta.sv</td>\n",
              "      <td>4</td>\n",
              "      <td>backpack</td>\n",
              "      <td>[school, travel, kids]</td>\n",
              "      <td>77.71</td>\n",
              "      <td>2</td>\n",
              "    </tr>\n",
              "    <tr>\n",
              "      <th>4</th>\n",
              "      <td>2015-03-23 21:06:49.506</td>\n",
              "      <td>Denver</td>\n",
              "      <td>True</td>\n",
              "      <td>Online</td>\n",
              "      <td>M</td>\n",
              "      <td>42</td>\n",
              "      <td>cauho@witwuta.sv</td>\n",
              "      <td>4</td>\n",
              "      <td>notepad</td>\n",
              "      <td>[office, writing, school]</td>\n",
              "      <td>18.47</td>\n",
              "      <td>2</td>\n",
              "    </tr>\n",
              "    <tr>\n",
              "      <th>...</th>\n",
              "      <td>...</td>\n",
              "      <td>...</td>\n",
              "      <td>...</td>\n",
              "      <td>...</td>\n",
              "      <td>...</td>\n",
              "      <td>...</td>\n",
              "      <td>...</td>\n",
              "      <td>...</td>\n",
              "      <td>...</td>\n",
              "      <td>...</td>\n",
              "      <td>...</td>\n",
              "      <td>...</td>\n",
              "    </tr>\n",
              "    <tr>\n",
              "      <th>27433</th>\n",
              "      <td>2014-08-18 06:25:49.739</td>\n",
              "      <td>New York</td>\n",
              "      <td>False</td>\n",
              "      <td>Online</td>\n",
              "      <td>M</td>\n",
              "      <td>33</td>\n",
              "      <td>lihzodud@voblep.ie</td>\n",
              "      <td>3</td>\n",
              "      <td>envelopes</td>\n",
              "      <td>[stationary, office, general]</td>\n",
              "      <td>24.12</td>\n",
              "      <td>5</td>\n",
              "    </tr>\n",
              "    <tr>\n",
              "      <th>27434</th>\n",
              "      <td>2014-08-18 06:25:49.739</td>\n",
              "      <td>New York</td>\n",
              "      <td>False</td>\n",
              "      <td>Online</td>\n",
              "      <td>M</td>\n",
              "      <td>33</td>\n",
              "      <td>lihzodud@voblep.ie</td>\n",
              "      <td>3</td>\n",
              "      <td>pens</td>\n",
              "      <td>[writing, office, school, stationary]</td>\n",
              "      <td>27.1</td>\n",
              "      <td>4</td>\n",
              "    </tr>\n",
              "    <tr>\n",
              "      <th>27435</th>\n",
              "      <td>2014-08-18 06:25:49.739</td>\n",
              "      <td>New York</td>\n",
              "      <td>False</td>\n",
              "      <td>Online</td>\n",
              "      <td>M</td>\n",
              "      <td>33</td>\n",
              "      <td>lihzodud@voblep.ie</td>\n",
              "      <td>3</td>\n",
              "      <td>binder</td>\n",
              "      <td>[school, general, organization]</td>\n",
              "      <td>29.09</td>\n",
              "      <td>3</td>\n",
              "    </tr>\n",
              "    <tr>\n",
              "      <th>27436</th>\n",
              "      <td>2014-08-18 06:25:49.739</td>\n",
              "      <td>New York</td>\n",
              "      <td>False</td>\n",
              "      <td>Online</td>\n",
              "      <td>M</td>\n",
              "      <td>33</td>\n",
              "      <td>lihzodud@voblep.ie</td>\n",
              "      <td>3</td>\n",
              "      <td>laptop</td>\n",
              "      <td>[electronics, school, office]</td>\n",
              "      <td>598.79</td>\n",
              "      <td>2</td>\n",
              "    </tr>\n",
              "    <tr>\n",
              "      <th>27437</th>\n",
              "      <td>2014-08-18 06:25:49.739</td>\n",
              "      <td>New York</td>\n",
              "      <td>False</td>\n",
              "      <td>Online</td>\n",
              "      <td>M</td>\n",
              "      <td>33</td>\n",
              "      <td>lihzodud@voblep.ie</td>\n",
              "      <td>3</td>\n",
              "      <td>backpack</td>\n",
              "      <td>[school, travel, kids]</td>\n",
              "      <td>70.9</td>\n",
              "      <td>3</td>\n",
              "    </tr>\n",
              "  </tbody>\n",
              "</table>\n",
              "<p>27438 rows × 12 columns</p>\n",
              "</div>\n",
              "      <button class=\"colab-df-convert\" onclick=\"convertToInteractive('df-8eac18ab-8d65-4cc5-b6c6-c2bb75b246fb')\"\n",
              "              title=\"Convert this dataframe to an interactive table.\"\n",
              "              style=\"display:none;\">\n",
              "        \n",
              "  <svg xmlns=\"http://www.w3.org/2000/svg\" height=\"24px\"viewBox=\"0 0 24 24\"\n",
              "       width=\"24px\">\n",
              "    <path d=\"M0 0h24v24H0V0z\" fill=\"none\"/>\n",
              "    <path d=\"M18.56 5.44l.94 2.06.94-2.06 2.06-.94-2.06-.94-.94-2.06-.94 2.06-2.06.94zm-11 1L8.5 8.5l.94-2.06 2.06-.94-2.06-.94L8.5 2.5l-.94 2.06-2.06.94zm10 10l.94 2.06.94-2.06 2.06-.94-2.06-.94-.94-2.06-.94 2.06-2.06.94z\"/><path d=\"M17.41 7.96l-1.37-1.37c-.4-.4-.92-.59-1.43-.59-.52 0-1.04.2-1.43.59L10.3 9.45l-7.72 7.72c-.78.78-.78 2.05 0 2.83L4 21.41c.39.39.9.59 1.41.59.51 0 1.02-.2 1.41-.59l7.78-7.78 2.81-2.81c.8-.78.8-2.07 0-2.86zM5.41 20L4 18.59l7.72-7.72 1.47 1.35L5.41 20z\"/>\n",
              "  </svg>\n",
              "      </button>\n",
              "      \n",
              "  <style>\n",
              "    .colab-df-container {\n",
              "      display:flex;\n",
              "      flex-wrap:wrap;\n",
              "      gap: 12px;\n",
              "    }\n",
              "\n",
              "    .colab-df-convert {\n",
              "      background-color: #E8F0FE;\n",
              "      border: none;\n",
              "      border-radius: 50%;\n",
              "      cursor: pointer;\n",
              "      display: none;\n",
              "      fill: #1967D2;\n",
              "      height: 32px;\n",
              "      padding: 0 0 0 0;\n",
              "      width: 32px;\n",
              "    }\n",
              "\n",
              "    .colab-df-convert:hover {\n",
              "      background-color: #E2EBFA;\n",
              "      box-shadow: 0px 1px 2px rgba(60, 64, 67, 0.3), 0px 1px 3px 1px rgba(60, 64, 67, 0.15);\n",
              "      fill: #174EA6;\n",
              "    }\n",
              "\n",
              "    [theme=dark] .colab-df-convert {\n",
              "      background-color: #3B4455;\n",
              "      fill: #D2E3FC;\n",
              "    }\n",
              "\n",
              "    [theme=dark] .colab-df-convert:hover {\n",
              "      background-color: #434B5C;\n",
              "      box-shadow: 0px 1px 3px 1px rgba(0, 0, 0, 0.15);\n",
              "      filter: drop-shadow(0px 1px 2px rgba(0, 0, 0, 0.3));\n",
              "      fill: #FFFFFF;\n",
              "    }\n",
              "  </style>\n",
              "\n",
              "      <script>\n",
              "        const buttonEl =\n",
              "          document.querySelector('#df-8eac18ab-8d65-4cc5-b6c6-c2bb75b246fb button.colab-df-convert');\n",
              "        buttonEl.style.display =\n",
              "          google.colab.kernel.accessAllowed ? 'block' : 'none';\n",
              "\n",
              "        async function convertToInteractive(key) {\n",
              "          const element = document.querySelector('#df-8eac18ab-8d65-4cc5-b6c6-c2bb75b246fb');\n",
              "          const dataTable =\n",
              "            await google.colab.kernel.invokeFunction('convertToInteractive',\n",
              "                                                     [key], {});\n",
              "          if (!dataTable) return;\n",
              "\n",
              "          const docLinkHtml = 'Like what you see? Visit the ' +\n",
              "            '<a target=\"_blank\" href=https://colab.research.google.com/notebooks/data_table.ipynb>data table notebook</a>'\n",
              "            + ' to learn more about interactive tables.';\n",
              "          element.innerHTML = '';\n",
              "          dataTable['output_type'] = 'display_data';\n",
              "          await google.colab.output.renderOutput(dataTable, element);\n",
              "          const docLink = document.createElement('div');\n",
              "          docLink.innerHTML = docLinkHtml;\n",
              "          element.appendChild(docLink);\n",
              "        }\n",
              "      </script>\n",
              "    </div>\n",
              "  </div>\n",
              "  "
            ]
          },
          "metadata": {},
          "execution_count": 33
        }
      ]
    },
    {
      "cell_type": "markdown",
      "source": [
        "## Tipos dos dados"
      ],
      "metadata": {
        "id": "X39TLgSrPbv0"
      }
    },
    {
      "cell_type": "code",
      "source": [
        "df_complete.dtypes"
      ],
      "metadata": {
        "colab": {
          "base_uri": "https://localhost:8080/"
        },
        "id": "qmC3Fb9vPgbL",
        "outputId": "2e615588-c4f0-4a67-abb4-b21e1d33011f"
      },
      "execution_count": null,
      "outputs": [
        {
          "output_type": "execute_result",
          "data": {
            "text/plain": [
              "saleDate          datetime64[ns]\n",
              "storeLocation             object\n",
              "couponUsed                  bool\n",
              "purchaseMethod            object\n",
              "gender                    object\n",
              "age                        int64\n",
              "email                     object\n",
              "satisfaction              object\n",
              "name                      object\n",
              "tags                      object\n",
              "price                    float64\n",
              "quantity                   int64\n",
              "dtype: object"
            ]
          },
          "metadata": {},
          "execution_count": 50
        }
      ]
    },
    {
      "cell_type": "markdown",
      "source": [
        "age - tipo inteiro\n",
        "\n",
        "price - tipo float\n",
        "\n",
        "quantity - tipo inteiro"
      ],
      "metadata": {
        "id": "mbDLNwKxPsPj"
      }
    },
    {
      "cell_type": "code",
      "source": [
        "df_complete.age = df_complete.age.astype(int)"
      ],
      "metadata": {
        "id": "wlKLlC82P3_a"
      },
      "execution_count": null,
      "outputs": []
    },
    {
      "cell_type": "code",
      "source": [
        "df_complete.quantity = df_complete.quantity.astype(int)"
      ],
      "metadata": {
        "id": "NaXPWJYlQk2D"
      },
      "execution_count": null,
      "outputs": []
    },
    {
      "cell_type": "code",
      "source": [
        "#não foi possível converter diretamente para float erro Decimal128\n",
        "#a dica foi converter para str e depois para float e funcionou\n",
        "df_complete.price = df_complete.price.astype(str).astype(float)"
      ],
      "metadata": {
        "id": "XE6x32w9QXG8"
      },
      "execution_count": null,
      "outputs": []
    },
    {
      "cell_type": "code",
      "source": [
        "df_complete.tail(20)"
      ],
      "metadata": {
        "colab": {
          "base_uri": "https://localhost:8080/",
          "height": 677
        },
        "id": "90HHHylES4F7",
        "outputId": "42532339-5fa7-47df-cbb2-73100935e3f8"
      },
      "execution_count": null,
      "outputs": [
        {
          "output_type": "execute_result",
          "data": {
            "text/plain": [
              "                     saleDate storeLocation  couponUsed purchaseMethod gender  \\\n",
              "27418 2014-11-29 10:09:41.573        Denver       False       In store      F   \n",
              "27419 2014-11-29 10:09:41.573        Denver       False       In store      F   \n",
              "27420 2014-11-29 10:09:41.573        Denver       False       In store      F   \n",
              "27421 2014-11-29 10:09:41.573        Denver       False       In store      F   \n",
              "27422 2014-11-29 10:09:41.573        Denver       False       In store      F   \n",
              "27423 2017-12-25 07:02:51.283        Denver       False       In store      M   \n",
              "27424 2017-12-25 07:02:51.283        Denver       False       In store      M   \n",
              "27425 2017-12-25 07:02:51.283        Denver       False       In store      M   \n",
              "27426 2017-12-25 07:02:51.283        Denver       False       In store      M   \n",
              "27427 2017-12-25 07:02:51.283        Denver       False       In store      M   \n",
              "27428 2017-12-25 07:02:51.283        Denver       False       In store      M   \n",
              "27429 2017-12-25 07:02:51.283        Denver       False       In store      M   \n",
              "27430 2017-12-25 07:02:51.283        Denver       False       In store      M   \n",
              "27431 2013-12-07 11:06:25.510        Denver       False         Online      M   \n",
              "27432 2013-12-07 11:06:25.510        Denver       False         Online      M   \n",
              "27433 2014-08-18 06:25:49.739      New York       False         Online      M   \n",
              "27434 2014-08-18 06:25:49.739      New York       False         Online      M   \n",
              "27435 2014-08-18 06:25:49.739      New York       False         Online      M   \n",
              "27436 2014-08-18 06:25:49.739      New York       False         Online      M   \n",
              "27437 2014-08-18 06:25:49.739      New York       False         Online      M   \n",
              "\n",
              "       age                 email satisfaction           name  \\\n",
              "27418   47      dup@katjewtep.hr            3           pens   \n",
              "27419   47      dup@katjewtep.hr            3         binder   \n",
              "27420   47      dup@katjewtep.hr            3  printer paper   \n",
              "27421   47      dup@katjewtep.hr            3        notepad   \n",
              "27422   47      dup@katjewtep.hr            3           pens   \n",
              "27423   29  losuhse@eronehjod.np            4         binder   \n",
              "27424   29  losuhse@eronehjod.np            4         binder   \n",
              "27425   29  losuhse@eronehjod.np            4           pens   \n",
              "27426   29  losuhse@eronehjod.np            4        notepad   \n",
              "27427   29  losuhse@eronehjod.np            4  printer paper   \n",
              "27428   29  losuhse@eronehjod.np            4         laptop   \n",
              "27429   29  losuhse@eronehjod.np            4      envelopes   \n",
              "27430   29  losuhse@eronehjod.np            4       backpack   \n",
              "27431   59         hu@pehabur.gd            4        notepad   \n",
              "27432   59         hu@pehabur.gd            4           pens   \n",
              "27433   33    lihzodud@voblep.ie            3      envelopes   \n",
              "27434   33    lihzodud@voblep.ie            3           pens   \n",
              "27435   33    lihzodud@voblep.ie            3         binder   \n",
              "27436   33    lihzodud@voblep.ie            3         laptop   \n",
              "27437   33    lihzodud@voblep.ie            3       backpack   \n",
              "\n",
              "                                        tags   price  quantity  \n",
              "27418  [writing, office, school, stationary]   63.23         1  \n",
              "27419        [school, general, organization]   13.39         4  \n",
              "27420                   [office, stationary]   35.32         1  \n",
              "27421              [office, writing, school]    7.27         5  \n",
              "27422  [writing, office, school, stationary]   65.52         1  \n",
              "27423        [school, general, organization]   10.81         1  \n",
              "27424        [school, general, organization]   18.00        10  \n",
              "27425  [writing, office, school, stationary]   26.84         5  \n",
              "27426              [office, writing, school]   28.33         1  \n",
              "27427                   [office, stationary]   14.24         4  \n",
              "27428          [electronics, school, office]  780.93         3  \n",
              "27429          [stationary, office, general]   17.72        10  \n",
              "27430                 [school, travel, kids]   42.56         1  \n",
              "27431              [office, writing, school]   33.15         3  \n",
              "27432  [writing, office, school, stationary]    6.83         5  \n",
              "27433          [stationary, office, general]   24.12         5  \n",
              "27434  [writing, office, school, stationary]   27.10         4  \n",
              "27435        [school, general, organization]   29.09         3  \n",
              "27436          [electronics, school, office]  598.79         2  \n",
              "27437                 [school, travel, kids]   70.90         3  "
            ],
            "text/html": [
              "\n",
              "  <div id=\"df-03dfe4ae-2401-48f4-b608-7de67423a6bd\">\n",
              "    <div class=\"colab-df-container\">\n",
              "      <div>\n",
              "<style scoped>\n",
              "    .dataframe tbody tr th:only-of-type {\n",
              "        vertical-align: middle;\n",
              "    }\n",
              "\n",
              "    .dataframe tbody tr th {\n",
              "        vertical-align: top;\n",
              "    }\n",
              "\n",
              "    .dataframe thead th {\n",
              "        text-align: right;\n",
              "    }\n",
              "</style>\n",
              "<table border=\"1\" class=\"dataframe\">\n",
              "  <thead>\n",
              "    <tr style=\"text-align: right;\">\n",
              "      <th></th>\n",
              "      <th>saleDate</th>\n",
              "      <th>storeLocation</th>\n",
              "      <th>couponUsed</th>\n",
              "      <th>purchaseMethod</th>\n",
              "      <th>gender</th>\n",
              "      <th>age</th>\n",
              "      <th>email</th>\n",
              "      <th>satisfaction</th>\n",
              "      <th>name</th>\n",
              "      <th>tags</th>\n",
              "      <th>price</th>\n",
              "      <th>quantity</th>\n",
              "    </tr>\n",
              "  </thead>\n",
              "  <tbody>\n",
              "    <tr>\n",
              "      <th>27418</th>\n",
              "      <td>2014-11-29 10:09:41.573</td>\n",
              "      <td>Denver</td>\n",
              "      <td>False</td>\n",
              "      <td>In store</td>\n",
              "      <td>F</td>\n",
              "      <td>47</td>\n",
              "      <td>dup@katjewtep.hr</td>\n",
              "      <td>3</td>\n",
              "      <td>pens</td>\n",
              "      <td>[writing, office, school, stationary]</td>\n",
              "      <td>63.23</td>\n",
              "      <td>1</td>\n",
              "    </tr>\n",
              "    <tr>\n",
              "      <th>27419</th>\n",
              "      <td>2014-11-29 10:09:41.573</td>\n",
              "      <td>Denver</td>\n",
              "      <td>False</td>\n",
              "      <td>In store</td>\n",
              "      <td>F</td>\n",
              "      <td>47</td>\n",
              "      <td>dup@katjewtep.hr</td>\n",
              "      <td>3</td>\n",
              "      <td>binder</td>\n",
              "      <td>[school, general, organization]</td>\n",
              "      <td>13.39</td>\n",
              "      <td>4</td>\n",
              "    </tr>\n",
              "    <tr>\n",
              "      <th>27420</th>\n",
              "      <td>2014-11-29 10:09:41.573</td>\n",
              "      <td>Denver</td>\n",
              "      <td>False</td>\n",
              "      <td>In store</td>\n",
              "      <td>F</td>\n",
              "      <td>47</td>\n",
              "      <td>dup@katjewtep.hr</td>\n",
              "      <td>3</td>\n",
              "      <td>printer paper</td>\n",
              "      <td>[office, stationary]</td>\n",
              "      <td>35.32</td>\n",
              "      <td>1</td>\n",
              "    </tr>\n",
              "    <tr>\n",
              "      <th>27421</th>\n",
              "      <td>2014-11-29 10:09:41.573</td>\n",
              "      <td>Denver</td>\n",
              "      <td>False</td>\n",
              "      <td>In store</td>\n",
              "      <td>F</td>\n",
              "      <td>47</td>\n",
              "      <td>dup@katjewtep.hr</td>\n",
              "      <td>3</td>\n",
              "      <td>notepad</td>\n",
              "      <td>[office, writing, school]</td>\n",
              "      <td>7.27</td>\n",
              "      <td>5</td>\n",
              "    </tr>\n",
              "    <tr>\n",
              "      <th>27422</th>\n",
              "      <td>2014-11-29 10:09:41.573</td>\n",
              "      <td>Denver</td>\n",
              "      <td>False</td>\n",
              "      <td>In store</td>\n",
              "      <td>F</td>\n",
              "      <td>47</td>\n",
              "      <td>dup@katjewtep.hr</td>\n",
              "      <td>3</td>\n",
              "      <td>pens</td>\n",
              "      <td>[writing, office, school, stationary]</td>\n",
              "      <td>65.52</td>\n",
              "      <td>1</td>\n",
              "    </tr>\n",
              "    <tr>\n",
              "      <th>27423</th>\n",
              "      <td>2017-12-25 07:02:51.283</td>\n",
              "      <td>Denver</td>\n",
              "      <td>False</td>\n",
              "      <td>In store</td>\n",
              "      <td>M</td>\n",
              "      <td>29</td>\n",
              "      <td>losuhse@eronehjod.np</td>\n",
              "      <td>4</td>\n",
              "      <td>binder</td>\n",
              "      <td>[school, general, organization]</td>\n",
              "      <td>10.81</td>\n",
              "      <td>1</td>\n",
              "    </tr>\n",
              "    <tr>\n",
              "      <th>27424</th>\n",
              "      <td>2017-12-25 07:02:51.283</td>\n",
              "      <td>Denver</td>\n",
              "      <td>False</td>\n",
              "      <td>In store</td>\n",
              "      <td>M</td>\n",
              "      <td>29</td>\n",
              "      <td>losuhse@eronehjod.np</td>\n",
              "      <td>4</td>\n",
              "      <td>binder</td>\n",
              "      <td>[school, general, organization]</td>\n",
              "      <td>18.00</td>\n",
              "      <td>10</td>\n",
              "    </tr>\n",
              "    <tr>\n",
              "      <th>27425</th>\n",
              "      <td>2017-12-25 07:02:51.283</td>\n",
              "      <td>Denver</td>\n",
              "      <td>False</td>\n",
              "      <td>In store</td>\n",
              "      <td>M</td>\n",
              "      <td>29</td>\n",
              "      <td>losuhse@eronehjod.np</td>\n",
              "      <td>4</td>\n",
              "      <td>pens</td>\n",
              "      <td>[writing, office, school, stationary]</td>\n",
              "      <td>26.84</td>\n",
              "      <td>5</td>\n",
              "    </tr>\n",
              "    <tr>\n",
              "      <th>27426</th>\n",
              "      <td>2017-12-25 07:02:51.283</td>\n",
              "      <td>Denver</td>\n",
              "      <td>False</td>\n",
              "      <td>In store</td>\n",
              "      <td>M</td>\n",
              "      <td>29</td>\n",
              "      <td>losuhse@eronehjod.np</td>\n",
              "      <td>4</td>\n",
              "      <td>notepad</td>\n",
              "      <td>[office, writing, school]</td>\n",
              "      <td>28.33</td>\n",
              "      <td>1</td>\n",
              "    </tr>\n",
              "    <tr>\n",
              "      <th>27427</th>\n",
              "      <td>2017-12-25 07:02:51.283</td>\n",
              "      <td>Denver</td>\n",
              "      <td>False</td>\n",
              "      <td>In store</td>\n",
              "      <td>M</td>\n",
              "      <td>29</td>\n",
              "      <td>losuhse@eronehjod.np</td>\n",
              "      <td>4</td>\n",
              "      <td>printer paper</td>\n",
              "      <td>[office, stationary]</td>\n",
              "      <td>14.24</td>\n",
              "      <td>4</td>\n",
              "    </tr>\n",
              "    <tr>\n",
              "      <th>27428</th>\n",
              "      <td>2017-12-25 07:02:51.283</td>\n",
              "      <td>Denver</td>\n",
              "      <td>False</td>\n",
              "      <td>In store</td>\n",
              "      <td>M</td>\n",
              "      <td>29</td>\n",
              "      <td>losuhse@eronehjod.np</td>\n",
              "      <td>4</td>\n",
              "      <td>laptop</td>\n",
              "      <td>[electronics, school, office]</td>\n",
              "      <td>780.93</td>\n",
              "      <td>3</td>\n",
              "    </tr>\n",
              "    <tr>\n",
              "      <th>27429</th>\n",
              "      <td>2017-12-25 07:02:51.283</td>\n",
              "      <td>Denver</td>\n",
              "      <td>False</td>\n",
              "      <td>In store</td>\n",
              "      <td>M</td>\n",
              "      <td>29</td>\n",
              "      <td>losuhse@eronehjod.np</td>\n",
              "      <td>4</td>\n",
              "      <td>envelopes</td>\n",
              "      <td>[stationary, office, general]</td>\n",
              "      <td>17.72</td>\n",
              "      <td>10</td>\n",
              "    </tr>\n",
              "    <tr>\n",
              "      <th>27430</th>\n",
              "      <td>2017-12-25 07:02:51.283</td>\n",
              "      <td>Denver</td>\n",
              "      <td>False</td>\n",
              "      <td>In store</td>\n",
              "      <td>M</td>\n",
              "      <td>29</td>\n",
              "      <td>losuhse@eronehjod.np</td>\n",
              "      <td>4</td>\n",
              "      <td>backpack</td>\n",
              "      <td>[school, travel, kids]</td>\n",
              "      <td>42.56</td>\n",
              "      <td>1</td>\n",
              "    </tr>\n",
              "    <tr>\n",
              "      <th>27431</th>\n",
              "      <td>2013-12-07 11:06:25.510</td>\n",
              "      <td>Denver</td>\n",
              "      <td>False</td>\n",
              "      <td>Online</td>\n",
              "      <td>M</td>\n",
              "      <td>59</td>\n",
              "      <td>hu@pehabur.gd</td>\n",
              "      <td>4</td>\n",
              "      <td>notepad</td>\n",
              "      <td>[office, writing, school]</td>\n",
              "      <td>33.15</td>\n",
              "      <td>3</td>\n",
              "    </tr>\n",
              "    <tr>\n",
              "      <th>27432</th>\n",
              "      <td>2013-12-07 11:06:25.510</td>\n",
              "      <td>Denver</td>\n",
              "      <td>False</td>\n",
              "      <td>Online</td>\n",
              "      <td>M</td>\n",
              "      <td>59</td>\n",
              "      <td>hu@pehabur.gd</td>\n",
              "      <td>4</td>\n",
              "      <td>pens</td>\n",
              "      <td>[writing, office, school, stationary]</td>\n",
              "      <td>6.83</td>\n",
              "      <td>5</td>\n",
              "    </tr>\n",
              "    <tr>\n",
              "      <th>27433</th>\n",
              "      <td>2014-08-18 06:25:49.739</td>\n",
              "      <td>New York</td>\n",
              "      <td>False</td>\n",
              "      <td>Online</td>\n",
              "      <td>M</td>\n",
              "      <td>33</td>\n",
              "      <td>lihzodud@voblep.ie</td>\n",
              "      <td>3</td>\n",
              "      <td>envelopes</td>\n",
              "      <td>[stationary, office, general]</td>\n",
              "      <td>24.12</td>\n",
              "      <td>5</td>\n",
              "    </tr>\n",
              "    <tr>\n",
              "      <th>27434</th>\n",
              "      <td>2014-08-18 06:25:49.739</td>\n",
              "      <td>New York</td>\n",
              "      <td>False</td>\n",
              "      <td>Online</td>\n",
              "      <td>M</td>\n",
              "      <td>33</td>\n",
              "      <td>lihzodud@voblep.ie</td>\n",
              "      <td>3</td>\n",
              "      <td>pens</td>\n",
              "      <td>[writing, office, school, stationary]</td>\n",
              "      <td>27.10</td>\n",
              "      <td>4</td>\n",
              "    </tr>\n",
              "    <tr>\n",
              "      <th>27435</th>\n",
              "      <td>2014-08-18 06:25:49.739</td>\n",
              "      <td>New York</td>\n",
              "      <td>False</td>\n",
              "      <td>Online</td>\n",
              "      <td>M</td>\n",
              "      <td>33</td>\n",
              "      <td>lihzodud@voblep.ie</td>\n",
              "      <td>3</td>\n",
              "      <td>binder</td>\n",
              "      <td>[school, general, organization]</td>\n",
              "      <td>29.09</td>\n",
              "      <td>3</td>\n",
              "    </tr>\n",
              "    <tr>\n",
              "      <th>27436</th>\n",
              "      <td>2014-08-18 06:25:49.739</td>\n",
              "      <td>New York</td>\n",
              "      <td>False</td>\n",
              "      <td>Online</td>\n",
              "      <td>M</td>\n",
              "      <td>33</td>\n",
              "      <td>lihzodud@voblep.ie</td>\n",
              "      <td>3</td>\n",
              "      <td>laptop</td>\n",
              "      <td>[electronics, school, office]</td>\n",
              "      <td>598.79</td>\n",
              "      <td>2</td>\n",
              "    </tr>\n",
              "    <tr>\n",
              "      <th>27437</th>\n",
              "      <td>2014-08-18 06:25:49.739</td>\n",
              "      <td>New York</td>\n",
              "      <td>False</td>\n",
              "      <td>Online</td>\n",
              "      <td>M</td>\n",
              "      <td>33</td>\n",
              "      <td>lihzodud@voblep.ie</td>\n",
              "      <td>3</td>\n",
              "      <td>backpack</td>\n",
              "      <td>[school, travel, kids]</td>\n",
              "      <td>70.90</td>\n",
              "      <td>3</td>\n",
              "    </tr>\n",
              "  </tbody>\n",
              "</table>\n",
              "</div>\n",
              "      <button class=\"colab-df-convert\" onclick=\"convertToInteractive('df-03dfe4ae-2401-48f4-b608-7de67423a6bd')\"\n",
              "              title=\"Convert this dataframe to an interactive table.\"\n",
              "              style=\"display:none;\">\n",
              "        \n",
              "  <svg xmlns=\"http://www.w3.org/2000/svg\" height=\"24px\"viewBox=\"0 0 24 24\"\n",
              "       width=\"24px\">\n",
              "    <path d=\"M0 0h24v24H0V0z\" fill=\"none\"/>\n",
              "    <path d=\"M18.56 5.44l.94 2.06.94-2.06 2.06-.94-2.06-.94-.94-2.06-.94 2.06-2.06.94zm-11 1L8.5 8.5l.94-2.06 2.06-.94-2.06-.94L8.5 2.5l-.94 2.06-2.06.94zm10 10l.94 2.06.94-2.06 2.06-.94-2.06-.94-.94-2.06-.94 2.06-2.06.94z\"/><path d=\"M17.41 7.96l-1.37-1.37c-.4-.4-.92-.59-1.43-.59-.52 0-1.04.2-1.43.59L10.3 9.45l-7.72 7.72c-.78.78-.78 2.05 0 2.83L4 21.41c.39.39.9.59 1.41.59.51 0 1.02-.2 1.41-.59l7.78-7.78 2.81-2.81c.8-.78.8-2.07 0-2.86zM5.41 20L4 18.59l7.72-7.72 1.47 1.35L5.41 20z\"/>\n",
              "  </svg>\n",
              "      </button>\n",
              "      \n",
              "  <style>\n",
              "    .colab-df-container {\n",
              "      display:flex;\n",
              "      flex-wrap:wrap;\n",
              "      gap: 12px;\n",
              "    }\n",
              "\n",
              "    .colab-df-convert {\n",
              "      background-color: #E8F0FE;\n",
              "      border: none;\n",
              "      border-radius: 50%;\n",
              "      cursor: pointer;\n",
              "      display: none;\n",
              "      fill: #1967D2;\n",
              "      height: 32px;\n",
              "      padding: 0 0 0 0;\n",
              "      width: 32px;\n",
              "    }\n",
              "\n",
              "    .colab-df-convert:hover {\n",
              "      background-color: #E2EBFA;\n",
              "      box-shadow: 0px 1px 2px rgba(60, 64, 67, 0.3), 0px 1px 3px 1px rgba(60, 64, 67, 0.15);\n",
              "      fill: #174EA6;\n",
              "    }\n",
              "\n",
              "    [theme=dark] .colab-df-convert {\n",
              "      background-color: #3B4455;\n",
              "      fill: #D2E3FC;\n",
              "    }\n",
              "\n",
              "    [theme=dark] .colab-df-convert:hover {\n",
              "      background-color: #434B5C;\n",
              "      box-shadow: 0px 1px 3px 1px rgba(0, 0, 0, 0.15);\n",
              "      filter: drop-shadow(0px 1px 2px rgba(0, 0, 0, 0.3));\n",
              "      fill: #FFFFFF;\n",
              "    }\n",
              "  </style>\n",
              "\n",
              "      <script>\n",
              "        const buttonEl =\n",
              "          document.querySelector('#df-03dfe4ae-2401-48f4-b608-7de67423a6bd button.colab-df-convert');\n",
              "        buttonEl.style.display =\n",
              "          google.colab.kernel.accessAllowed ? 'block' : 'none';\n",
              "\n",
              "        async function convertToInteractive(key) {\n",
              "          const element = document.querySelector('#df-03dfe4ae-2401-48f4-b608-7de67423a6bd');\n",
              "          const dataTable =\n",
              "            await google.colab.kernel.invokeFunction('convertToInteractive',\n",
              "                                                     [key], {});\n",
              "          if (!dataTable) return;\n",
              "\n",
              "          const docLinkHtml = 'Like what you see? Visit the ' +\n",
              "            '<a target=\"_blank\" href=https://colab.research.google.com/notebooks/data_table.ipynb>data table notebook</a>'\n",
              "            + ' to learn more about interactive tables.';\n",
              "          element.innerHTML = '';\n",
              "          dataTable['output_type'] = 'display_data';\n",
              "          await google.colab.output.renderOutput(dataTable, element);\n",
              "          const docLink = document.createElement('div');\n",
              "          docLink.innerHTML = docLinkHtml;\n",
              "          element.appendChild(docLink);\n",
              "        }\n",
              "      </script>\n",
              "    </div>\n",
              "  </div>\n",
              "  "
            ]
          },
          "metadata": {},
          "execution_count": 108
        }
      ]
    },
    {
      "cell_type": "markdown",
      "source": [
        "## Filtros"
      ],
      "metadata": {
        "id": "uE8EUs1ITaca"
      }
    },
    {
      "cell_type": "markdown",
      "source": [
        "###Dados estatíticos do dataframe"
      ],
      "metadata": {
        "id": "7dirANqVUHwT"
      }
    },
    {
      "cell_type": "code",
      "source": [
        "df_complete.describe()"
      ],
      "metadata": {
        "colab": {
          "base_uri": "https://localhost:8080/",
          "height": 300
        },
        "id": "EdhWnPw3TgjK",
        "outputId": "1b9dc2ab-2431-41f5-be17-20ff2420b826"
      },
      "execution_count": null,
      "outputs": [
        {
          "output_type": "execute_result",
          "data": {
            "text/plain": [
              "                age         price      quantity\n",
              "count  27438.000000  27438.000000  27438.000000\n",
              "mean      44.780013    113.075175      4.040637\n",
              "std       14.396180    284.189435      2.476008\n",
              "min       16.000000      5.000000      1.000000\n",
              "25%       34.000000     15.782500      2.000000\n",
              "50%       44.000000     24.610000      4.000000\n",
              "75%       56.000000     45.105000      5.000000\n",
              "max       75.000000   1599.490000     10.000000"
            ],
            "text/html": [
              "\n",
              "  <div id=\"df-81e12727-2c6c-4b05-b88c-d30a7d6a63bc\">\n",
              "    <div class=\"colab-df-container\">\n",
              "      <div>\n",
              "<style scoped>\n",
              "    .dataframe tbody tr th:only-of-type {\n",
              "        vertical-align: middle;\n",
              "    }\n",
              "\n",
              "    .dataframe tbody tr th {\n",
              "        vertical-align: top;\n",
              "    }\n",
              "\n",
              "    .dataframe thead th {\n",
              "        text-align: right;\n",
              "    }\n",
              "</style>\n",
              "<table border=\"1\" class=\"dataframe\">\n",
              "  <thead>\n",
              "    <tr style=\"text-align: right;\">\n",
              "      <th></th>\n",
              "      <th>age</th>\n",
              "      <th>price</th>\n",
              "      <th>quantity</th>\n",
              "    </tr>\n",
              "  </thead>\n",
              "  <tbody>\n",
              "    <tr>\n",
              "      <th>count</th>\n",
              "      <td>27438.000000</td>\n",
              "      <td>27438.000000</td>\n",
              "      <td>27438.000000</td>\n",
              "    </tr>\n",
              "    <tr>\n",
              "      <th>mean</th>\n",
              "      <td>44.780013</td>\n",
              "      <td>113.075175</td>\n",
              "      <td>4.040637</td>\n",
              "    </tr>\n",
              "    <tr>\n",
              "      <th>std</th>\n",
              "      <td>14.396180</td>\n",
              "      <td>284.189435</td>\n",
              "      <td>2.476008</td>\n",
              "    </tr>\n",
              "    <tr>\n",
              "      <th>min</th>\n",
              "      <td>16.000000</td>\n",
              "      <td>5.000000</td>\n",
              "      <td>1.000000</td>\n",
              "    </tr>\n",
              "    <tr>\n",
              "      <th>25%</th>\n",
              "      <td>34.000000</td>\n",
              "      <td>15.782500</td>\n",
              "      <td>2.000000</td>\n",
              "    </tr>\n",
              "    <tr>\n",
              "      <th>50%</th>\n",
              "      <td>44.000000</td>\n",
              "      <td>24.610000</td>\n",
              "      <td>4.000000</td>\n",
              "    </tr>\n",
              "    <tr>\n",
              "      <th>75%</th>\n",
              "      <td>56.000000</td>\n",
              "      <td>45.105000</td>\n",
              "      <td>5.000000</td>\n",
              "    </tr>\n",
              "    <tr>\n",
              "      <th>max</th>\n",
              "      <td>75.000000</td>\n",
              "      <td>1599.490000</td>\n",
              "      <td>10.000000</td>\n",
              "    </tr>\n",
              "  </tbody>\n",
              "</table>\n",
              "</div>\n",
              "      <button class=\"colab-df-convert\" onclick=\"convertToInteractive('df-81e12727-2c6c-4b05-b88c-d30a7d6a63bc')\"\n",
              "              title=\"Convert this dataframe to an interactive table.\"\n",
              "              style=\"display:none;\">\n",
              "        \n",
              "  <svg xmlns=\"http://www.w3.org/2000/svg\" height=\"24px\"viewBox=\"0 0 24 24\"\n",
              "       width=\"24px\">\n",
              "    <path d=\"M0 0h24v24H0V0z\" fill=\"none\"/>\n",
              "    <path d=\"M18.56 5.44l.94 2.06.94-2.06 2.06-.94-2.06-.94-.94-2.06-.94 2.06-2.06.94zm-11 1L8.5 8.5l.94-2.06 2.06-.94-2.06-.94L8.5 2.5l-.94 2.06-2.06.94zm10 10l.94 2.06.94-2.06 2.06-.94-2.06-.94-.94-2.06-.94 2.06-2.06.94z\"/><path d=\"M17.41 7.96l-1.37-1.37c-.4-.4-.92-.59-1.43-.59-.52 0-1.04.2-1.43.59L10.3 9.45l-7.72 7.72c-.78.78-.78 2.05 0 2.83L4 21.41c.39.39.9.59 1.41.59.51 0 1.02-.2 1.41-.59l7.78-7.78 2.81-2.81c.8-.78.8-2.07 0-2.86zM5.41 20L4 18.59l7.72-7.72 1.47 1.35L5.41 20z\"/>\n",
              "  </svg>\n",
              "      </button>\n",
              "      \n",
              "  <style>\n",
              "    .colab-df-container {\n",
              "      display:flex;\n",
              "      flex-wrap:wrap;\n",
              "      gap: 12px;\n",
              "    }\n",
              "\n",
              "    .colab-df-convert {\n",
              "      background-color: #E8F0FE;\n",
              "      border: none;\n",
              "      border-radius: 50%;\n",
              "      cursor: pointer;\n",
              "      display: none;\n",
              "      fill: #1967D2;\n",
              "      height: 32px;\n",
              "      padding: 0 0 0 0;\n",
              "      width: 32px;\n",
              "    }\n",
              "\n",
              "    .colab-df-convert:hover {\n",
              "      background-color: #E2EBFA;\n",
              "      box-shadow: 0px 1px 2px rgba(60, 64, 67, 0.3), 0px 1px 3px 1px rgba(60, 64, 67, 0.15);\n",
              "      fill: #174EA6;\n",
              "    }\n",
              "\n",
              "    [theme=dark] .colab-df-convert {\n",
              "      background-color: #3B4455;\n",
              "      fill: #D2E3FC;\n",
              "    }\n",
              "\n",
              "    [theme=dark] .colab-df-convert:hover {\n",
              "      background-color: #434B5C;\n",
              "      box-shadow: 0px 1px 3px 1px rgba(0, 0, 0, 0.15);\n",
              "      filter: drop-shadow(0px 1px 2px rgba(0, 0, 0, 0.3));\n",
              "      fill: #FFFFFF;\n",
              "    }\n",
              "  </style>\n",
              "\n",
              "      <script>\n",
              "        const buttonEl =\n",
              "          document.querySelector('#df-81e12727-2c6c-4b05-b88c-d30a7d6a63bc button.colab-df-convert');\n",
              "        buttonEl.style.display =\n",
              "          google.colab.kernel.accessAllowed ? 'block' : 'none';\n",
              "\n",
              "        async function convertToInteractive(key) {\n",
              "          const element = document.querySelector('#df-81e12727-2c6c-4b05-b88c-d30a7d6a63bc');\n",
              "          const dataTable =\n",
              "            await google.colab.kernel.invokeFunction('convertToInteractive',\n",
              "                                                     [key], {});\n",
              "          if (!dataTable) return;\n",
              "\n",
              "          const docLinkHtml = 'Like what you see? Visit the ' +\n",
              "            '<a target=\"_blank\" href=https://colab.research.google.com/notebooks/data_table.ipynb>data table notebook</a>'\n",
              "            + ' to learn more about interactive tables.';\n",
              "          element.innerHTML = '';\n",
              "          dataTable['output_type'] = 'display_data';\n",
              "          await google.colab.output.renderOutput(dataTable, element);\n",
              "          const docLink = document.createElement('div');\n",
              "          docLink.innerHTML = docLinkHtml;\n",
              "          element.appendChild(docLink);\n",
              "        }\n",
              "      </script>\n",
              "    </div>\n",
              "  </div>\n",
              "  "
            ]
          },
          "metadata": {},
          "execution_count": 53
        }
      ]
    },
    {
      "cell_type": "markdown",
      "source": [
        "### Column purchaseMethod"
      ],
      "metadata": {
        "id": "moJaoo3JVkZR"
      }
    },
    {
      "cell_type": "markdown",
      "source": [
        "Total de vendas em cada canal"
      ],
      "metadata": {
        "id": "jFu-dr7sV2yR"
      }
    },
    {
      "cell_type": "code",
      "source": [
        "df_complete.groupby('purchaseMethod').size()"
      ],
      "metadata": {
        "colab": {
          "base_uri": "https://localhost:8080/"
        },
        "id": "abM-xf_MTrKk",
        "outputId": "f4a7e7d2-3500-4463-ce10-2ab72c915c15"
      },
      "execution_count": null,
      "outputs": [
        {
          "output_type": "execute_result",
          "data": {
            "text/plain": [
              "purchaseMethod\n",
              "In store    15633\n",
              "Online       8584\n",
              "Phone        3221\n",
              "dtype: int64"
            ]
          },
          "metadata": {},
          "execution_count": 54
        }
      ]
    },
    {
      "cell_type": "markdown",
      "source": [
        "Quantidade de itens vendidos por canal de venda"
      ],
      "metadata": {
        "id": "ksCBggjNWH2J"
      }
    },
    {
      "cell_type": "code",
      "source": [
        "#vendas por canal de venda\n",
        "df_complete[['purchaseMethod',\t'quantity']].groupby('purchaseMethod').sum().plot.bar(figsize=(15,8))"
      ],
      "metadata": {
        "colab": {
          "base_uri": "https://localhost:8080/",
          "height": 541
        },
        "id": "ByLLQe3fUjgD",
        "outputId": "362bed6b-9f01-4aac-e41b-c81490746f8a"
      },
      "execution_count": null,
      "outputs": [
        {
          "output_type": "execute_result",
          "data": {
            "text/plain": [
              "<matplotlib.axes._subplots.AxesSubplot at 0x7efd690d8d60>"
            ]
          },
          "metadata": {},
          "execution_count": 55
        },
        {
          "output_type": "display_data",
          "data": {
            "text/plain": [
              "<Figure size 1080x576 with 1 Axes>"
            ],
            "image/png": "[encoded data removed]"
          },
          "metadata": {
            "needs_background": "light"
          }
        }
      ]
    },
    {
      "cell_type": "markdown",
      "source": [
        "Valores vendidos por canal de venda"
      ],
      "metadata": {
        "id": "rzhRQGMOWMrL"
      }
    },
    {
      "cell_type": "code",
      "source": [
        "#total vendido (US$)\n",
        "df_complete.price.sum()"
      ],
      "metadata": {
        "colab": {
          "base_uri": "https://localhost:8080/"
        },
        "id": "LLqhp5YbWkHY",
        "outputId": "93275911-f603-4e22-c7a5-797cc80b7309"
      },
      "execution_count": null,
      "outputs": [
        {
          "output_type": "execute_result",
          "data": {
            "text/plain": [
              "3102556.6399999997"
            ]
          },
          "metadata": {},
          "execution_count": 59
        }
      ]
    },
    {
      "cell_type": "code",
      "source": [
        "df_purchase =df_complete[['purchaseMethod',\t'price']].groupby('purchaseMethod').sum()\n",
        "df_purchase.plot(kind='bar', figsize=(15,8))\n",
        "plt.ticklabel_format(style='plain', axis='y')\n",
        "plt.xlabel('Canal de venda')\n",
        "plt.ylabel('Total de vendas (US$)')\n"
      ],
      "metadata": {
        "colab": {
          "base_uri": "https://localhost:8080/",
          "height": 541
        },
        "id": "wcXQsWo1WTev",
        "outputId": "a79f99be-5608-4abe-af7f-1824e188f890"
      },
      "execution_count": null,
      "outputs": [
        {
          "output_type": "execute_result",
          "data": {
            "text/plain": [
              "Text(0, 0.5, 'Total de vendas (US$')"
            ]
          },
          "metadata": {},
          "execution_count": 107
        },
        {
          "output_type": "display_data",
          "data": {
            "text/plain": [
              "<Figure size 1080x576 with 1 Axes>"
            ],
            "image/png": "[encoded data removed]"
          },
          "metadata": {
            "needs_background": "light"
          }
        }
      ]
    },
    {
      "cell_type": "markdown",
      "source": [
        "Uma dúvida que fiquei durante a análise é se os preços são por produto, ou o total para aquele produto comprado"
      ],
      "metadata": {
        "id": "so_hVcR9i4SC"
      }
    },
    {
      "cell_type": "markdown",
      "source": [
        "### Column name"
      ],
      "metadata": {
        "id": "p9F3_N2YjLzP"
      }
    },
    {
      "cell_type": "markdown",
      "source": [
        "Quantidade de produtos vendidos por tipo de produto"
      ],
      "metadata": {
        "id": "Mxty43idjcJK"
      }
    },
    {
      "cell_type": "code",
      "source": [
        "#vendas por canal de venda\n",
        "df_complete[['name',\t'quantity']].groupby('name').sum().plot.bar(figsize=(15,8))"
      ],
      "metadata": {
        "colab": {
          "base_uri": "https://localhost:8080/",
          "height": 570
        },
        "id": "Vo6mxRGyjUtz",
        "outputId": "1da845b5-37e4-48da-bd48-d8f73f4bc3ec"
      },
      "execution_count": null,
      "outputs": [
        {
          "output_type": "execute_result",
          "data": {
            "text/plain": [
              "<matplotlib.axes._subplots.AxesSubplot at 0x7efd68041af0>"
            ]
          },
          "metadata": {},
          "execution_count": 109
        },
        {
          "output_type": "display_data",
          "data": {
            "text/plain": [
              "<Figure size 1080x576 with 1 Axes>"
            ],
            "image/png": "[encoded data removed]"
          },
          "metadata": {
            "needs_background": "light"
          }
        }
      ]
    },
    {
      "cell_type": "code",
      "source": [
        "df_complete[['name',\t'price']].groupby('name').sum()"
      ],
      "metadata": {
        "colab": {
          "base_uri": "https://localhost:8080/",
          "height": 300
        },
        "id": "lgstjUh-kFFX",
        "outputId": "91601e33-9fd6-47f8-85a0-a7d1fe009499"
      },
      "execution_count": null,
      "outputs": [
        {
          "output_type": "execute_result",
          "data": {
            "text/plain": [
              "                    price\n",
              "name                     \n",
              "backpack        273404.86\n",
              "binder           93648.21\n",
              "envelopes        67666.09\n",
              "laptop         2253177.21\n",
              "notepad         154107.38\n",
              "pens            192567.63\n",
              "printer paper    67985.26"
            ],
            "text/html": [
              "\n",
              "  <div id=\"df-afef9037-698a-498a-ae01-6123dfdc1868\">\n",
              "    <div class=\"colab-df-container\">\n",
              "      <div>\n",
              "<style scoped>\n",
              "    .dataframe tbody tr th:only-of-type {\n",
              "        vertical-align: middle;\n",
              "    }\n",
              "\n",
              "    .dataframe tbody tr th {\n",
              "        vertical-align: top;\n",
              "    }\n",
              "\n",
              "    .dataframe thead th {\n",
              "        text-align: right;\n",
              "    }\n",
              "</style>\n",
              "<table border=\"1\" class=\"dataframe\">\n",
              "  <thead>\n",
              "    <tr style=\"text-align: right;\">\n",
              "      <th></th>\n",
              "      <th>price</th>\n",
              "    </tr>\n",
              "    <tr>\n",
              "      <th>name</th>\n",
              "      <th></th>\n",
              "    </tr>\n",
              "  </thead>\n",
              "  <tbody>\n",
              "    <tr>\n",
              "      <th>backpack</th>\n",
              "      <td>273404.86</td>\n",
              "    </tr>\n",
              "    <tr>\n",
              "      <th>binder</th>\n",
              "      <td>93648.21</td>\n",
              "    </tr>\n",
              "    <tr>\n",
              "      <th>envelopes</th>\n",
              "      <td>67666.09</td>\n",
              "    </tr>\n",
              "    <tr>\n",
              "      <th>laptop</th>\n",
              "      <td>2253177.21</td>\n",
              "    </tr>\n",
              "    <tr>\n",
              "      <th>notepad</th>\n",
              "      <td>154107.38</td>\n",
              "    </tr>\n",
              "    <tr>\n",
              "      <th>pens</th>\n",
              "      <td>192567.63</td>\n",
              "    </tr>\n",
              "    <tr>\n",
              "      <th>printer paper</th>\n",
              "      <td>67985.26</td>\n",
              "    </tr>\n",
              "  </tbody>\n",
              "</table>\n",
              "</div>\n",
              "      <button class=\"colab-df-convert\" onclick=\"convertToInteractive('df-afef9037-698a-498a-ae01-6123dfdc1868')\"\n",
              "              title=\"Convert this dataframe to an interactive table.\"\n",
              "              style=\"display:none;\">\n",
              "        \n",
              "  <svg xmlns=\"http://www.w3.org/2000/svg\" height=\"24px\"viewBox=\"0 0 24 24\"\n",
              "       width=\"24px\">\n",
              "    <path d=\"M0 0h24v24H0V0z\" fill=\"none\"/>\n",
              "    <path d=\"M18.56 5.44l.94 2.06.94-2.06 2.06-.94-2.06-.94-.94-2.06-.94 2.06-2.06.94zm-11 1L8.5 8.5l.94-2.06 2.06-.94-2.06-.94L8.5 2.5l-.94 2.06-2.06.94zm10 10l.94 2.06.94-2.06 2.06-.94-2.06-.94-.94-2.06-.94 2.06-2.06.94z\"/><path d=\"M17.41 7.96l-1.37-1.37c-.4-.4-.92-.59-1.43-.59-.52 0-1.04.2-1.43.59L10.3 9.45l-7.72 7.72c-.78.78-.78 2.05 0 2.83L4 21.41c.39.39.9.59 1.41.59.51 0 1.02-.2 1.41-.59l7.78-7.78 2.81-2.81c.8-.78.8-2.07 0-2.86zM5.41 20L4 18.59l7.72-7.72 1.47 1.35L5.41 20z\"/>\n",
              "  </svg>\n",
              "      </button>\n",
              "      \n",
              "  <style>\n",
              "    .colab-df-container {\n",
              "      display:flex;\n",
              "      flex-wrap:wrap;\n",
              "      gap: 12px;\n",
              "    }\n",
              "\n",
              "    .colab-df-convert {\n",
              "      background-color: #E8F0FE;\n",
              "      border: none;\n",
              "      border-radius: 50%;\n",
              "      cursor: pointer;\n",
              "      display: none;\n",
              "      fill: #1967D2;\n",
              "      height: 32px;\n",
              "      padding: 0 0 0 0;\n",
              "      width: 32px;\n",
              "    }\n",
              "\n",
              "    .colab-df-convert:hover {\n",
              "      background-color: #E2EBFA;\n",
              "      box-shadow: 0px 1px 2px rgba(60, 64, 67, 0.3), 0px 1px 3px 1px rgba(60, 64, 67, 0.15);\n",
              "      fill: #174EA6;\n",
              "    }\n",
              "\n",
              "    [theme=dark] .colab-df-convert {\n",
              "      background-color: #3B4455;\n",
              "      fill: #D2E3FC;\n",
              "    }\n",
              "\n",
              "    [theme=dark] .colab-df-convert:hover {\n",
              "      background-color: #434B5C;\n",
              "      box-shadow: 0px 1px 3px 1px rgba(0, 0, 0, 0.15);\n",
              "      filter: drop-shadow(0px 1px 2px rgba(0, 0, 0, 0.3));\n",
              "      fill: #FFFFFF;\n",
              "    }\n",
              "  </style>\n",
              "\n",
              "      <script>\n",
              "        const buttonEl =\n",
              "          document.querySelector('#df-afef9037-698a-498a-ae01-6123dfdc1868 button.colab-df-convert');\n",
              "        buttonEl.style.display =\n",
              "          google.colab.kernel.accessAllowed ? 'block' : 'none';\n",
              "\n",
              "        async function convertToInteractive(key) {\n",
              "          const element = document.querySelector('#df-afef9037-698a-498a-ae01-6123dfdc1868');\n",
              "          const dataTable =\n",
              "            await google.colab.kernel.invokeFunction('convertToInteractive',\n",
              "                                                     [key], {});\n",
              "          if (!dataTable) return;\n",
              "\n",
              "          const docLinkHtml = 'Like what you see? Visit the ' +\n",
              "            '<a target=\"_blank\" href=https://colab.research.google.com/notebooks/data_table.ipynb>data table notebook</a>'\n",
              "            + ' to learn more about interactive tables.';\n",
              "          element.innerHTML = '';\n",
              "          dataTable['output_type'] = 'display_data';\n",
              "          await google.colab.output.renderOutput(dataTable, element);\n",
              "          const docLink = document.createElement('div');\n",
              "          docLink.innerHTML = docLinkHtml;\n",
              "          element.appendChild(docLink);\n",
              "        }\n",
              "      </script>\n",
              "    </div>\n",
              "  </div>\n",
              "  "
            ]
          },
          "metadata": {},
          "execution_count": 113
        }
      ]
    },
    {
      "cell_type": "code",
      "source": [
        "df_purchase =df_complete[['name',\t'price']].groupby('name').sum()\n",
        "df_purchase.plot(kind='bar', figsize=(15,8))\n",
        "plt.ticklabel_format(style='plain', axis='y')\n",
        "plt.xlabel('Produtos vendidos')\n",
        "plt.ylabel('Total de vendas (US$)')\n"
      ],
      "metadata": {
        "colab": {
          "base_uri": "https://localhost:8080/",
          "height": 570
        },
        "outputId": "8f69760e-e22f-4d90-907e-95f0f11325ed",
        "id": "KpWSUZtAjuDQ"
      },
      "execution_count": null,
      "outputs": [
        {
          "output_type": "execute_result",
          "data": {
            "text/plain": [
              "Text(0, 0.5, 'Total de vendas (US$)')"
            ]
          },
          "metadata": {},
          "execution_count": 114
        },
        {
          "output_type": "display_data",
          "data": {
            "text/plain": [
              "<Figure size 1080x576 with 1 Axes>"
            ],
            "image/png": "[encoded data removed]"
          },
          "metadata": {
            "needs_background": "light"
          }
        }
      ]
    },
    {
      "cell_type": "markdown",
      "source": [
        "### Column storeLocation"
      ],
      "metadata": {
        "id": "lY9Onjvuk8ov"
      }
    },
    {
      "cell_type": "markdown",
      "source": [
        "Quantidade de produtos vendidos por tipo de produto"
      ],
      "metadata": {
        "id": "L_XFbf4nk0UY"
      }
    },
    {
      "cell_type": "code",
      "source": [
        "#vendas por canal de venda\n",
        "df_complete[['storeLocation',\t'quantity']].groupby('storeLocation').sum().plot.bar(figsize=(15,8))"
      ],
      "metadata": {
        "colab": {
          "base_uri": "https://localhost:8080/",
          "height": 555
        },
        "outputId": "10b095b6-c3cc-4805-d01c-5b9692c00fcf",
        "id": "xd9oyT2zk0UZ"
      },
      "execution_count": null,
      "outputs": [
        {
          "output_type": "execute_result",
          "data": {
            "text/plain": [
              "<matplotlib.axes._subplots.AxesSubplot at 0x7efd67f36d60>"
            ]
          },
          "metadata": {},
          "execution_count": 116
        },
        {
          "output_type": "display_data",
          "data": {
            "text/plain": [
              "<Figure size 1080x576 with 1 Axes>"
            ],
            "image/png": "[encoded data removed]"
          },
          "metadata": {
            "needs_background": "light"
          }
        }
      ]
    },
    {
      "cell_type": "code",
      "source": [
        "df_complete[['storeLocation',\t'price']].groupby('storeLocation').sum()"
      ],
      "metadata": {
        "colab": {
          "base_uri": "https://localhost:8080/",
          "height": 269
        },
        "outputId": "2a2d6ce7-dada-4383-9070-e5969c202ef3",
        "id": "m6JoL-zkk0Ub"
      },
      "execution_count": null,
      "outputs": [
        {
          "output_type": "execute_result",
          "data": {
            "text/plain": [
              "                   price\n",
              "storeLocation           \n",
              "Austin         436116.89\n",
              "Denver         929942.08\n",
              "London         501452.82\n",
              "New York       311750.43\n",
              "San Diego      225134.90\n",
              "Seattle        698159.52"
            ],
            "text/html": [
              "\n",
              "  <div id=\"df-19158b27-a2e0-4421-9293-239e682851e6\">\n",
              "    <div class=\"colab-df-container\">\n",
              "      <div>\n",
              "<style scoped>\n",
              "    .dataframe tbody tr th:only-of-type {\n",
              "        vertical-align: middle;\n",
              "    }\n",
              "\n",
              "    .dataframe tbody tr th {\n",
              "        vertical-align: top;\n",
              "    }\n",
              "\n",
              "    .dataframe thead th {\n",
              "        text-align: right;\n",
              "    }\n",
              "</style>\n",
              "<table border=\"1\" class=\"dataframe\">\n",
              "  <thead>\n",
              "    <tr style=\"text-align: right;\">\n",
              "      <th></th>\n",
              "      <th>price</th>\n",
              "    </tr>\n",
              "    <tr>\n",
              "      <th>storeLocation</th>\n",
              "      <th></th>\n",
              "    </tr>\n",
              "  </thead>\n",
              "  <tbody>\n",
              "    <tr>\n",
              "      <th>Austin</th>\n",
              "      <td>436116.89</td>\n",
              "    </tr>\n",
              "    <tr>\n",
              "      <th>Denver</th>\n",
              "      <td>929942.08</td>\n",
              "    </tr>\n",
              "    <tr>\n",
              "      <th>London</th>\n",
              "      <td>501452.82</td>\n",
              "    </tr>\n",
              "    <tr>\n",
              "      <th>New York</th>\n",
              "      <td>311750.43</td>\n",
              "    </tr>\n",
              "    <tr>\n",
              "      <th>San Diego</th>\n",
              "      <td>225134.90</td>\n",
              "    </tr>\n",
              "    <tr>\n",
              "      <th>Seattle</th>\n",
              "      <td>698159.52</td>\n",
              "    </tr>\n",
              "  </tbody>\n",
              "</table>\n",
              "</div>\n",
              "      <button class=\"colab-df-convert\" onclick=\"convertToInteractive('df-19158b27-a2e0-4421-9293-239e682851e6')\"\n",
              "              title=\"Convert this dataframe to an interactive table.\"\n",
              "              style=\"display:none;\">\n",
              "        \n",
              "  <svg xmlns=\"http://www.w3.org/2000/svg\" height=\"24px\"viewBox=\"0 0 24 24\"\n",
              "       width=\"24px\">\n",
              "    <path d=\"M0 0h24v24H0V0z\" fill=\"none\"/>\n",
              "    <path d=\"M18.56 5.44l.94 2.06.94-2.06 2.06-.94-2.06-.94-.94-2.06-.94 2.06-2.06.94zm-11 1L8.5 8.5l.94-2.06 2.06-.94-2.06-.94L8.5 2.5l-.94 2.06-2.06.94zm10 10l.94 2.06.94-2.06 2.06-.94-2.06-.94-.94-2.06-.94 2.06-2.06.94z\"/><path d=\"M17.41 7.96l-1.37-1.37c-.4-.4-.92-.59-1.43-.59-.52 0-1.04.2-1.43.59L10.3 9.45l-7.72 7.72c-.78.78-.78 2.05 0 2.83L4 21.41c.39.39.9.59 1.41.59.51 0 1.02-.2 1.41-.59l7.78-7.78 2.81-2.81c.8-.78.8-2.07 0-2.86zM5.41 20L4 18.59l7.72-7.72 1.47 1.35L5.41 20z\"/>\n",
              "  </svg>\n",
              "      </button>\n",
              "      \n",
              "  <style>\n",
              "    .colab-df-container {\n",
              "      display:flex;\n",
              "      flex-wrap:wrap;\n",
              "      gap: 12px;\n",
              "    }\n",
              "\n",
              "    .colab-df-convert {\n",
              "      background-color: #E8F0FE;\n",
              "      border: none;\n",
              "      border-radius: 50%;\n",
              "      cursor: pointer;\n",
              "      display: none;\n",
              "      fill: #1967D2;\n",
              "      height: 32px;\n",
              "      padding: 0 0 0 0;\n",
              "      width: 32px;\n",
              "    }\n",
              "\n",
              "    .colab-df-convert:hover {\n",
              "      background-color: #E2EBFA;\n",
              "      box-shadow: 0px 1px 2px rgba(60, 64, 67, 0.3), 0px 1px 3px 1px rgba(60, 64, 67, 0.15);\n",
              "      fill: #174EA6;\n",
              "    }\n",
              "\n",
              "    [theme=dark] .colab-df-convert {\n",
              "      background-color: #3B4455;\n",
              "      fill: #D2E3FC;\n",
              "    }\n",
              "\n",
              "    [theme=dark] .colab-df-convert:hover {\n",
              "      background-color: #434B5C;\n",
              "      box-shadow: 0px 1px 3px 1px rgba(0, 0, 0, 0.15);\n",
              "      filter: drop-shadow(0px 1px 2px rgba(0, 0, 0, 0.3));\n",
              "      fill: #FFFFFF;\n",
              "    }\n",
              "  </style>\n",
              "\n",
              "      <script>\n",
              "        const buttonEl =\n",
              "          document.querySelector('#df-19158b27-a2e0-4421-9293-239e682851e6 button.colab-df-convert');\n",
              "        buttonEl.style.display =\n",
              "          google.colab.kernel.accessAllowed ? 'block' : 'none';\n",
              "\n",
              "        async function convertToInteractive(key) {\n",
              "          const element = document.querySelector('#df-19158b27-a2e0-4421-9293-239e682851e6');\n",
              "          const dataTable =\n",
              "            await google.colab.kernel.invokeFunction('convertToInteractive',\n",
              "                                                     [key], {});\n",
              "          if (!dataTable) return;\n",
              "\n",
              "          const docLinkHtml = 'Like what you see? Visit the ' +\n",
              "            '<a target=\"_blank\" href=https://colab.research.google.com/notebooks/data_table.ipynb>data table notebook</a>'\n",
              "            + ' to learn more about interactive tables.';\n",
              "          element.innerHTML = '';\n",
              "          dataTable['output_type'] = 'display_data';\n",
              "          await google.colab.output.renderOutput(dataTable, element);\n",
              "          const docLink = document.createElement('div');\n",
              "          docLink.innerHTML = docLinkHtml;\n",
              "          element.appendChild(docLink);\n",
              "        }\n",
              "      </script>\n",
              "    </div>\n",
              "  </div>\n",
              "  "
            ]
          },
          "metadata": {},
          "execution_count": 117
        }
      ]
    },
    {
      "cell_type": "code",
      "source": [
        "df_purchase =df_complete[['storeLocation',\t'price']].groupby('storeLocation').sum()\n",
        "df_purchase.plot(kind='bar', figsize=(15,8))\n",
        "plt.ticklabel_format(style='plain', axis='y')\n",
        "plt.xlabel('Locais de compra')\n",
        "plt.ylabel('Total de vendas (US$)')\n"
      ],
      "metadata": {
        "colab": {
          "base_uri": "https://localhost:8080/",
          "height": 555
        },
        "outputId": "e027d837-cdad-4938-8756-e0cf10036be6",
        "id": "00XdG3lYk0Uc"
      },
      "execution_count": null,
      "outputs": [
        {
          "output_type": "execute_result",
          "data": {
            "text/plain": [
              "Text(0, 0.5, 'Total de vendas (US$)')"
            ]
          },
          "metadata": {},
          "execution_count": 118
        },
        {
          "output_type": "display_data",
          "data": {
            "text/plain": [
              "<Figure size 1080x576 with 1 Axes>"
            ],
            "image/png": "[encoded data removed]"
          },
          "metadata": {
            "needs_background": "light"
          }
        }
      ]
    },
    {
      "cell_type": "markdown",
      "source": [
        "Um cuidado importante é sobre um simples size() nas colunas: saleDate,\tstoreLocation,\tcouponUsed,\tpurchaseMethod,\tgender,\tage,\temail,\tsatisfaction, pois essas colunas acabam sendo \"duplicadas\" para cada produto comprado."
      ],
      "metadata": {
        "id": "zTtmxqVom9z3"
      }
    },
    {
      "cell_type": "markdown",
      "source": [
        "### Quantidade de produtos vendidos por gênero"
      ],
      "metadata": {
        "id": "bBZKQj_Ps06f"
      }
    },
    {
      "cell_type": "code",
      "source": [
        "df_complete.quantity.sum()"
      ],
      "metadata": {
        "colab": {
          "base_uri": "https://localhost:8080/"
        },
        "id": "NNQfrZL5tkn7",
        "outputId": "1e411895-ecb7-4bb8-a414-fdcd334c3f2b"
      },
      "execution_count": null,
      "outputs": [
        {
          "output_type": "execute_result",
          "data": {
            "text/plain": [
              "110867"
            ]
          },
          "metadata": {},
          "execution_count": 141
        }
      ]
    },
    {
      "cell_type": "code",
      "source": [
        "df_complete.groupby(['name','gender'])['quantity'].sum()"
      ],
      "metadata": {
        "colab": {
          "base_uri": "https://localhost:8080/"
        },
        "id": "3p7g9jinsfDj",
        "outputId": "5b5c6c89-12e8-418d-978e-7c8150b61f44"
      },
      "execution_count": null,
      "outputs": [
        {
          "output_type": "execute_result",
          "data": {
            "text/plain": [
              "name           gender\n",
              "backpack       F          3394\n",
              "               M          3524\n",
              "binder         F         12593\n",
              "               M         12900\n",
              "envelopes      F         12533\n",
              "               M         12545\n",
              "laptop         F          3472\n",
              "               M          3321\n",
              "notepad        F         10532\n",
              "               M         10195\n",
              "pens           F          7027\n",
              "               M          6739\n",
              "printer paper  F          6393\n",
              "               M          5699\n",
              "Name: quantity, dtype: int64"
            ]
          },
          "metadata": {},
          "execution_count": 140
        }
      ]
    },
    {
      "cell_type": "code",
      "source": [
        "df_complete.groupby(['name','gender'])['quantity'].sum().unstack().plot(kind='bar', stacked=True, figsize=(10,6))\n",
        "plt.show()"
      ],
      "metadata": {
        "colab": {
          "base_uri": "https://localhost:8080/",
          "height": 444
        },
        "id": "cGcF6jEIqnBe",
        "outputId": "5b274318-2906-42a3-82c3-fe5312164ef5"
      },
      "execution_count": null,
      "outputs": [
        {
          "output_type": "display_data",
          "data": {
            "text/plain": [
              "<Figure size 720x432 with 1 Axes>"
            ],
            "image/png": "[encoded data removed]"
          },
          "metadata": {
            "needs_background": "light"
          }
        }
      ]
    },
    {
      "cell_type": "markdown",
      "source": [
        "Em porcentagem"
      ],
      "metadata": {
        "id": "s4dTAybas_uk"
      }
    },
    {
      "cell_type": "code",
      "source": [
        "df_complete.groupby(['name','gender'])['quantity'].sum().groupby(level=0).apply(lambda x: 100*x/x.sum())"
      ],
      "metadata": {
        "colab": {
          "base_uri": "https://localhost:8080/"
        },
        "id": "TlPu5HPjsqsT",
        "outputId": "bd75bc43-f9b2-4fe9-dddd-451e1f8aa02e"
      },
      "execution_count": null,
      "outputs": [
        {
          "output_type": "execute_result",
          "data": {
            "text/plain": [
              "name           gender\n",
              "backpack       F         49.060422\n",
              "               M         50.939578\n",
              "binder         F         49.397874\n",
              "               M         50.602126\n",
              "envelopes      F         49.976075\n",
              "               M         50.023925\n",
              "laptop         F         51.111438\n",
              "               M         48.888562\n",
              "notepad        F         50.812949\n",
              "               M         49.187051\n",
              "pens           F         51.046055\n",
              "               M         48.953945\n",
              "printer paper  F         52.869666\n",
              "               M         47.130334\n",
              "Name: quantity, dtype: float64"
            ]
          },
          "metadata": {},
          "execution_count": 143
        }
      ]
    },
    {
      "cell_type": "code",
      "source": [
        "df_complete.groupby(['name','gender'])['quantity'].sum().groupby(level=0).apply(lambda x: 100*x/x.sum()).unstack().plot(kind='bar',stacked=True,figsize=(10,6))\n",
        "plt.gca().yaxis.set_major_formatter(mtick.PercentFormatter())\n",
        "plt.show()"
      ],
      "metadata": {
        "colab": {
          "base_uri": "https://localhost:8080/",
          "height": 444
        },
        "id": "NlbkiPj7rDHl",
        "outputId": "0406710a-e9a6-4a1a-b120-2bf7c119f113"
      },
      "execution_count": null,
      "outputs": [
        {
          "output_type": "display_data",
          "data": {
            "text/plain": [
              "<Figure size 720x432 with 1 Axes>"
            ],
            "image/png": "[encoded data removed]"
          },
          "metadata": {
            "needs_background": "light"
          }
        }
      ]
    },
    {
      "cell_type": "markdown",
      "source": [
        "### Valores vendidos por gênero"
      ],
      "metadata": {
        "id": "mwxLlS3AtGnr"
      }
    },
    {
      "cell_type": "code",
      "source": [
        "df_complete.groupby(['name','gender'])['price'].sum()"
      ],
      "metadata": {
        "colab": {
          "base_uri": "https://localhost:8080/"
        },
        "outputId": "4a208ef0-ffd2-45c0-db24-a4a58dec0a5d",
        "id": "Z7ydEkAntGns"
      },
      "execution_count": null,
      "outputs": [
        {
          "output_type": "execute_result",
          "data": {
            "text/plain": [
              "name           gender\n",
              "backpack       F          132384.30\n",
              "               M          141020.56\n",
              "binder         F           46789.44\n",
              "               M           46858.77\n",
              "envelopes      F           33878.35\n",
              "               M           33787.74\n",
              "laptop         F         1118111.69\n",
              "               M         1135065.52\n",
              "notepad        F           77403.41\n",
              "               M           76703.97\n",
              "pens           F           98005.71\n",
              "               M           94561.92\n",
              "printer paper  F           35624.51\n",
              "               M           32360.75\n",
              "Name: price, dtype: float64"
            ]
          },
          "metadata": {},
          "execution_count": 145
        }
      ]
    },
    {
      "cell_type": "code",
      "source": [
        "df_complete.groupby(['name','gender'])['price'].sum().unstack().plot(kind='bar', stacked=True, figsize=(10,6))\n",
        "plt.show()"
      ],
      "metadata": {
        "colab": {
          "base_uri": "https://localhost:8080/",
          "height": 455
        },
        "outputId": "103c4e20-be11-4700-9c4e-955473bb94cc",
        "id": "6j7pGPCotGnu"
      },
      "execution_count": null,
      "outputs": [
        {
          "output_type": "display_data",
          "data": {
            "text/plain": [
              "<Figure size 720x432 with 1 Axes>"
            ],
            "image/png": "[encoded data removed]"
          },
          "metadata": {
            "needs_background": "light"
          }
        }
      ]
    },
    {
      "cell_type": "markdown",
      "source": [
        "Em porcentagem"
      ],
      "metadata": {
        "id": "QIV_UBuMtGnw"
      }
    },
    {
      "cell_type": "code",
      "source": [
        "df_complete.groupby(['name','gender'])['price'].sum().groupby(level=0).apply(lambda x: 100*x/x.sum())"
      ],
      "metadata": {
        "colab": {
          "base_uri": "https://localhost:8080/"
        },
        "outputId": "b5c89fe6-74da-45ce-fd32-00ab996becb3",
        "id": "r39zXZ9ttGnw"
      },
      "execution_count": null,
      "outputs": [
        {
          "output_type": "execute_result",
          "data": {
            "text/plain": [
              "name           gender\n",
              "backpack       F         48.420610\n",
              "               M         51.579390\n",
              "binder         F         49.962984\n",
              "               M         50.037016\n",
              "envelopes      F         50.066954\n",
              "               M         49.933046\n",
              "laptop         F         49.623779\n",
              "               M         50.376221\n",
              "notepad        F         50.226933\n",
              "               M         49.773067\n",
              "pens           F         50.894177\n",
              "               M         49.105823\n",
              "printer paper  F         52.400344\n",
              "               M         47.599656\n",
              "Name: price, dtype: float64"
            ]
          },
          "metadata": {},
          "execution_count": 147
        }
      ]
    },
    {
      "cell_type": "code",
      "source": [
        "df_complete.groupby(['name','gender'])['price'].sum().groupby(level=0).apply(lambda x: 100*x/x.sum()).unstack().plot(kind='bar',stacked=True,figsize=(10,6))\n",
        "plt.gca().yaxis.set_major_formatter(mtick.PercentFormatter())\n",
        "plt.show()"
      ],
      "metadata": {
        "colab": {
          "base_uri": "https://localhost:8080/",
          "height": 444
        },
        "outputId": "4f75b499-4186-4212-bc4a-df18777ad5d8",
        "id": "qeQO6VCEtGnx"
      },
      "execution_count": null,
      "outputs": [
        {
          "output_type": "display_data",
          "data": {
            "text/plain": [
              "<Figure size 720x432 with 1 Axes>"
            ],
            "image/png": "[encoded data removed]"
          },
          "metadata": {
            "needs_background": "light"
          }
        }
      ]
    },
    {
      "cell_type": "markdown",
      "source": [
        "# Envio para o MongoDB"
      ],
      "metadata": {
        "id": "XfQHot3nvGd7"
      }
    },
    {
      "cell_type": "markdown",
      "source": [
        "Envio da base tratatda para o MongoDB, e para relembrar, logo abaixo como salvar o df em csv"
      ],
      "metadata": {
        "id": "fHAnCoUtwBix"
      }
    },
    {
      "cell_type": "code",
      "source": [
        "#salvar como csv \n",
        "# df_complete.to_csv('df_sales_tratado.csv',index=False)"
      ],
      "metadata": {
        "id": "nQBfJZCnvbV6"
      },
      "execution_count": null,
      "outputs": []
    },
    {
      "cell_type": "code",
      "source": [
        "df_complete"
      ],
      "metadata": {
        "colab": {
          "base_uri": "https://localhost:8080/",
          "height": 424
        },
        "id": "5bZVL26PwNqJ",
        "outputId": "cfa2b7ee-057c-47a1-8a4d-ab5b039526e4"
      },
      "execution_count": null,
      "outputs": [
        {
          "output_type": "execute_result",
          "data": {
            "text/plain": [
              "                     saleDate storeLocation  couponUsed purchaseMethod gender  \\\n",
              "0     2015-03-23 21:06:49.506        Denver        True         Online      M   \n",
              "1     2015-03-23 21:06:49.506        Denver        True         Online      M   \n",
              "2     2015-03-23 21:06:49.506        Denver        True         Online      M   \n",
              "3     2015-03-23 21:06:49.506        Denver        True         Online      M   \n",
              "4     2015-03-23 21:06:49.506        Denver        True         Online      M   \n",
              "...                       ...           ...         ...            ...    ...   \n",
              "27433 2014-08-18 06:25:49.739      New York       False         Online      M   \n",
              "27434 2014-08-18 06:25:49.739      New York       False         Online      M   \n",
              "27435 2014-08-18 06:25:49.739      New York       False         Online      M   \n",
              "27436 2014-08-18 06:25:49.739      New York       False         Online      M   \n",
              "27437 2014-08-18 06:25:49.739      New York       False         Online      M   \n",
              "\n",
              "       age               email satisfaction           name  \\\n",
              "0       42    cauho@witwuta.sv            4  printer paper   \n",
              "1       42    cauho@witwuta.sv            4        notepad   \n",
              "2       42    cauho@witwuta.sv            4           pens   \n",
              "3       42    cauho@witwuta.sv            4       backpack   \n",
              "4       42    cauho@witwuta.sv            4        notepad   \n",
              "...    ...                 ...          ...            ...   \n",
              "27433   33  lihzodud@voblep.ie            3      envelopes   \n",
              "27434   33  lihzodud@voblep.ie            3           pens   \n",
              "27435   33  lihzodud@voblep.ie            3         binder   \n",
              "27436   33  lihzodud@voblep.ie            3         laptop   \n",
              "27437   33  lihzodud@voblep.ie            3       backpack   \n",
              "\n",
              "                                        tags   price  quantity  \n",
              "0                       [office, stationary]   40.01         2  \n",
              "1                  [office, writing, school]   35.29         2  \n",
              "2      [writing, office, school, stationary]   56.12         5  \n",
              "3                     [school, travel, kids]   77.71         2  \n",
              "4                  [office, writing, school]   18.47         2  \n",
              "...                                      ...     ...       ...  \n",
              "27433          [stationary, office, general]   24.12         5  \n",
              "27434  [writing, office, school, stationary]   27.10         4  \n",
              "27435        [school, general, organization]   29.09         3  \n",
              "27436          [electronics, school, office]  598.79         2  \n",
              "27437                 [school, travel, kids]   70.90         3  \n",
              "\n",
              "[27438 rows x 12 columns]"
            ],
            "text/html": [
              "\n",
              "  <div id=\"df-3560db7d-88ab-42b4-8102-fe0643676ca7\">\n",
              "    <div class=\"colab-df-container\">\n",
              "      <div>\n",
              "<style scoped>\n",
              "    .dataframe tbody tr th:only-of-type {\n",
              "        vertical-align: middle;\n",
              "    }\n",
              "\n",
              "    .dataframe tbody tr th {\n",
              "        vertical-align: top;\n",
              "    }\n",
              "\n",
              "    .dataframe thead th {\n",
              "        text-align: right;\n",
              "    }\n",
              "</style>\n",
              "<table border=\"1\" class=\"dataframe\">\n",
              "  <thead>\n",
              "    <tr style=\"text-align: right;\">\n",
              "      <th></th>\n",
              "      <th>saleDate</th>\n",
              "      <th>storeLocation</th>\n",
              "      <th>couponUsed</th>\n",
              "      <th>purchaseMethod</th>\n",
              "      <th>gender</th>\n",
              "      <th>age</th>\n",
              "      <th>email</th>\n",
              "      <th>satisfaction</th>\n",
              "      <th>name</th>\n",
              "      <th>tags</th>\n",
              "      <th>price</th>\n",
              "      <th>quantity</th>\n",
              "    </tr>\n",
              "  </thead>\n",
              "  <tbody>\n",
              "    <tr>\n",
              "      <th>0</th>\n",
              "      <td>2015-03-23 21:06:49.506</td>\n",
              "      <td>Denver</td>\n",
              "      <td>True</td>\n",
              "      <td>Online</td>\n",
              "      <td>M</td>\n",
              "      <td>42</td>\n",
              "      <td>cauho@witwuta.sv</td>\n",
              "      <td>4</td>\n",
              "      <td>printer paper</td>\n",
              "      <td>[office, stationary]</td>\n",
              "      <td>40.01</td>\n",
              "      <td>2</td>\n",
              "    </tr>\n",
              "    <tr>\n",
              "      <th>1</th>\n",
              "      <td>2015-03-23 21:06:49.506</td>\n",
              "      <td>Denver</td>\n",
              "      <td>True</td>\n",
              "      <td>Online</td>\n",
              "      <td>M</td>\n",
              "      <td>42</td>\n",
              "      <td>cauho@witwuta.sv</td>\n",
              "      <td>4</td>\n",
              "      <td>notepad</td>\n",
              "      <td>[office, writing, school]</td>\n",
              "      <td>35.29</td>\n",
              "      <td>2</td>\n",
              "    </tr>\n",
              "    <tr>\n",
              "      <th>2</th>\n",
              "      <td>2015-03-23 21:06:49.506</td>\n",
              "      <td>Denver</td>\n",
              "      <td>True</td>\n",
              "      <td>Online</td>\n",
              "      <td>M</td>\n",
              "      <td>42</td>\n",
              "      <td>cauho@witwuta.sv</td>\n",
              "      <td>4</td>\n",
              "      <td>pens</td>\n",
              "      <td>[writing, office, school, stationary]</td>\n",
              "      <td>56.12</td>\n",
              "      <td>5</td>\n",
              "    </tr>\n",
              "    <tr>\n",
              "      <th>3</th>\n",
              "      <td>2015-03-23 21:06:49.506</td>\n",
              "      <td>Denver</td>\n",
              "      <td>True</td>\n",
              "      <td>Online</td>\n",
              "      <td>M</td>\n",
              "      <td>42</td>\n",
              "      <td>cauho@witwuta.sv</td>\n",
              "      <td>4</td>\n",
              "      <td>backpack</td>\n",
              "      <td>[school, travel, kids]</td>\n",
              "      <td>77.71</td>\n",
              "      <td>2</td>\n",
              "    </tr>\n",
              "    <tr>\n",
              "      <th>4</th>\n",
              "      <td>2015-03-23 21:06:49.506</td>\n",
              "      <td>Denver</td>\n",
              "      <td>True</td>\n",
              "      <td>Online</td>\n",
              "      <td>M</td>\n",
              "      <td>42</td>\n",
              "      <td>cauho@witwuta.sv</td>\n",
              "      <td>4</td>\n",
              "      <td>notepad</td>\n",
              "      <td>[office, writing, school]</td>\n",
              "      <td>18.47</td>\n",
              "      <td>2</td>\n",
              "    </tr>\n",
              "    <tr>\n",
              "      <th>...</th>\n",
              "      <td>...</td>\n",
              "      <td>...</td>\n",
              "      <td>...</td>\n",
              "      <td>...</td>\n",
              "      <td>...</td>\n",
              "      <td>...</td>\n",
              "      <td>...</td>\n",
              "      <td>...</td>\n",
              "      <td>...</td>\n",
              "      <td>...</td>\n",
              "      <td>...</td>\n",
              "      <td>...</td>\n",
              "    </tr>\n",
              "    <tr>\n",
              "      <th>27433</th>\n",
              "      <td>2014-08-18 06:25:49.739</td>\n",
              "      <td>New York</td>\n",
              "      <td>False</td>\n",
              "      <td>Online</td>\n",
              "      <td>M</td>\n",
              "      <td>33</td>\n",
              "      <td>lihzodud@voblep.ie</td>\n",
              "      <td>3</td>\n",
              "      <td>envelopes</td>\n",
              "      <td>[stationary, office, general]</td>\n",
              "      <td>24.12</td>\n",
              "      <td>5</td>\n",
              "    </tr>\n",
              "    <tr>\n",
              "      <th>27434</th>\n",
              "      <td>2014-08-18 06:25:49.739</td>\n",
              "      <td>New York</td>\n",
              "      <td>False</td>\n",
              "      <td>Online</td>\n",
              "      <td>M</td>\n",
              "      <td>33</td>\n",
              "      <td>lihzodud@voblep.ie</td>\n",
              "      <td>3</td>\n",
              "      <td>pens</td>\n",
              "      <td>[writing, office, school, stationary]</td>\n",
              "      <td>27.10</td>\n",
              "      <td>4</td>\n",
              "    </tr>\n",
              "    <tr>\n",
              "      <th>27435</th>\n",
              "      <td>2014-08-18 06:25:49.739</td>\n",
              "      <td>New York</td>\n",
              "      <td>False</td>\n",
              "      <td>Online</td>\n",
              "      <td>M</td>\n",
              "      <td>33</td>\n",
              "      <td>lihzodud@voblep.ie</td>\n",
              "      <td>3</td>\n",
              "      <td>binder</td>\n",
              "      <td>[school, general, organization]</td>\n",
              "      <td>29.09</td>\n",
              "      <td>3</td>\n",
              "    </tr>\n",
              "    <tr>\n",
              "      <th>27436</th>\n",
              "      <td>2014-08-18 06:25:49.739</td>\n",
              "      <td>New York</td>\n",
              "      <td>False</td>\n",
              "      <td>Online</td>\n",
              "      <td>M</td>\n",
              "      <td>33</td>\n",
              "      <td>lihzodud@voblep.ie</td>\n",
              "      <td>3</td>\n",
              "      <td>laptop</td>\n",
              "      <td>[electronics, school, office]</td>\n",
              "      <td>598.79</td>\n",
              "      <td>2</td>\n",
              "    </tr>\n",
              "    <tr>\n",
              "      <th>27437</th>\n",
              "      <td>2014-08-18 06:25:49.739</td>\n",
              "      <td>New York</td>\n",
              "      <td>False</td>\n",
              "      <td>Online</td>\n",
              "      <td>M</td>\n",
              "      <td>33</td>\n",
              "      <td>lihzodud@voblep.ie</td>\n",
              "      <td>3</td>\n",
              "      <td>backpack</td>\n",
              "      <td>[school, travel, kids]</td>\n",
              "      <td>70.90</td>\n",
              "      <td>3</td>\n",
              "    </tr>\n",
              "  </tbody>\n",
              "</table>\n",
              "<p>27438 rows × 12 columns</p>\n",
              "</div>\n",
              "      <button class=\"colab-df-convert\" onclick=\"convertToInteractive('df-3560db7d-88ab-42b4-8102-fe0643676ca7')\"\n",
              "              title=\"Convert this dataframe to an interactive table.\"\n",
              "              style=\"display:none;\">\n",
              "        \n",
              "  <svg xmlns=\"http://www.w3.org/2000/svg\" height=\"24px\"viewBox=\"0 0 24 24\"\n",
              "       width=\"24px\">\n",
              "    <path d=\"M0 0h24v24H0V0z\" fill=\"none\"/>\n",
              "    <path d=\"M18.56 5.44l.94 2.06.94-2.06 2.06-.94-2.06-.94-.94-2.06-.94 2.06-2.06.94zm-11 1L8.5 8.5l.94-2.06 2.06-.94-2.06-.94L8.5 2.5l-.94 2.06-2.06.94zm10 10l.94 2.06.94-2.06 2.06-.94-2.06-.94-.94-2.06-.94 2.06-2.06.94z\"/><path d=\"M17.41 7.96l-1.37-1.37c-.4-.4-.92-.59-1.43-.59-.52 0-1.04.2-1.43.59L10.3 9.45l-7.72 7.72c-.78.78-.78 2.05 0 2.83L4 21.41c.39.39.9.59 1.41.59.51 0 1.02-.2 1.41-.59l7.78-7.78 2.81-2.81c.8-.78.8-2.07 0-2.86zM5.41 20L4 18.59l7.72-7.72 1.47 1.35L5.41 20z\"/>\n",
              "  </svg>\n",
              "      </button>\n",
              "      \n",
              "  <style>\n",
              "    .colab-df-container {\n",
              "      display:flex;\n",
              "      flex-wrap:wrap;\n",
              "      gap: 12px;\n",
              "    }\n",
              "\n",
              "    .colab-df-convert {\n",
              "      background-color: #E8F0FE;\n",
              "      border: none;\n",
              "      border-radius: 50%;\n",
              "      cursor: pointer;\n",
              "      display: none;\n",
              "      fill: #1967D2;\n",
              "      height: 32px;\n",
              "      padding: 0 0 0 0;\n",
              "      width: 32px;\n",
              "    }\n",
              "\n",
              "    .colab-df-convert:hover {\n",
              "      background-color: #E2EBFA;\n",
              "      box-shadow: 0px 1px 2px rgba(60, 64, 67, 0.3), 0px 1px 3px 1px rgba(60, 64, 67, 0.15);\n",
              "      fill: #174EA6;\n",
              "    }\n",
              "\n",
              "    [theme=dark] .colab-df-convert {\n",
              "      background-color: #3B4455;\n",
              "      fill: #D2E3FC;\n",
              "    }\n",
              "\n",
              "    [theme=dark] .colab-df-convert:hover {\n",
              "      background-color: #434B5C;\n",
              "      box-shadow: 0px 1px 3px 1px rgba(0, 0, 0, 0.15);\n",
              "      filter: drop-shadow(0px 1px 2px rgba(0, 0, 0, 0.3));\n",
              "      fill: #FFFFFF;\n",
              "    }\n",
              "  </style>\n",
              "\n",
              "      <script>\n",
              "        const buttonEl =\n",
              "          document.querySelector('#df-3560db7d-88ab-42b4-8102-fe0643676ca7 button.colab-df-convert');\n",
              "        buttonEl.style.display =\n",
              "          google.colab.kernel.accessAllowed ? 'block' : 'none';\n",
              "\n",
              "        async function convertToInteractive(key) {\n",
              "          const element = document.querySelector('#df-3560db7d-88ab-42b4-8102-fe0643676ca7');\n",
              "          const dataTable =\n",
              "            await google.colab.kernel.invokeFunction('convertToInteractive',\n",
              "                                                     [key], {});\n",
              "          if (!dataTable) return;\n",
              "\n",
              "          const docLinkHtml = 'Like what you see? Visit the ' +\n",
              "            '<a target=\"_blank\" href=https://colab.research.google.com/notebooks/data_table.ipynb>data table notebook</a>'\n",
              "            + ' to learn more about interactive tables.';\n",
              "          element.innerHTML = '';\n",
              "          dataTable['output_type'] = 'display_data';\n",
              "          await google.colab.output.renderOutput(dataTable, element);\n",
              "          const docLink = document.createElement('div');\n",
              "          docLink.innerHTML = docLinkHtml;\n",
              "          element.appendChild(docLink);\n",
              "        }\n",
              "      </script>\n",
              "    </div>\n",
              "  </div>\n",
              "  "
            ]
          },
          "metadata": {},
          "execution_count": 149
        }
      ]
    },
    {
      "cell_type": "code",
      "source": [
        "db_sales = client['sales']\n",
        "collection_sales = db_sales['tratada']"
      ],
      "metadata": {
        "id": "Ffer82FsmdG5"
      },
      "execution_count": null,
      "outputs": []
    },
    {
      "cell_type": "code",
      "source": [
        "collection_sales.count_documents({})"
      ],
      "metadata": {
        "colab": {
          "base_uri": "https://localhost:8080/"
        },
        "id": "dgnR1THUw4RD",
        "outputId": "4a9db8a3-4adf-486d-b01f-290cc5dd1f73"
      },
      "execution_count": null,
      "outputs": [
        {
          "output_type": "execute_result",
          "data": {
            "text/plain": [
              "0"
            ]
          },
          "metadata": {},
          "execution_count": 151
        }
      ]
    },
    {
      "cell_type": "code",
      "source": [
        "df_dict = df_complete.to_dict(\"records\")\n",
        "\n",
        "collection_sales.insert_many(df_dict)"
      ],
      "metadata": {
        "colab": {
          "base_uri": "https://localhost:8080/"
        },
        "id": "d5w4yrEOm6Ym",
        "outputId": "1082e4f7-546e-48ec-e641-046dc06e73ec"
      },
      "execution_count": null,
      "outputs": [
        {
          "output_type": "execute_result",
          "data": {
            "text/plain": [
              "<pymongo.results.InsertManyResult at 0x7efd68023c70>"
            ]
          },
          "metadata": {},
          "execution_count": 152
        }
      ]
    },
    {
      "cell_type": "code",
      "source": [
        "collection_sales.count_documents({})"
      ],
      "metadata": {
        "colab": {
          "base_uri": "https://localhost:8080/"
        },
        "id": "1W9n-2Pdm8ev",
        "outputId": "a5db46da-ba1f-4ecd-801a-a6515e3c9712"
      },
      "execution_count": null,
      "outputs": [
        {
          "output_type": "execute_result",
          "data": {
            "text/plain": [
              "27438"
            ]
          },
          "metadata": {},
          "execution_count": 153
        }
      ]
    },
    {
      "cell_type": "code",
      "source": [
        "for x in collection_sales.find():\n",
        "  print(x)"
      ],
      "metadata": {
        "id": "-44NnCh_nDnn"
      },
      "execution_count": null,
      "outputs": []
    },
    {
      "cell_type": "code",
      "source": [
        "cursor = collection_sales.find({})\n",
        "df_sales_tratado= pd.DataFrame(list(cursor))"
      ],
      "metadata": {
        "id": "n6rT6sevnEOr"
      },
      "execution_count": null,
      "outputs": []
    },
    {
      "cell_type": "code",
      "source": [
        "df_sales_tratado"
      ],
      "metadata": {
        "colab": {
          "base_uri": "https://localhost:8080/",
          "height": 641
        },
        "id": "j5mRVgV1nHUJ",
        "outputId": "1a730061-00a3-48f7-8c02-e869cffbea7b"
      },
      "execution_count": null,
      "outputs": [
        {
          "output_type": "execute_result",
          "data": {
            "text/plain": [
              "                            _id                saleDate storeLocation  \\\n",
              "0      638bf8c8c9fbb60d1875b4b3 2015-03-23 21:06:49.506        Denver   \n",
              "1      638bf8c8c9fbb60d1875b4b4 2015-03-23 21:06:49.506        Denver   \n",
              "2      638bf8c8c9fbb60d1875b4b5 2015-03-23 21:06:49.506        Denver   \n",
              "3      638bf8c8c9fbb60d1875b4b6 2015-03-23 21:06:49.506        Denver   \n",
              "4      638bf8c8c9fbb60d1875b4b7 2015-03-23 21:06:49.506        Denver   \n",
              "...                         ...                     ...           ...   \n",
              "27433  638bf8c8c9fbb60d18761fdc 2014-08-18 06:25:49.739      New York   \n",
              "27434  638bf8c8c9fbb60d18761fdd 2014-08-18 06:25:49.739      New York   \n",
              "27435  638bf8c8c9fbb60d18761fde 2014-08-18 06:25:49.739      New York   \n",
              "27436  638bf8c8c9fbb60d18761fdf 2014-08-18 06:25:49.739      New York   \n",
              "27437  638bf8c8c9fbb60d18761fe0 2014-08-18 06:25:49.739      New York   \n",
              "\n",
              "       couponUsed purchaseMethod gender  age               email  \\\n",
              "0            True         Online      M   42    cauho@witwuta.sv   \n",
              "1            True         Online      M   42    cauho@witwuta.sv   \n",
              "2            True         Online      M   42    cauho@witwuta.sv   \n",
              "3            True         Online      M   42    cauho@witwuta.sv   \n",
              "4            True         Online      M   42    cauho@witwuta.sv   \n",
              "...           ...            ...    ...  ...                 ...   \n",
              "27433       False         Online      M   33  lihzodud@voblep.ie   \n",
              "27434       False         Online      M   33  lihzodud@voblep.ie   \n",
              "27435       False         Online      M   33  lihzodud@voblep.ie   \n",
              "27436       False         Online      M   33  lihzodud@voblep.ie   \n",
              "27437       False         Online      M   33  lihzodud@voblep.ie   \n",
              "\n",
              "       satisfaction           name                                   tags  \\\n",
              "0                 4  printer paper                   [office, stationary]   \n",
              "1                 4        notepad              [office, writing, school]   \n",
              "2                 4           pens  [writing, office, school, stationary]   \n",
              "3                 4       backpack                 [school, travel, kids]   \n",
              "4                 4        notepad              [office, writing, school]   \n",
              "...             ...            ...                                    ...   \n",
              "27433             3      envelopes          [stationary, office, general]   \n",
              "27434             3           pens  [writing, office, school, stationary]   \n",
              "27435             3         binder        [school, general, organization]   \n",
              "27436             3         laptop          [electronics, school, office]   \n",
              "27437             3       backpack                 [school, travel, kids]   \n",
              "\n",
              "        price  quantity  \n",
              "0       40.01         2  \n",
              "1       35.29         2  \n",
              "2       56.12         5  \n",
              "3       77.71         2  \n",
              "4       18.47         2  \n",
              "...       ...       ...  \n",
              "27433   24.12         5  \n",
              "27434   27.10         4  \n",
              "27435   29.09         3  \n",
              "27436  598.79         2  \n",
              "27437   70.90         3  \n",
              "\n",
              "[27438 rows x 13 columns]"
            ],
            "text/html": [
              "\n",
              "  <div id=\"df-08756a17-8c42-4c9b-80d3-b43c48dbb92f\">\n",
              "    <div class=\"colab-df-container\">\n",
              "      <div>\n",
              "<style scoped>\n",
              "    .dataframe tbody tr th:only-of-type {\n",
              "        vertical-align: middle;\n",
              "    }\n",
              "\n",
              "    .dataframe tbody tr th {\n",
              "        vertical-align: top;\n",
              "    }\n",
              "\n",
              "    .dataframe thead th {\n",
              "        text-align: right;\n",
              "    }\n",
              "</style>\n",
              "<table border=\"1\" class=\"dataframe\">\n",
              "  <thead>\n",
              "    <tr style=\"text-align: right;\">\n",
              "      <th></th>\n",
              "      <th>_id</th>\n",
              "      <th>saleDate</th>\n",
              "      <th>storeLocation</th>\n",
              "      <th>couponUsed</th>\n",
              "      <th>purchaseMethod</th>\n",
              "      <th>gender</th>\n",
              "      <th>age</th>\n",
              "      <th>email</th>\n",
              "      <th>satisfaction</th>\n",
              "      <th>name</th>\n",
              "      <th>tags</th>\n",
              "      <th>price</th>\n",
              "      <th>quantity</th>\n",
              "    </tr>\n",
              "  </thead>\n",
              "  <tbody>\n",
              "    <tr>\n",
              "      <th>0</th>\n",
              "      <td>638bf8c8c9fbb60d1875b4b3</td>\n",
              "      <td>2015-03-23 21:06:49.506</td>\n",
              "      <td>Denver</td>\n",
              "      <td>True</td>\n",
              "      <td>Online</td>\n",
              "      <td>M</td>\n",
              "      <td>42</td>\n",
              "      <td>cauho@witwuta.sv</td>\n",
              "      <td>4</td>\n",
              "      <td>printer paper</td>\n",
              "      <td>[office, stationary]</td>\n",
              "      <td>40.01</td>\n",
              "      <td>2</td>\n",
              "    </tr>\n",
              "    <tr>\n",
              "      <th>1</th>\n",
              "      <td>638bf8c8c9fbb60d1875b4b4</td>\n",
              "      <td>2015-03-23 21:06:49.506</td>\n",
              "      <td>Denver</td>\n",
              "      <td>True</td>\n",
              "      <td>Online</td>\n",
              "      <td>M</td>\n",
              "      <td>42</td>\n",
              "      <td>cauho@witwuta.sv</td>\n",
              "      <td>4</td>\n",
              "      <td>notepad</td>\n",
              "      <td>[office, writing, school]</td>\n",
              "      <td>35.29</td>\n",
              "      <td>2</td>\n",
              "    </tr>\n",
              "    <tr>\n",
              "      <th>2</th>\n",
              "      <td>638bf8c8c9fbb60d1875b4b5</td>\n",
              "      <td>2015-03-23 21:06:49.506</td>\n",
              "      <td>Denver</td>\n",
              "      <td>True</td>\n",
              "      <td>Online</td>\n",
              "      <td>M</td>\n",
              "      <td>42</td>\n",
              "      <td>cauho@witwuta.sv</td>\n",
              "      <td>4</td>\n",
              "      <td>pens</td>\n",
              "      <td>[writing, office, school, stationary]</td>\n",
              "      <td>56.12</td>\n",
              "      <td>5</td>\n",
              "    </tr>\n",
              "    <tr>\n",
              "      <th>3</th>\n",
              "      <td>638bf8c8c9fbb60d1875b4b6</td>\n",
              "      <td>2015-03-23 21:06:49.506</td>\n",
              "      <td>Denver</td>\n",
              "      <td>True</td>\n",
              "      <td>Online</td>\n",
              "      <td>M</td>\n",
              "      <td>42</td>\n",
              "      <td>cauho@witwuta.sv</td>\n",
              "      <td>4</td>\n",
              "      <td>backpack</td>\n",
              "      <td>[school, travel, kids]</td>\n",
              "      <td>77.71</td>\n",
              "      <td>2</td>\n",
              "    </tr>\n",
              "    <tr>\n",
              "      <th>4</th>\n",
              "      <td>638bf8c8c9fbb60d1875b4b7</td>\n",
              "      <td>2015-03-23 21:06:49.506</td>\n",
              "      <td>Denver</td>\n",
              "      <td>True</td>\n",
              "      <td>Online</td>\n",
              "      <td>M</td>\n",
              "      <td>42</td>\n",
              "      <td>cauho@witwuta.sv</td>\n",
              "      <td>4</td>\n",
              "      <td>notepad</td>\n",
              "      <td>[office, writing, school]</td>\n",
              "      <td>18.47</td>\n",
              "      <td>2</td>\n",
              "    </tr>\n",
              "    <tr>\n",
              "      <th>...</th>\n",
              "      <td>...</td>\n",
              "      <td>...</td>\n",
              "      <td>...</td>\n",
              "      <td>...</td>\n",
              "      <td>...</td>\n",
              "      <td>...</td>\n",
              "      <td>...</td>\n",
              "      <td>...</td>\n",
              "      <td>...</td>\n",
              "      <td>...</td>\n",
              "      <td>...</td>\n",
              "      <td>...</td>\n",
              "      <td>...</td>\n",
              "    </tr>\n",
              "    <tr>\n",
              "      <th>27433</th>\n",
              "      <td>638bf8c8c9fbb60d18761fdc</td>\n",
              "      <td>2014-08-18 06:25:49.739</td>\n",
              "      <td>New York</td>\n",
              "      <td>False</td>\n",
              "      <td>Online</td>\n",
              "      <td>M</td>\n",
              "      <td>33</td>\n",
              "      <td>lihzodud@voblep.ie</td>\n",
              "      <td>3</td>\n",
              "      <td>envelopes</td>\n",
              "      <td>[stationary, office, general]</td>\n",
              "      <td>24.12</td>\n",
              "      <td>5</td>\n",
              "    </tr>\n",
              "    <tr>\n",
              "      <th>27434</th>\n",
              "      <td>638bf8c8c9fbb60d18761fdd</td>\n",
              "      <td>2014-08-18 06:25:49.739</td>\n",
              "      <td>New York</td>\n",
              "      <td>False</td>\n",
              "      <td>Online</td>\n",
              "      <td>M</td>\n",
              "      <td>33</td>\n",
              "      <td>lihzodud@voblep.ie</td>\n",
              "      <td>3</td>\n",
              "      <td>pens</td>\n",
              "      <td>[writing, office, school, stationary]</td>\n",
              "      <td>27.10</td>\n",
              "      <td>4</td>\n",
              "    </tr>\n",
              "    <tr>\n",
              "      <th>27435</th>\n",
              "      <td>638bf8c8c9fbb60d18761fde</td>\n",
              "      <td>2014-08-18 06:25:49.739</td>\n",
              "      <td>New York</td>\n",
              "      <td>False</td>\n",
              "      <td>Online</td>\n",
              "      <td>M</td>\n",
              "      <td>33</td>\n",
              "      <td>lihzodud@voblep.ie</td>\n",
              "      <td>3</td>\n",
              "      <td>binder</td>\n",
              "      <td>[school, general, organization]</td>\n",
              "      <td>29.09</td>\n",
              "      <td>3</td>\n",
              "    </tr>\n",
              "    <tr>\n",
              "      <th>27436</th>\n",
              "      <td>638bf8c8c9fbb60d18761fdf</td>\n",
              "      <td>2014-08-18 06:25:49.739</td>\n",
              "      <td>New York</td>\n",
              "      <td>False</td>\n",
              "      <td>Online</td>\n",
              "      <td>M</td>\n",
              "      <td>33</td>\n",
              "      <td>lihzodud@voblep.ie</td>\n",
              "      <td>3</td>\n",
              "      <td>laptop</td>\n",
              "      <td>[electronics, school, office]</td>\n",
              "      <td>598.79</td>\n",
              "      <td>2</td>\n",
              "    </tr>\n",
              "    <tr>\n",
              "      <th>27437</th>\n",
              "      <td>638bf8c8c9fbb60d18761fe0</td>\n",
              "      <td>2014-08-18 06:25:49.739</td>\n",
              "      <td>New York</td>\n",
              "      <td>False</td>\n",
              "      <td>Online</td>\n",
              "      <td>M</td>\n",
              "      <td>33</td>\n",
              "      <td>lihzodud@voblep.ie</td>\n",
              "      <td>3</td>\n",
              "      <td>backpack</td>\n",
              "      <td>[school, travel, kids]</td>\n",
              "      <td>70.90</td>\n",
              "      <td>3</td>\n",
              "    </tr>\n",
              "  </tbody>\n",
              "</table>\n",
              "<p>27438 rows × 13 columns</p>\n",
              "</div>\n",
              "      <button class=\"colab-df-convert\" onclick=\"convertToInteractive('df-08756a17-8c42-4c9b-80d3-b43c48dbb92f')\"\n",
              "              title=\"Convert this dataframe to an interactive table.\"\n",
              "              style=\"display:none;\">\n",
              "        \n",
              "  <svg xmlns=\"http://www.w3.org/2000/svg\" height=\"24px\"viewBox=\"0 0 24 24\"\n",
              "       width=\"24px\">\n",
              "    <path d=\"M0 0h24v24H0V0z\" fill=\"none\"/>\n",
              "    <path d=\"M18.56 5.44l.94 2.06.94-2.06 2.06-.94-2.06-.94-.94-2.06-.94 2.06-2.06.94zm-11 1L8.5 8.5l.94-2.06 2.06-.94-2.06-.94L8.5 2.5l-.94 2.06-2.06.94zm10 10l.94 2.06.94-2.06 2.06-.94-2.06-.94-.94-2.06-.94 2.06-2.06.94z\"/><path d=\"M17.41 7.96l-1.37-1.37c-.4-.4-.92-.59-1.43-.59-.52 0-1.04.2-1.43.59L10.3 9.45l-7.72 7.72c-.78.78-.78 2.05 0 2.83L4 21.41c.39.39.9.59 1.41.59.51 0 1.02-.2 1.41-.59l7.78-7.78 2.81-2.81c.8-.78.8-2.07 0-2.86zM5.41 20L4 18.59l7.72-7.72 1.47 1.35L5.41 20z\"/>\n",
              "  </svg>\n",
              "      </button>\n",
              "      \n",
              "  <style>\n",
              "    .colab-df-container {\n",
              "      display:flex;\n",
              "      flex-wrap:wrap;\n",
              "      gap: 12px;\n",
              "    }\n",
              "\n",
              "    .colab-df-convert {\n",
              "      background-color: #E8F0FE;\n",
              "      border: none;\n",
              "      border-radius: 50%;\n",
              "      cursor: pointer;\n",
              "      display: none;\n",
              "      fill: #1967D2;\n",
              "      height: 32px;\n",
              "      padding: 0 0 0 0;\n",
              "      width: 32px;\n",
              "    }\n",
              "\n",
              "    .colab-df-convert:hover {\n",
              "      background-color: #E2EBFA;\n",
              "      box-shadow: 0px 1px 2px rgba(60, 64, 67, 0.3), 0px 1px 3px 1px rgba(60, 64, 67, 0.15);\n",
              "      fill: #174EA6;\n",
              "    }\n",
              "\n",
              "    [theme=dark] .colab-df-convert {\n",
              "      background-color: #3B4455;\n",
              "      fill: #D2E3FC;\n",
              "    }\n",
              "\n",
              "    [theme=dark] .colab-df-convert:hover {\n",
              "      background-color: #434B5C;\n",
              "      box-shadow: 0px 1px 3px 1px rgba(0, 0, 0, 0.15);\n",
              "      filter: drop-shadow(0px 1px 2px rgba(0, 0, 0, 0.3));\n",
              "      fill: #FFFFFF;\n",
              "    }\n",
              "  </style>\n",
              "\n",
              "      <script>\n",
              "        const buttonEl =\n",
              "          document.querySelector('#df-08756a17-8c42-4c9b-80d3-b43c48dbb92f button.colab-df-convert');\n",
              "        buttonEl.style.display =\n",
              "          google.colab.kernel.accessAllowed ? 'block' : 'none';\n",
              "\n",
              "        async function convertToInteractive(key) {\n",
              "          const element = document.querySelector('#df-08756a17-8c42-4c9b-80d3-b43c48dbb92f');\n",
              "          const dataTable =\n",
              "            await google.colab.kernel.invokeFunction('convertToInteractive',\n",
              "                                                     [key], {});\n",
              "          if (!dataTable) return;\n",
              "\n",
              "          const docLinkHtml = 'Like what you see? Visit the ' +\n",
              "            '<a target=\"_blank\" href=https://colab.research.google.com/notebooks/data_table.ipynb>data table notebook</a>'\n",
              "            + ' to learn more about interactive tables.';\n",
              "          element.innerHTML = '';\n",
              "          dataTable['output_type'] = 'display_data';\n",
              "          await google.colab.output.renderOutput(dataTable, element);\n",
              "          const docLink = document.createElement('div');\n",
              "          docLink.innerHTML = docLinkHtml;\n",
              "          element.appendChild(docLink);\n",
              "        }\n",
              "      </script>\n",
              "    </div>\n",
              "  </div>\n",
              "  "
            ]
          },
          "metadata": {},
          "execution_count": 157
        }
      ]
    }
  ]
}